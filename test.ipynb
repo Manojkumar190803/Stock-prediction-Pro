{
 "cells": [
  {
   "cell_type": "code",
   "execution_count": 1,
   "metadata": {},
   "outputs": [
    {
     "name": "stderr",
     "output_type": "stream",
     "text": [
      "C:\\Users\\manoj\\AppData\\Local\\Temp\\ipykernel_87224\\3016040074.py:18: FutureWarning: The behavior of DataFrame concatenation with empty or all-NA entries is deprecated. In a future version, this will no longer exclude empty or all-NA columns when determining the result dtypes. To retain the old behavior, exclude the relevant entries before the concat operation.\n",
      "  return pd.concat([\n"
     ]
    },
    {
     "name": "stdout",
     "output_type": "stream",
     "text": [
      "+-------------+-------------+-------------+------------+-------------+--------------+---------+----------------+-----------------+-----------------+------------------+------------------+-------------------+\n",
      "| entrydate   | indexcode   | indexname   |   dayrsi14 |   weekrsi14 |   monthrsi14 |    dltp |   daylowerband |   daymiddleband |   weeklowerband |   weekmiddleband |   monthlowerband |   monthmiddleband |\n",
      "|-------------+-------------+-------------+------------+-------------+--------------+---------+----------------+-----------------+-----------------+------------------+------------------+-------------------|\n",
      "| 12/01/2025  | ^CNXIT      | NIFTY IT    |      52.36 |       60.73 |        69.02 | 44233.7 |        42984.5 |         44614.8 |           40565 |          42922.5 |          26588.4 |           36473.4 |\n",
      "+-------------+-------------+-------------+------------+-------------+--------------+---------+----------------+-----------------+-----------------+------------------+------------------+-------------------+\n"
     ]
    }
   ],
   "source": [
    "# import pandas as pd\n",
    "# import datetime as dt\n",
    "# from pathlib import Path\n",
    "# import pandas_ta as ta\n",
    "# from tabulate import tabulate\n",
    "# import os\n",
    "\n",
    "# def append_row(df, row):\n",
    "#     \"\"\"Appends a new row to a pandas DataFrame.\n",
    "\n",
    "#     Args:\n",
    "#         df (pd.DataFrame): The existing DataFrame.\n",
    "#         row (pd.Series): The new row to append.\n",
    "\n",
    "#     Returns:\n",
    "#         pd.DataFrame: The DataFrame with the new row appended.\n",
    "#     \"\"\"\n",
    "#     return pd.concat([\n",
    "#         df,\n",
    "#         pd.DataFrame([row], columns=row.index)\n",
    "#     ]).reset_index(drop=True)\n",
    "\n",
    "# def getRSI14_and_BB(csvfilename):\n",
    "#     \"\"\"Calculates RSI (14 period) and Bollinger Bands (20 period, 2 std.dev) for a given CSV file.\n",
    "\n",
    "#     Args:\n",
    "#         csvfilename (str): Path to the CSV file.\n",
    "\n",
    "#     Returns:\n",
    "#         tuple: A tuple containing RSI value, last close price, lower band, and middle band.\n",
    "#         (float, float, float, float)\n",
    "#     \"\"\"\n",
    "#     if Path(csvfilename).is_file():\n",
    "#         try:\n",
    "#             df = pd.read_csv(csvfilename)\n",
    "#             if df.empty or 'Close' not in df.columns:\n",
    "#                 return 0.00, 0.00, 0.00, 0.00\n",
    "#             else:\n",
    "#                 df['Close'] = pd.to_numeric(df['Close'], errors='coerce')\n",
    "#                 df['rsi14'] = ta.rsi(df['Close'], length=14)\n",
    "#                 bb = ta.bbands(df['Close'], length=20)\n",
    "#                 if bb is None or df['rsi14'] is None:\n",
    "#                     return 0.00, 0.00, 0.00, 0.00\n",
    "#                 df['lowerband'] = bb['BBL_20_2.0']\n",
    "#                 df['middleband'] = bb['BBM_20_2.0']\n",
    "#                 if pd.isna(df['rsi14'].iloc[-1]) or pd.isna(df['lowerband'].iloc[-1]) or pd.isna(df['middleband'].iloc[-1]):\n",
    "#                     return 0.00, 0.00, 0.00, 0.00\n",
    "#                 else:\n",
    "#                     rsival = df['rsi14'].iloc[-1].round(2)\n",
    "#                     ltp = df['Close'].iloc[-1].round(2)\n",
    "#                     lowerband = df['lowerband'].iloc[-1].round(2)\n",
    "#                     middleband = df['middleband'].iloc[-1].round(2)\n",
    "#                     return rsival, ltp, lowerband, middleband\n",
    "#         except Exception as e:\n",
    "#             print(f\"Error reading {csvfilename}: {e}\")\n",
    "#             return 0.00, 0.00, 0.00, 0.00\n",
    "#     else:\n",
    "#         print(f\"File does not exist: {csvfilename}\")\n",
    "#         return 0.00, 0.00, 0.00, 0.00\n",
    "\n",
    "# def dayweekmonth_datasets(symbol, symbolname):\n",
    "#     \"\"\"Calculates RSI, Bollinger Bands, and other metrics for daily, weekly, and monthly data.\n",
    "\n",
    "#     Args:\n",
    "#         symbol (str): The symbol of the asset.\n",
    "#         symbolname (str): The name of the asset.\n",
    "\n",
    "#     Returns:\n",
    "#         pd.Series: A Series containing the calculated metrics.\n",
    "#     \"\"\"\n",
    "#     daylocationstr = f'DATASETS/Daily_Data/{symbol}.csv'\n",
    "#     weeklocationstr = f'DATASETS/Weekly_Data/{symbol}.csv'\n",
    "#     monthlocationstr = f'DATASETS/Monthly_Data/{symbol}.csv'\n",
    "\n",
    "#     cday = dt.datetime.today().strftime('%d/%m/%Y')\n",
    "#     dayrsi14, dltp, daylowerband, daymiddleband = getRSI14_and_BB(daylocationstr)\n",
    "#     weekrsi14, wltp, weeklowerband, weekmiddleband = getRSI14_and_BB(weeklocationstr)\n",
    "#     monthrsi14, mltp, monthlowerband, monthmiddleband = getRSI14_and_BB(monthlocationstr)\n",
    "\n",
    "#     new_row = pd.Series({\n",
    "#         'entrydate': cday,\n",
    "#         'indexcode': symbol,\n",
    "#         'indexname': symbolname,\n",
    "#         'dayrsi14': dayrsi14,\n",
    "#         'weekrsi14': weekrsi14,\n",
    "#         'monthrsi14': monthrsi14,\n",
    "#         'dltp': dltp,\n",
    "#         'daylowerband': daylowerband,\n",
    "#         'daymiddleband': daymiddleband,\n",
    "#         'weeklowerband': weeklowerband,\n",
    "#         'weekmiddleband': weekmiddleband,\n",
    "#         'monthlowerband': monthlowerband,\n",
    "#         'monthmiddleband': monthmiddleband\n",
    "#     })\n",
    "#     return new_row\n",
    "\n",
    "# def generateGFS(scripttype):\n",
    "#     \"\"\"Generates the GFS report based on the provided scripttype.\n",
    "\n",
    "#     Args:\n",
    "#         scripttype (str): The name of the scripttype file.\n",
    "\n",
    "#     Returns:\n",
    "#         pd.DataFrame: The DataFrame containing the GFS report.\n",
    "#     \"\"\"\n",
    "#     indicesdf = pd.DataFrame(columns=['entrydate', 'indexcode', 'indexname', 'dayrsi14', 'weekrsi14', 'monthrsi14', 'dltp', 'daylowerband', 'daymiddleband', 'weeklowerband', 'weekmiddleband', 'monthlowerband', 'monthmiddleband'])\n",
    "\n",
    "#     fname = f'DATASETS/{scripttype}.csv'\n",
    "#     csvfilename = f'GFS_{scripttype}.csv'\n",
    "#     try:\n",
    "#         with open(fname) as f:\n",
    "#             for line in f:\n",
    "#                 if \",\" not in line:\n",
    "#                     continue\n",
    "#                 symbol, symbolname = line.split(\",\")[0], line.split(\",\")[1]\n",
    "#                 symbol = symbol.replace(\"\\n\", \"\")\n",
    "#                 new_row = dayweekmonth_datasets(symbol, symbolname)\n",
    "#                 indicesdf = append_row(indicesdf, new_row)\n",
    "#     except Exception as e:\n",
    "#         print(f\"Error processing {fname}: {e}\")\n",
    "\n",
    "#     indicesdf.to_csv(csvfilename, index=False)\n",
    "#     return indicesdf\n",
    "\n",
    "# # Assuming 'DATASETS/indicesdf.csv' exists and is in the correct format\n",
    "# df3 = generateGFS('indicesdf')\n",
    "\n",
    "# df4 = df3.loc[\n",
    "#     (df3['monthrsi14'] >= 60.00) &\n",
    "#     (df3['weekrsi14'] >= 60.00) &\n",
    "#     df3['dayrsi14'].between(30, 70) &\n",
    "#     (df3['dltp'] > df3['daylowerband']) &\n",
    "#     (df3['dltp'] < df3['daymiddleband'])\n",
    "# ]\n",
    "\n",
    "# df4 = df4.sort_values(by=['dayrsi14'], ascending=True)\n",
    "\n",
    "# if df4.empty:\n",
    "#     print(\"\\033[1mNO INDICES QUALIFIES THE GFS CRITERIA\\033[0m\")\n",
    "# else:\n",
    "#     print(tabulate(df4, headers='keys', tablefmt='psql', showindex=False))"
   ]
  },
  {
   "cell_type": "markdown",
   "metadata": {},
   "source": [
    "TESTING\n"
   ]
  },
  {
   "cell_type": "code",
   "execution_count": 3,
   "metadata": {},
   "outputs": [
    {
     "name": "stdout",
     "output_type": "stream",
     "text": [
      "+--------------+---------------+---------------+---------------+---------------+--------------+---------------+---------------+---------------+---------------+---------------+---------------+---------------+---------------+--------------+---------------+---------------+---------------+-------------+-------------+---------------+-------------+---------------+--------------+---------------+-------------+-------------+-------------+--------------+-------------+-------------+-------------+-------------+--------------+-------------+-------------+--------------+-------------+-------------+-------------+--------------+-------------+---------------+---------------+--------------+-------------+-------------+---------------+-------------+-------------+\n",
      "| Index Code   | Column 1      | Column 2      | Column 3      | Column 4      | Column 5     | Column 6      | Column 7      | Column 8      | Column 9      | Column 10     | Column 11     | Column 12     | Column 13     | Column 14    | Column 15     | Column 16     | Column 17     | Column 18   | Column 19   | Column 20     | Column 21   | Column 22     | Column 23    | Column 24     | Column 25   | Column 26   | Column 27   | Column 28    | Column 29   | Column 30   | Column 31   | Column 32   | Column 33    | Column 34   | Column 35   | Column 36    | Column 37   | Column 38   | Column 39   | Column 40    | Column 41   | Column 42     | Column 43     | Column 44    | Column 45   | Column 46   | Column 47     | Column 48   | Column 49   |\n",
      "|--------------+---------------+---------------+---------------+---------------+--------------+---------------+---------------+---------------+---------------+---------------+---------------+---------------+---------------+--------------+---------------+---------------+---------------+-------------+-------------+---------------+-------------+---------------+--------------+---------------+-------------+-------------+-------------+--------------+-------------+-------------+-------------+-------------+--------------+-------------+-------------+--------------+-------------+-------------+-------------+--------------+-------------+---------------+---------------+--------------+-------------+-------------+---------------+-------------+-------------|\n",
      "| ^NSEI        | ADANIENT.NS   | ADANIPORTS.NS | APOLLOHOSP.NS | ASIANPAINT.NS | AXISBANK.NS  | BAJAJ-AUTO.NS | BAJFINANCE.NS | BPCL.NS       | BHARTIARTL.NS | BRITANNIA.NS  | CIPLA.NS      | COALINDIA.NS  | DIVISLAB.NS   | DRREDDY.NS   | EICHERMOT.NS  | GRASIM.NS     | HCLTECH.NS    | HDFCBANK.NS | HDFCLIFE.NS | HEROMOTOCO.NS | HINDALCO.NS | HINDUNILVR.NS | ICICIBANK.NS | INDUSINDBK.NS | INFY.NS     | ITC.NS      | JSWSTEEL.NS | KOTAKBANK.NS | LT.NS       | LTIM.NS     | M&M.NS      | MARUTI.NS   | NESTLEIND.NS | NTPC.NS     | ONGC.NS     | POWERGRID.NS | RELIANCE.NS | SBILIFE.NS  | SBIN.NS     | SUNPHARMA.NS | TCS.NS      | TATACONSUM.NS | TATAMOTORS.NS | TATASTEEL.NS | TECHM.NS    | TITAN.NS    | ULTRACEMCO.NS | UPL.NS      | WIPRO.NS    |\n",
      "| ^CNXAUTO     | TATAMOTORS.NS | MARUTI.NS     | M&M.NS        | HEROMOTOCO.NS | EICHERMOT.NS | BAJAJ-AUTO.NS | TVSMOTOR.NS   | MOTHERSON.NS  | MOTHERSON.NS  | BHARATFORG.NS | TATAMTRDVR.NS | BOSCHLTD.NS   | BOSCHLTD.NS   | MRF.NS       | BALKRISIND.NS | EXIDEIND.NS   | APOLLOTYRE.NS | ASHOKLEY.NS |             |               |             |               |              |               |             |             |             |              |             |             |             |             |              |             |             |              |             |             |             |              |             |               |               |              |             |             |               |             |             |\n",
      "| ^NSEBANK     | HDFCBANK.NS   | ICICIBANK.NS  | AXISBANK.NS   | KOTAKBANK.NS  | SBIN.NS      | INDUSINDBK.NS | FEDERALBNK.NS | PNB.NS        | BANKBARODA.NS | AUBANK.NS     | IDFCFIRSTB.NS | BANDHANBNK.NS |               |              |               |               |               |             |             |               |             |               |              |               |             |             |             |              |             |             |             |             |              |             |             |              |             |             |             |              |             |               |               |              |             |             |               |             |             |\n",
      "| ^CNXFMCG     | HINDUNILVR.NS | DABUR.NS      | ITC.NS        | BRITANNIA.NS  | NESTLEIND.NS | TATACONSUM.NS | TATACONSUM.NS | VBL.NS        | GODREJCP.NS   | COLPAL.NS     | UNITDSPR.NS   | MARICO.NS     | PGHH.NS       | UBL.NS       | RADICO.NS     | BALRAMCHIN.NS |               |             |             |               |             |               |              |               |             |             |             |              |             |             |             |             |              |             |             |              |             |             |             |              |             |               |               |              |             |             |               |             |             |\n",
      "| ^CNXIT       | TCS.NS        | INFY.NS       | WIPRO.NS      | HCLTECH.NS    | TECHM.NS     | LTIM.NS       | PERSISTENT.NS | MPHASIS.NS    | LTTS.NS       |               |               |               |               |              |               |               |               |             |             |               |             |               |              |               |             |             |             |              |             |             |             |             |              |             |             |              |             |             |             |              |             |               |               |              |             |             |               |             |             |\n",
      "| ^CNXMETAL    | TATASTEEL.NS  | JSWSTEEL.NS   | HINDALCO.NS   | COALINDIA.NS  | VEDL.NS      | JSL.NS        | ADANIENT.NS   | NMDC.NS       | SAIL.NS       | HINDZINC.NS   | HINDCOPPER.NS | APLAPOLLO.NS  | RATNAMANI.NS  | WELCORP.NS   |               |               |               |             |             |               |             |               |              |               |             |             |             |              |             |             |             |             |              |             |             |              |             |             |             |              |             |               |               |              |             |             |               |             |             |\n",
      "| ^CNXPHARMA   | SUNPHARMA.NS  | CIPLA.NS      | DRREDDY.NS    | LUPIN.NS      | AARTIIND.NS  | AUROPHARMA.NS | TORNTPHARM.NS | MANKIND.NS    | IPCALAB.NS    | ALKEM.NS      | DIVISLAB.NS   | LAURUSLABS.NS | ABBOTINDIA.NS | ZYDUSLIFE.NS | NATCOPHARM.NS | GLAND.NS      | BIOCON.NS     | GLENMARK.NS | SANOFI.NS   | JBCHEPHARM.NS | GRANULES.NS |               |              |               |             |             |             |              |             |             |             |             |              |             |             |              |             |             |             |              |             |               |               |              |             |             |               |             |             |\n",
      "| ^CNXREALTY   | DLF.NS        | GODREJPROP.NS | OBEROIRLTY.NS | BRIGADE.NS    | LODHA.NS     | PRESTIGE.NS   | SOBHA.NS      | MAHLIFE.NS    | PHOENIXLTD.NS | BRIGADE.NS    | SUNTECK.NS    |               |               |              |               |               |               |             |             |               |             |               |              |               |             |             |             |              |             |             |             |             |              |             |             |              |             |             |             |              |             |               |               |              |             |             |               |             |             |\n",
      "| ^CNXMEDIA    | ZEEMEDIA.NS   | SUNTV.NS      | TV18BRDCST.NS | SAREGAMA.NS   | NETWORK18.NS | NAZARA.NS     | PVRINOX.NS    | DISHTV.NS     | HATHWAY.NS    |               |               |               |               |              |               |               |               |             |             |               |             |               |              |               |             |             |             |              |             |             |             |             |              |             |             |              |             |             |             |              |             |               |               |              |             |             |               |             |             |\n",
      "| ^CNXCONSUM   | TITAN.NS      | POLYCAB.NS    | BLUESTARCO.NS | CROMPTON.NS   | VOLTAS.NS    | DIXON.NS      | KAJARIACER.NS | KALYANKJIL.NS | CERA.NS       | VGUARD.NS     | HAVELLS.NS    | VOLTAS.NS     | BATAINDIA.NS  | WHIRLPOOL.NS | CENTURYPLY.NS | RAJESHEXPO.NS |               |             |             |               |             |               |              |               |             |             |             |              |             |             |             |             |              |             |             |              |             |             |             |              |             |               |               |              |             |             |               |             |             |\n",
      "+--------------+---------------+---------------+---------------+---------------+--------------+---------------+---------------+---------------+---------------+---------------+---------------+---------------+---------------+--------------+---------------+---------------+---------------+-------------+-------------+---------------+-------------+---------------+--------------+---------------+-------------+-------------+-------------+--------------+-------------+-------------+-------------+-------------+--------------+-------------+-------------+--------------+-------------+-------------+-------------+--------------+-------------+---------------+---------------+--------------+-------------+-------------+---------------+-------------+-------------+\n"
     ]
    }
   ],
   "source": [
    "# import os\n",
    "# from tabulate import tabulate\n",
    "\n",
    "# def traverse_files(file1_path, file2_path):\n",
    "#     # Read the first file\n",
    "#     with open(file1_path, 'r') as f1:\n",
    "#         file1_data = f1.readlines()\n",
    "\n",
    "#     # Read the second file\n",
    "#     with open(file2_path, 'r') as f2:\n",
    "#         file2_data = f2.readlines()\n",
    "\n",
    "#     # Use a dictionary to store the second file's data by its first column values\n",
    "#     file2_dict = {}\n",
    "#     for line in file2_data:\n",
    "#         # Strip whitespace and split by commas\n",
    "#         parts = line.strip().split(',')\n",
    "#         if parts:  # Ensure line is not empty\n",
    "#             # Store the rest of the data by the first column\n",
    "#             file2_dict[parts[0]] = parts[1:]\n",
    "\n",
    "#     # Store matched results\n",
    "#     matched_results = []\n",
    "\n",
    "#     # Traverse through the first file and check for matches in the second file\n",
    "#     for line in file1_data:\n",
    "#         # Strip whitespace and split by commas\n",
    "#         parts = line.strip().split(',')\n",
    "#         if parts and parts[0] in file2_dict:\n",
    "#             # Prepare the matched result\n",
    "#             matched_results.append([parts[0]] + file2_dict[parts[0]])\n",
    "\n",
    "#     # Print the matched results in a tabular format\n",
    "#     if matched_results:\n",
    "#         headers = ['Index Code'] + [f'Column {i+1}' for i in range(len(matched_results[0]) - 1)]\n",
    "#         print(tabulate(matched_results, headers=headers, tablefmt='psql'))\n",
    "#     else:\n",
    "#         print(\"No matches found!\")\n",
    "\n",
    "# # Specify the paths to your files\n",
    "# file1_path = r\"C:\\\\Users\\manoj\\Downloads\\Major project data\\Major pro source codes\\DATASETS\\indicesdf.csv\"  # Replace with your actual file path\n",
    "# file2_path = r\"C:\\\\Users\\manoj\\Downloads\\Major project data\\Major pro source codes\\DATASETS\\indicesstocks.csv\"  # Replace with your actual file path\n",
    "\n",
    "# # Call the function\n",
    "# traverse_files(file1_path, file2_path)"
   ]
  },
  {
   "cell_type": "code",
   "execution_count": null,
   "metadata": {},
   "outputs": [],
   "source": [
    "# import pandas as pd\n",
    "# import datetime as dt\n",
    "# from pathlib import Path\n",
    "# import pandas_ta as ta\n",
    "# from tabulate import tabulate\n",
    "\n",
    "# def append_row(df, row):\n",
    "#     \"\"\"Appends a new row to a pandas DataFrame if the row is not empty.\"\"\"\n",
    "#     if row.isnull().all():\n",
    "#         return df  # Do not append if the row is all NA\n",
    "#     return pd.concat([df, pd.DataFrame([row], columns=row.index)]).reset_index(drop=True)\n",
    "\n",
    "# def getRSI14_and_BB(csvfilename):\n",
    "#     \"\"\"Calculates RSI (14 period) and Bollinger Bands (20 period, 2 std.dev) for a given CSV file.\"\"\"\n",
    "#     if Path(csvfilename).is_file():\n",
    "#         try:\n",
    "#             df = pd.read_csv(csvfilename)\n",
    "#             if df.empty or 'Close' not in df.columns:\n",
    "#                 return 0.00, 0.00, 0.00, 0.00\n",
    "#             else:\n",
    "#                 df['Close'] = pd.to_numeric(df['Close'], errors='coerce')\n",
    "#                 df['rsi14'] = ta.rsi(df['Close'], length=14)\n",
    "#                 bb = ta.bbands(df['Close'], length=20)\n",
    "#                 if bb is None or df['rsi14'] is None:\n",
    "#                     return 0.00, 0.00, 0.00, 0.00\n",
    "#                 df['lowerband'] = bb['BBL_20_2.0']\n",
    "#                 df['middleband'] = bb['BBM_20_2.0']\n",
    "#                 if pd.isna(df['rsi14'].iloc[-1]) or pd.isna(df['lowerband'].iloc[-1]) or pd.isna(df['middleband'].iloc[-1]):\n",
    "#                     return 0.00, 0.00, 0.00, 0.00\n",
    "#                 else:\n",
    "#                     rsival = df['rsi14'].iloc[-1].round(2)\n",
    "#                     ltp = df['Close'].iloc[-1].round(2)\n",
    "#                     lowerband = df['lowerband'].iloc[-1].round(2)\n",
    "#                     middleband = df['middleband'].iloc[-1].round(2)\n",
    "#                     return rsival, ltp, lowerband, middleband\n",
    "#         except Exception as e:\n",
    "#             print(f\"Error reading {csvfilename}: {e}\")\n",
    "#             return 0.00, 0.00, 0.00, 0.00\n",
    "#     else:\n",
    "#         print(f\"File does not exist: {csvfilename}\")\n",
    "#         return 0.00, 0.00, 0.00, 0.00\n",
    "\n",
    "# def dayweekmonth_datasets(symbol, symbolname):\n",
    "#     \"\"\"Calculates RSI, Bollinger Bands, and other metrics for daily, weekly, and monthly data.\"\"\"\n",
    "#     # Replace periods with underscores in the symbol for file naming\n",
    "#     symbol_with_underscore = symbol.replace('.', '_')\n",
    "\n",
    "#     # Construct the file paths using the modified symbol\n",
    "#     daylocationstr = f'DATASETS/Daily_data/{symbol_with_underscore}.csv'\n",
    "#     weeklocationstr = f'DATASETS/Weekly_data/{symbol_with_underscore}.csv'\n",
    "#     monthlocationstr = f'DATASETS/Monthly_data/{symbol_with_underscore}.csv'\n",
    "\n",
    "#     cday = dt.datetime.today().strftime('%d/%m/%Y')\n",
    "#     dayrsi14, dltp, daylowerband, daymiddleband = getRSI14_and_BB(daylocationstr)\n",
    "#     weekrsi14, wltp, weeklowerband, weekmiddleband = getRSI14_and_BB(weeklocationstr)\n",
    "#     monthrsi14, mltp, monthlowerband, monthmiddleband = getRSI14_and_BB(monthlocationstr)\n",
    "\n",
    "#     new_row = pd.Series({\n",
    "#         'entrydate': cday,\n",
    "#         'indexcode': symbol,\n",
    "#         'indexname': symbolname,\n",
    "#         'dayrsi14': dayrsi14,\n",
    "#         'weekrsi14': weekrsi14,\n",
    "#         'monthrsi14': monthrsi14,\n",
    "#         'dltp': dltp,\n",
    "#         'daylowerband': daylowerband,\n",
    "#         'daymiddleband': daymiddleband,\n",
    "#         'weeklowerband': weeklowerband,\n",
    "#         'weekmiddleband': weekmiddleband,\n",
    "#         'monthlowerband': monthlowerband,\n",
    "#         'monthmiddleband': monthmiddleband\n",
    "#     })\n",
    "#     return new_row\n",
    "\n",
    "# def generateGFS(scripttype):\n",
    "#     \"\"\"Generates the GFS report based on the provided scripttype.\"\"\"\n",
    "#     indicesdf = pd.DataFrame(columns=['entrydate', 'indexcode', 'indexname', 'dayrsi14', 'weekrsi14', 'monthrsi14', 'dltp', 'daylowerband', 'daymiddleband', 'weeklowerband', 'weekmiddleband', 'monthlowerband', 'monthmiddleband'])\n",
    "\n",
    "#     fname = f'DATASETS/{scripttype}.csv'\n",
    "#     csvfilename = f'GFS_{scripttype}.csv'\n",
    "#     try:\n",
    "#         with open(fname) as f:\n",
    "#             for line in f:\n",
    "#                 if \",\" not in line:\n",
    "#                     continue\n",
    "#                 symbol, symbolname = line.split(\",\")[0], line.split(\",\")[1]\n",
    "#                 symbol = symbol.replace(\"\\n\", \"\")\n",
    "#                 new_row = dayweekmonth_datasets(symbol, symbolname)\n",
    "#                 indicesdf = append_row(indicesdf, new_row)\n",
    "#     except Exception as e:\n",
    "#         print(f\"Error processing {fname}: {e}\")\n",
    "\n",
    "#     indicesdf.to_csv(csvfilename, index=False)\n",
    "#     return indicesdf\n",
    "\n",
    "# def read_indicesstocks(csvfilename):\n",
    "#     \"\"\"Reads the indicesstocks CSV file and returns a dictionary of indices and their stocks.\"\"\"\n",
    "#     if Path(csvfilename).is_file():\n",
    "#         try:\n",
    "#             df = pd.read_csv(csvfilename, header=None, on_bad_lines='skip')  # Use 'on_bad_lines' for newer versions\n",
    "#             indices_dict = {}\n",
    "#             for index, row in df.iterrows():\n",
    "#                 index_code = row[0].strip()  # Get the index code\n",
    "#                 stocks = row[1:].dropna().tolist()  # Get the stocks, drop NaN values\n",
    "#                 indices_dict[index_code] = stocks\n",
    "#             return indices_dict\n",
    "#         except Exception as e:\n",
    "#             print(f\"Error reading {csvfilename}: {e}\")\n",
    "#             return {}\n",
    "#     else:\n",
    "#         print(f\"File does not exist: {csvfilename}\")\n",
    "#         return {}\n",
    "\n",
    "# # Main execution\n",
    "# # Main execution\n",
    "# indicesdf_path = 'DATASETS/indicesdf.csv'\n",
    "# indicesstocks_path = r'C:\\Users\\manoj\\Downloads\\Major project data\\Major pro source codes\\DATASETS\\indicesstocks.csv'\n",
    "# filtered_indices_path = 'DATASETS/filtered_indices.csv'  # Path for the new CSV file\n",
    "\n",
    "# # Generate GFS report\n",
    "# df3 = generateGFS('indicesdf')\n",
    "\n",
    "# # Filter based on criteria\n",
    "# df4 = df3.loc[\n",
    "#     (df3['monthrsi14'] >= 60.00) &\n",
    "#     (df3['weekrsi14'] >= 60.00) &\n",
    "#     df3['dayrsi14'].between(30, 70) &\n",
    "#     (df3['dltp'] > df3['daylowerband']) &\n",
    "#     (df3['dltp'] < df3['daymiddleband'])\n",
    "# ]\n",
    "\n",
    "# # Extract only the indexcode for the filtered indices\n",
    "# filtered_indexcodes = df4[['indexcode']]\n",
    "\n",
    "# # Save the filtered indexcodes to a new CSV file, overwriting any existing file\n",
    "# filtered_indexcodes.to_csv(filtered_indices_path, index=False)\n",
    "\n",
    "# # Check if any indices qualified\n",
    "# if filtered_indexcodes.empty:\n",
    "#     print(\"\\033[1mNO STOCKS QUALIFY THE GFS CRITERIA\\033[0m\")\n",
    "# else:\n",
    "#     # Read indices from indicesstocks\n",
    "#     indicesstocks = read_indicesstocks(indicesstocks_path)\n",
    "\n",
    "#     # Read filtered indices\n",
    "#     filtered_indices = filtered_indexcodes['indexcode'].tolist()\n",
    "\n",
    "#     # Compare and run GFS for matched indices\n",
    "# for index in filtered_indices:\n",
    "#     if index in indicesstocks:\n",
    "#         print(f\"Running GFS for matched index: {index}\")\n",
    "#         stocks = indicesstocks[index]  # Get the list of stocks for the matched index \n",
    "        \n",
    "#         # Traverse through the stocks starting from the next position\n",
    "#         # Inside your loop where you print the matched_row\n",
    "# for stock in stocks[1:]:  # Start from the second stock (index + 1)\n",
    "#     if stock:  # Check if stock is not empty\n",
    "#         print(f\"Running GFS for stock: {stock}\")\n",
    "#         try:\n",
    "#             # Call the GFS function for each stock\n",
    "#             matched_row = dayweekmonth_datasets(stock, stock)  # Using stock as both symbol and symbolname\n",
    "            \n",
    "#             # Use tabulate to print the row with a specific format\n",
    "#             print(tabulate([matched_row], headers='keys', tablefmt='fancy_grid', showindex=False))\n",
    "#         except Exception as e:\n",
    "#             print(f\"Error processing stock {stock}: {e}\")\n",
    "#     else:\n",
    "#         print(f\"Skipping empty stock name in index {index}.\")"
   ]
  },
  {
   "cell_type": "markdown",
   "metadata": {},
   "source": [
    "################### LSTM CODE FROM HERE ##################"
   ]
  },
  {
   "cell_type": "code",
   "execution_count": 2,
   "metadata": {},
   "outputs": [
    {
     "name": "stdout",
     "output_type": "stream",
     "text": [
      "Chat: Starting processing for ^NSEI...\n"
     ]
    },
    {
     "name": "stderr",
     "output_type": "stream",
     "text": [
      "c:\\Users\\manoj\\AppData\\Local\\Programs\\Python\\Python310\\lib\\site-packages\\keras\\src\\layers\\rnn\\rnn.py:200: UserWarning: Do not pass an `input_shape`/`input_dim` argument to a layer. When using Sequential models, prefer using an `Input(shape)` object as the first layer in the model instead.\n",
      "  super().__init__(**kwargs)\n",
      "C:\\Users\\manoj\\AppData\\Local\\Temp\\ipykernel_26348\\4148341200.py:94: SettingWithCopyWarning: \n",
      "A value is trying to be set on a copy of a slice from a DataFrame.\n",
      "Try using .loc[row_indexer,col_indexer] = value instead\n",
      "\n",
      "See the caveats in the documentation: https://pandas.pydata.org/pandas-docs/stable/user_guide/indexing.html#returning-a-view-versus-a-copy\n",
      "  last_20_days['High'] = pd.to_numeric(last_20_days['High'], errors='coerce')\n",
      "C:\\Users\\manoj\\AppData\\Local\\Temp\\ipykernel_26348\\4148341200.py:95: SettingWithCopyWarning: \n",
      "A value is trying to be set on a copy of a slice from a DataFrame.\n",
      "Try using .loc[row_indexer,col_indexer] = value instead\n",
      "\n",
      "See the caveats in the documentation: https://pandas.pydata.org/pandas-docs/stable/user_guide/indexing.html#returning-a-view-versus-a-copy\n",
      "  last_20_days['Low'] = pd.to_numeric(last_20_days['Low'], errors='coerce')\n",
      "c:\\Users\\manoj\\AppData\\Local\\Programs\\Python\\Python310\\lib\\site-packages\\keras\\src\\layers\\rnn\\rnn.py:200: UserWarning: Do not pass an `input_shape`/`input_dim` argument to a layer. When using Sequential models, prefer using an `Input(shape)` object as the first layer in the model instead.\n",
      "  super().__init__(**kwargs)\n"
     ]
    },
    {
     "name": "stdout",
     "output_type": "stream",
     "text": [
      "Chat: Prediction completed for ^NSEI\n",
      "Chat: Starting processing for ^NSEI...\n"
     ]
    },
    {
     "name": "stderr",
     "output_type": "stream",
     "text": [
      "C:\\Users\\manoj\\AppData\\Local\\Temp\\ipykernel_26348\\4148341200.py:94: SettingWithCopyWarning: \n",
      "A value is trying to be set on a copy of a slice from a DataFrame.\n",
      "Try using .loc[row_indexer,col_indexer] = value instead\n",
      "\n",
      "See the caveats in the documentation: https://pandas.pydata.org/pandas-docs/stable/user_guide/indexing.html#returning-a-view-versus-a-copy\n",
      "  last_20_days['High'] = pd.to_numeric(last_20_days['High'], errors='coerce')\n",
      "C:\\Users\\manoj\\AppData\\Local\\Temp\\ipykernel_26348\\4148341200.py:95: SettingWithCopyWarning: \n",
      "A value is trying to be set on a copy of a slice from a DataFrame.\n",
      "Try using .loc[row_indexer,col_indexer] = value instead\n",
      "\n",
      "See the caveats in the documentation: https://pandas.pydata.org/pandas-docs/stable/user_guide/indexing.html#returning-a-view-versus-a-copy\n",
      "  last_20_days['Low'] = pd.to_numeric(last_20_days['Low'], errors='coerce')\n",
      "c:\\Users\\manoj\\AppData\\Local\\Programs\\Python\\Python310\\lib\\site-packages\\keras\\src\\layers\\rnn\\rnn.py:200: UserWarning: Do not pass an `input_shape`/`input_dim` argument to a layer. When using Sequential models, prefer using an `Input(shape)` object as the first layer in the model instead.\n",
      "  super().__init__(**kwargs)\n"
     ]
    },
    {
     "name": "stdout",
     "output_type": "stream",
     "text": [
      "Chat: Prediction completed for ^NSEI\n",
      "Chat: Starting processing for ^NSEI...\n"
     ]
    },
    {
     "name": "stderr",
     "output_type": "stream",
     "text": [
      "C:\\Users\\manoj\\AppData\\Local\\Temp\\ipykernel_26348\\4148341200.py:94: SettingWithCopyWarning: \n",
      "A value is trying to be set on a copy of a slice from a DataFrame.\n",
      "Try using .loc[row_indexer,col_indexer] = value instead\n",
      "\n",
      "See the caveats in the documentation: https://pandas.pydata.org/pandas-docs/stable/user_guide/indexing.html#returning-a-view-versus-a-copy\n",
      "  last_20_days['High'] = pd.to_numeric(last_20_days['High'], errors='coerce')\n",
      "C:\\Users\\manoj\\AppData\\Local\\Temp\\ipykernel_26348\\4148341200.py:95: SettingWithCopyWarning: \n",
      "A value is trying to be set on a copy of a slice from a DataFrame.\n",
      "Try using .loc[row_indexer,col_indexer] = value instead\n",
      "\n",
      "See the caveats in the documentation: https://pandas.pydata.org/pandas-docs/stable/user_guide/indexing.html#returning-a-view-versus-a-copy\n",
      "  last_20_days['Low'] = pd.to_numeric(last_20_days['Low'], errors='coerce')\n",
      "c:\\Users\\manoj\\AppData\\Local\\Programs\\Python\\Python310\\lib\\site-packages\\keras\\src\\layers\\rnn\\rnn.py:200: UserWarning: Do not pass an `input_shape`/`input_dim` argument to a layer. When using Sequential models, prefer using an `Input(shape)` object as the first layer in the model instead.\n",
      "  super().__init__(**kwargs)\n"
     ]
    },
    {
     "name": "stdout",
     "output_type": "stream",
     "text": [
      "Chat: Prediction completed for ^NSEI\n",
      "Chat: Starting processing for ^NSEI...\n",
      "WARNING:tensorflow:5 out of the last 5 calls to <function TensorFlowTrainer.make_predict_function.<locals>.one_step_on_data_distributed at 0x0000016170B4B400> triggered tf.function retracing. Tracing is expensive and the excessive number of tracings could be due to (1) creating @tf.function repeatedly in a loop, (2) passing tensors with different shapes, (3) passing Python objects instead of tensors. For (1), please define your @tf.function outside of the loop. For (2), @tf.function has reduce_retracing=True option that can avoid unnecessary retracing. For (3), please refer to https://www.tensorflow.org/guide/function#controlling_retracing and https://www.tensorflow.org/api_docs/python/tf/function for  more details.\n",
      "Chat: Prediction completed for ^NSEI\n",
      "Chat: Starting processing for ^NSEI...\n"
     ]
    },
    {
     "name": "stderr",
     "output_type": "stream",
     "text": [
      "C:\\Users\\manoj\\AppData\\Local\\Temp\\ipykernel_26348\\4148341200.py:94: SettingWithCopyWarning: \n",
      "A value is trying to be set on a copy of a slice from a DataFrame.\n",
      "Try using .loc[row_indexer,col_indexer] = value instead\n",
      "\n",
      "See the caveats in the documentation: https://pandas.pydata.org/pandas-docs/stable/user_guide/indexing.html#returning-a-view-versus-a-copy\n",
      "  last_20_days['High'] = pd.to_numeric(last_20_days['High'], errors='coerce')\n",
      "C:\\Users\\manoj\\AppData\\Local\\Temp\\ipykernel_26348\\4148341200.py:95: SettingWithCopyWarning: \n",
      "A value is trying to be set on a copy of a slice from a DataFrame.\n",
      "Try using .loc[row_indexer,col_indexer] = value instead\n",
      "\n",
      "See the caveats in the documentation: https://pandas.pydata.org/pandas-docs/stable/user_guide/indexing.html#returning-a-view-versus-a-copy\n",
      "  last_20_days['Low'] = pd.to_numeric(last_20_days['Low'], errors='coerce')\n",
      "c:\\Users\\manoj\\AppData\\Local\\Programs\\Python\\Python310\\lib\\site-packages\\keras\\src\\layers\\rnn\\rnn.py:200: UserWarning: Do not pass an `input_shape`/`input_dim` argument to a layer. When using Sequential models, prefer using an `Input(shape)` object as the first layer in the model instead.\n",
      "  super().__init__(**kwargs)\n"
     ]
    },
    {
     "name": "stdout",
     "output_type": "stream",
     "text": [
      "WARNING:tensorflow:6 out of the last 6 calls to <function TensorFlowTrainer.make_predict_function.<locals>.one_step_on_data_distributed at 0x000001617311B640> triggered tf.function retracing. Tracing is expensive and the excessive number of tracings could be due to (1) creating @tf.function repeatedly in a loop, (2) passing tensors with different shapes, (3) passing Python objects instead of tensors. For (1), please define your @tf.function outside of the loop. For (2), @tf.function has reduce_retracing=True option that can avoid unnecessary retracing. For (3), please refer to https://www.tensorflow.org/guide/function#controlling_retracing and https://www.tensorflow.org/api_docs/python/tf/function for  more details.\n",
      "Chat: Prediction completed for ^NSEI\n",
      "Chat: Starting processing for ^NSEI...\n"
     ]
    },
    {
     "name": "stderr",
     "output_type": "stream",
     "text": [
      "C:\\Users\\manoj\\AppData\\Local\\Temp\\ipykernel_26348\\4148341200.py:94: SettingWithCopyWarning: \n",
      "A value is trying to be set on a copy of a slice from a DataFrame.\n",
      "Try using .loc[row_indexer,col_indexer] = value instead\n",
      "\n",
      "See the caveats in the documentation: https://pandas.pydata.org/pandas-docs/stable/user_guide/indexing.html#returning-a-view-versus-a-copy\n",
      "  last_20_days['High'] = pd.to_numeric(last_20_days['High'], errors='coerce')\n",
      "C:\\Users\\manoj\\AppData\\Local\\Temp\\ipykernel_26348\\4148341200.py:95: SettingWithCopyWarning: \n",
      "A value is trying to be set on a copy of a slice from a DataFrame.\n",
      "Try using .loc[row_indexer,col_indexer] = value instead\n",
      "\n",
      "See the caveats in the documentation: https://pandas.pydata.org/pandas-docs/stable/user_guide/indexing.html#returning-a-view-versus-a-copy\n",
      "  last_20_days['Low'] = pd.to_numeric(last_20_days['Low'], errors='coerce')\n",
      "c:\\Users\\manoj\\AppData\\Local\\Programs\\Python\\Python310\\lib\\site-packages\\keras\\src\\layers\\rnn\\rnn.py:200: UserWarning: Do not pass an `input_shape`/`input_dim` argument to a layer. When using Sequential models, prefer using an `Input(shape)` object as the first layer in the model instead.\n",
      "  super().__init__(**kwargs)\n",
      "C:\\Users\\manoj\\AppData\\Local\\Temp\\ipykernel_26348\\4148341200.py:94: SettingWithCopyWarning: \n",
      "A value is trying to be set on a copy of a slice from a DataFrame.\n",
      "Try using .loc[row_indexer,col_indexer] = value instead\n",
      "\n",
      "See the caveats in the documentation: https://pandas.pydata.org/pandas-docs/stable/user_guide/indexing.html#returning-a-view-versus-a-copy\n",
      "  last_20_days['High'] = pd.to_numeric(last_20_days['High'], errors='coerce')\n",
      "C:\\Users\\manoj\\AppData\\Local\\Temp\\ipykernel_26348\\4148341200.py:95: SettingWithCopyWarning: \n",
      "A value is trying to be set on a copy of a slice from a DataFrame.\n",
      "Try using .loc[row_indexer,col_indexer] = value instead\n",
      "\n",
      "See the caveats in the documentation: https://pandas.pydata.org/pandas-docs/stable/user_guide/indexing.html#returning-a-view-versus-a-copy\n",
      "  last_20_days['Low'] = pd.to_numeric(last_20_days['Low'], errors='coerce')\n",
      "c:\\Users\\manoj\\AppData\\Local\\Programs\\Python\\Python310\\lib\\site-packages\\keras\\src\\layers\\rnn\\rnn.py:200: UserWarning: Do not pass an `input_shape`/`input_dim` argument to a layer. When using Sequential models, prefer using an `Input(shape)` object as the first layer in the model instead.\n",
      "  super().__init__(**kwargs)\n"
     ]
    },
    {
     "name": "stdout",
     "output_type": "stream",
     "text": [
      "Chat: Prediction completed for ^NSEI\n",
      "Chat: Starting processing for ^NSEI...\n"
     ]
    },
    {
     "name": "stderr",
     "output_type": "stream",
     "text": [
      "C:\\Users\\manoj\\AppData\\Local\\Temp\\ipykernel_26348\\4148341200.py:94: SettingWithCopyWarning: \n",
      "A value is trying to be set on a copy of a slice from a DataFrame.\n",
      "Try using .loc[row_indexer,col_indexer] = value instead\n",
      "\n",
      "See the caveats in the documentation: https://pandas.pydata.org/pandas-docs/stable/user_guide/indexing.html#returning-a-view-versus-a-copy\n",
      "  last_20_days['High'] = pd.to_numeric(last_20_days['High'], errors='coerce')\n",
      "C:\\Users\\manoj\\AppData\\Local\\Temp\\ipykernel_26348\\4148341200.py:95: SettingWithCopyWarning: \n",
      "A value is trying to be set on a copy of a slice from a DataFrame.\n",
      "Try using .loc[row_indexer,col_indexer] = value instead\n",
      "\n",
      "See the caveats in the documentation: https://pandas.pydata.org/pandas-docs/stable/user_guide/indexing.html#returning-a-view-versus-a-copy\n",
      "  last_20_days['Low'] = pd.to_numeric(last_20_days['Low'], errors='coerce')\n",
      "c:\\Users\\manoj\\AppData\\Local\\Programs\\Python\\Python310\\lib\\site-packages\\keras\\src\\layers\\rnn\\rnn.py:200: UserWarning: Do not pass an `input_shape`/`input_dim` argument to a layer. When using Sequential models, prefer using an `Input(shape)` object as the first layer in the model instead.\n",
      "  super().__init__(**kwargs)\n"
     ]
    },
    {
     "name": "stdout",
     "output_type": "stream",
     "text": [
      "Chat: Prediction completed for ^NSEI\n",
      "Chat: Starting processing for ^NSEI...\n"
     ]
    },
    {
     "name": "stderr",
     "output_type": "stream",
     "text": [
      "C:\\Users\\manoj\\AppData\\Local\\Temp\\ipykernel_26348\\4148341200.py:94: SettingWithCopyWarning: \n",
      "A value is trying to be set on a copy of a slice from a DataFrame.\n",
      "Try using .loc[row_indexer,col_indexer] = value instead\n",
      "\n",
      "See the caveats in the documentation: https://pandas.pydata.org/pandas-docs/stable/user_guide/indexing.html#returning-a-view-versus-a-copy\n",
      "  last_20_days['High'] = pd.to_numeric(last_20_days['High'], errors='coerce')\n",
      "C:\\Users\\manoj\\AppData\\Local\\Temp\\ipykernel_26348\\4148341200.py:95: SettingWithCopyWarning: \n",
      "A value is trying to be set on a copy of a slice from a DataFrame.\n",
      "Try using .loc[row_indexer,col_indexer] = value instead\n",
      "\n",
      "See the caveats in the documentation: https://pandas.pydata.org/pandas-docs/stable/user_guide/indexing.html#returning-a-view-versus-a-copy\n",
      "  last_20_days['Low'] = pd.to_numeric(last_20_days['Low'], errors='coerce')\n",
      "c:\\Users\\manoj\\AppData\\Local\\Programs\\Python\\Python310\\lib\\site-packages\\keras\\src\\layers\\rnn\\rnn.py:200: UserWarning: Do not pass an `input_shape`/`input_dim` argument to a layer. When using Sequential models, prefer using an `Input(shape)` object as the first layer in the model instead.\n",
      "  super().__init__(**kwargs)\n"
     ]
    },
    {
     "name": "stdout",
     "output_type": "stream",
     "text": [
      "Chat: Prediction completed for ^NSEI\n",
      "Chat: Starting processing for ^NSEI...\n"
     ]
    },
    {
     "name": "stderr",
     "output_type": "stream",
     "text": [
      "C:\\Users\\manoj\\AppData\\Local\\Temp\\ipykernel_26348\\4148341200.py:94: SettingWithCopyWarning: \n",
      "A value is trying to be set on a copy of a slice from a DataFrame.\n",
      "Try using .loc[row_indexer,col_indexer] = value instead\n",
      "\n",
      "See the caveats in the documentation: https://pandas.pydata.org/pandas-docs/stable/user_guide/indexing.html#returning-a-view-versus-a-copy\n",
      "  last_20_days['High'] = pd.to_numeric(last_20_days['High'], errors='coerce')\n",
      "C:\\Users\\manoj\\AppData\\Local\\Temp\\ipykernel_26348\\4148341200.py:95: SettingWithCopyWarning: \n",
      "A value is trying to be set on a copy of a slice from a DataFrame.\n",
      "Try using .loc[row_indexer,col_indexer] = value instead\n",
      "\n",
      "See the caveats in the documentation: https://pandas.pydata.org/pandas-docs/stable/user_guide/indexing.html#returning-a-view-versus-a-copy\n",
      "  last_20_days['Low'] = pd.to_numeric(last_20_days['Low'], errors='coerce')\n",
      "c:\\Users\\manoj\\AppData\\Local\\Programs\\Python\\Python310\\lib\\site-packages\\keras\\src\\layers\\rnn\\rnn.py:200: UserWarning: Do not pass an `input_shape`/`input_dim` argument to a layer. When using Sequential models, prefer using an `Input(shape)` object as the first layer in the model instead.\n",
      "  super().__init__(**kwargs)\n"
     ]
    },
    {
     "name": "stdout",
     "output_type": "stream",
     "text": [
      "Chat: Prediction completed for ^NSEI\n",
      "Chat: Starting processing for ^NSEI...\n"
     ]
    },
    {
     "name": "stderr",
     "output_type": "stream",
     "text": [
      "C:\\Users\\manoj\\AppData\\Local\\Temp\\ipykernel_26348\\4148341200.py:94: SettingWithCopyWarning: \n",
      "A value is trying to be set on a copy of a slice from a DataFrame.\n",
      "Try using .loc[row_indexer,col_indexer] = value instead\n",
      "\n",
      "See the caveats in the documentation: https://pandas.pydata.org/pandas-docs/stable/user_guide/indexing.html#returning-a-view-versus-a-copy\n",
      "  last_20_days['High'] = pd.to_numeric(last_20_days['High'], errors='coerce')\n",
      "C:\\Users\\manoj\\AppData\\Local\\Temp\\ipykernel_26348\\4148341200.py:95: SettingWithCopyWarning: \n",
      "A value is trying to be set on a copy of a slice from a DataFrame.\n",
      "Try using .loc[row_indexer,col_indexer] = value instead\n",
      "\n",
      "See the caveats in the documentation: https://pandas.pydata.org/pandas-docs/stable/user_guide/indexing.html#returning-a-view-versus-a-copy\n",
      "  last_20_days['Low'] = pd.to_numeric(last_20_days['Low'], errors='coerce')\n",
      "c:\\Users\\manoj\\AppData\\Local\\Programs\\Python\\Python310\\lib\\site-packages\\keras\\src\\layers\\rnn\\rnn.py:200: UserWarning: Do not pass an `input_shape`/`input_dim` argument to a layer. When using Sequential models, prefer using an `Input(shape)` object as the first layer in the model instead.\n",
      "  super().__init__(**kwargs)\n"
     ]
    },
    {
     "name": "stdout",
     "output_type": "stream",
     "text": [
      "Chat: Prediction completed for ^NSEI\n",
      "Chat: Starting processing for ^NSEI...\n"
     ]
    },
    {
     "name": "stderr",
     "output_type": "stream",
     "text": [
      "C:\\Users\\manoj\\AppData\\Local\\Temp\\ipykernel_26348\\4148341200.py:94: SettingWithCopyWarning: \n",
      "A value is trying to be set on a copy of a slice from a DataFrame.\n",
      "Try using .loc[row_indexer,col_indexer] = value instead\n",
      "\n",
      "See the caveats in the documentation: https://pandas.pydata.org/pandas-docs/stable/user_guide/indexing.html#returning-a-view-versus-a-copy\n",
      "  last_20_days['High'] = pd.to_numeric(last_20_days['High'], errors='coerce')\n",
      "C:\\Users\\manoj\\AppData\\Local\\Temp\\ipykernel_26348\\4148341200.py:95: SettingWithCopyWarning: \n",
      "A value is trying to be set on a copy of a slice from a DataFrame.\n",
      "Try using .loc[row_indexer,col_indexer] = value instead\n",
      "\n",
      "See the caveats in the documentation: https://pandas.pydata.org/pandas-docs/stable/user_guide/indexing.html#returning-a-view-versus-a-copy\n",
      "  last_20_days['Low'] = pd.to_numeric(last_20_days['Low'], errors='coerce')\n",
      "c:\\Users\\manoj\\AppData\\Local\\Programs\\Python\\Python310\\lib\\site-packages\\keras\\src\\layers\\rnn\\rnn.py:200: UserWarning: Do not pass an `input_shape`/`input_dim` argument to a layer. When using Sequential models, prefer using an `Input(shape)` object as the first layer in the model instead.\n",
      "  super().__init__(**kwargs)\n"
     ]
    },
    {
     "name": "stdout",
     "output_type": "stream",
     "text": [
      "Chat: Prediction completed for ^NSEI\n",
      "Chat: Starting processing for ^NSEI...\n"
     ]
    },
    {
     "name": "stderr",
     "output_type": "stream",
     "text": [
      "C:\\Users\\manoj\\AppData\\Local\\Temp\\ipykernel_26348\\4148341200.py:94: SettingWithCopyWarning: \n",
      "A value is trying to be set on a copy of a slice from a DataFrame.\n",
      "Try using .loc[row_indexer,col_indexer] = value instead\n",
      "\n",
      "See the caveats in the documentation: https://pandas.pydata.org/pandas-docs/stable/user_guide/indexing.html#returning-a-view-versus-a-copy\n",
      "  last_20_days['High'] = pd.to_numeric(last_20_days['High'], errors='coerce')\n",
      "C:\\Users\\manoj\\AppData\\Local\\Temp\\ipykernel_26348\\4148341200.py:95: SettingWithCopyWarning: \n",
      "A value is trying to be set on a copy of a slice from a DataFrame.\n",
      "Try using .loc[row_indexer,col_indexer] = value instead\n",
      "\n",
      "See the caveats in the documentation: https://pandas.pydata.org/pandas-docs/stable/user_guide/indexing.html#returning-a-view-versus-a-copy\n",
      "  last_20_days['Low'] = pd.to_numeric(last_20_days['Low'], errors='coerce')\n",
      "c:\\Users\\manoj\\AppData\\Local\\Programs\\Python\\Python310\\lib\\site-packages\\keras\\src\\layers\\rnn\\rnn.py:200: UserWarning: Do not pass an `input_shape`/`input_dim` argument to a layer. When using Sequential models, prefer using an `Input(shape)` object as the first layer in the model instead.\n",
      "  super().__init__(**kwargs)\n"
     ]
    },
    {
     "name": "stdout",
     "output_type": "stream",
     "text": [
      "Chat: Prediction completed for ^NSEI\n",
      "Chat: Starting processing for ^NSEI...\n"
     ]
    },
    {
     "name": "stderr",
     "output_type": "stream",
     "text": [
      "C:\\Users\\manoj\\AppData\\Local\\Temp\\ipykernel_26348\\4148341200.py:94: SettingWithCopyWarning: \n",
      "A value is trying to be set on a copy of a slice from a DataFrame.\n",
      "Try using .loc[row_indexer,col_indexer] = value instead\n",
      "\n",
      "See the caveats in the documentation: https://pandas.pydata.org/pandas-docs/stable/user_guide/indexing.html#returning-a-view-versus-a-copy\n",
      "  last_20_days['High'] = pd.to_numeric(last_20_days['High'], errors='coerce')\n",
      "C:\\Users\\manoj\\AppData\\Local\\Temp\\ipykernel_26348\\4148341200.py:95: SettingWithCopyWarning: \n",
      "A value is trying to be set on a copy of a slice from a DataFrame.\n",
      "Try using .loc[row_indexer,col_indexer] = value instead\n",
      "\n",
      "See the caveats in the documentation: https://pandas.pydata.org/pandas-docs/stable/user_guide/indexing.html#returning-a-view-versus-a-copy\n",
      "  last_20_days['Low'] = pd.to_numeric(last_20_days['Low'], errors='coerce')\n",
      "c:\\Users\\manoj\\AppData\\Local\\Programs\\Python\\Python310\\lib\\site-packages\\keras\\src\\layers\\rnn\\rnn.py:200: UserWarning: Do not pass an `input_shape`/`input_dim` argument to a layer. When using Sequential models, prefer using an `Input(shape)` object as the first layer in the model instead.\n",
      "  super().__init__(**kwargs)\n"
     ]
    },
    {
     "name": "stdout",
     "output_type": "stream",
     "text": [
      "Chat: Prediction completed for ^NSEI\n",
      "Chat: Starting processing for ^NSEI...\n"
     ]
    },
    {
     "name": "stderr",
     "output_type": "stream",
     "text": [
      "C:\\Users\\manoj\\AppData\\Local\\Temp\\ipykernel_26348\\4148341200.py:94: SettingWithCopyWarning: \n",
      "A value is trying to be set on a copy of a slice from a DataFrame.\n",
      "Try using .loc[row_indexer,col_indexer] = value instead\n",
      "\n",
      "See the caveats in the documentation: https://pandas.pydata.org/pandas-docs/stable/user_guide/indexing.html#returning-a-view-versus-a-copy\n",
      "  last_20_days['High'] = pd.to_numeric(last_20_days['High'], errors='coerce')\n",
      "C:\\Users\\manoj\\AppData\\Local\\Temp\\ipykernel_26348\\4148341200.py:95: SettingWithCopyWarning: \n",
      "A value is trying to be set on a copy of a slice from a DataFrame.\n",
      "Try using .loc[row_indexer,col_indexer] = value instead\n",
      "\n",
      "See the caveats in the documentation: https://pandas.pydata.org/pandas-docs/stable/user_guide/indexing.html#returning-a-view-versus-a-copy\n",
      "  last_20_days['Low'] = pd.to_numeric(last_20_days['Low'], errors='coerce')\n",
      "c:\\Users\\manoj\\AppData\\Local\\Programs\\Python\\Python310\\lib\\site-packages\\keras\\src\\layers\\rnn\\rnn.py:200: UserWarning: Do not pass an `input_shape`/`input_dim` argument to a layer. When using Sequential models, prefer using an `Input(shape)` object as the first layer in the model instead.\n",
      "  super().__init__(**kwargs)\n"
     ]
    },
    {
     "name": "stdout",
     "output_type": "stream",
     "text": [
      "Chat: Prediction completed for ^NSEI\n",
      "Chat: Starting processing for ^NSEI...\n"
     ]
    },
    {
     "name": "stderr",
     "output_type": "stream",
     "text": [
      "C:\\Users\\manoj\\AppData\\Local\\Temp\\ipykernel_26348\\4148341200.py:94: SettingWithCopyWarning: \n",
      "A value is trying to be set on a copy of a slice from a DataFrame.\n",
      "Try using .loc[row_indexer,col_indexer] = value instead\n",
      "\n",
      "See the caveats in the documentation: https://pandas.pydata.org/pandas-docs/stable/user_guide/indexing.html#returning-a-view-versus-a-copy\n",
      "  last_20_days['High'] = pd.to_numeric(last_20_days['High'], errors='coerce')\n",
      "C:\\Users\\manoj\\AppData\\Local\\Temp\\ipykernel_26348\\4148341200.py:95: SettingWithCopyWarning: \n",
      "A value is trying to be set on a copy of a slice from a DataFrame.\n",
      "Try using .loc[row_indexer,col_indexer] = value instead\n",
      "\n",
      "See the caveats in the documentation: https://pandas.pydata.org/pandas-docs/stable/user_guide/indexing.html#returning-a-view-versus-a-copy\n",
      "  last_20_days['Low'] = pd.to_numeric(last_20_days['Low'], errors='coerce')\n",
      "c:\\Users\\manoj\\AppData\\Local\\Programs\\Python\\Python310\\lib\\site-packages\\keras\\src\\layers\\rnn\\rnn.py:200: UserWarning: Do not pass an `input_shape`/`input_dim` argument to a layer. When using Sequential models, prefer using an `Input(shape)` object as the first layer in the model instead.\n",
      "  super().__init__(**kwargs)\n"
     ]
    },
    {
     "name": "stdout",
     "output_type": "stream",
     "text": [
      "Chat: Prediction completed for ^NSEI\n",
      "Chat: Starting processing for ^NSEI...\n"
     ]
    },
    {
     "name": "stderr",
     "output_type": "stream",
     "text": [
      "C:\\Users\\manoj\\AppData\\Local\\Temp\\ipykernel_26348\\4148341200.py:94: SettingWithCopyWarning: \n",
      "A value is trying to be set on a copy of a slice from a DataFrame.\n",
      "Try using .loc[row_indexer,col_indexer] = value instead\n",
      "\n",
      "See the caveats in the documentation: https://pandas.pydata.org/pandas-docs/stable/user_guide/indexing.html#returning-a-view-versus-a-copy\n",
      "  last_20_days['High'] = pd.to_numeric(last_20_days['High'], errors='coerce')\n",
      "C:\\Users\\manoj\\AppData\\Local\\Temp\\ipykernel_26348\\4148341200.py:95: SettingWithCopyWarning: \n",
      "A value is trying to be set on a copy of a slice from a DataFrame.\n",
      "Try using .loc[row_indexer,col_indexer] = value instead\n",
      "\n",
      "See the caveats in the documentation: https://pandas.pydata.org/pandas-docs/stable/user_guide/indexing.html#returning-a-view-versus-a-copy\n",
      "  last_20_days['Low'] = pd.to_numeric(last_20_days['Low'], errors='coerce')\n",
      "c:\\Users\\manoj\\AppData\\Local\\Programs\\Python\\Python310\\lib\\site-packages\\keras\\src\\layers\\rnn\\rnn.py:200: UserWarning: Do not pass an `input_shape`/`input_dim` argument to a layer. When using Sequential models, prefer using an `Input(shape)` object as the first layer in the model instead.\n",
      "  super().__init__(**kwargs)\n"
     ]
    },
    {
     "name": "stdout",
     "output_type": "stream",
     "text": [
      "Chat: Prediction completed for ^NSEI\n",
      "Chat: Starting processing for ^NSEI...\n"
     ]
    },
    {
     "name": "stderr",
     "output_type": "stream",
     "text": [
      "C:\\Users\\manoj\\AppData\\Local\\Temp\\ipykernel_26348\\4148341200.py:94: SettingWithCopyWarning: \n",
      "A value is trying to be set on a copy of a slice from a DataFrame.\n",
      "Try using .loc[row_indexer,col_indexer] = value instead\n",
      "\n",
      "See the caveats in the documentation: https://pandas.pydata.org/pandas-docs/stable/user_guide/indexing.html#returning-a-view-versus-a-copy\n",
      "  last_20_days['High'] = pd.to_numeric(last_20_days['High'], errors='coerce')\n",
      "C:\\Users\\manoj\\AppData\\Local\\Temp\\ipykernel_26348\\4148341200.py:95: SettingWithCopyWarning: \n",
      "A value is trying to be set on a copy of a slice from a DataFrame.\n",
      "Try using .loc[row_indexer,col_indexer] = value instead\n",
      "\n",
      "See the caveats in the documentation: https://pandas.pydata.org/pandas-docs/stable/user_guide/indexing.html#returning-a-view-versus-a-copy\n",
      "  last_20_days['Low'] = pd.to_numeric(last_20_days['Low'], errors='coerce')\n",
      "c:\\Users\\manoj\\AppData\\Local\\Programs\\Python\\Python310\\lib\\site-packages\\keras\\src\\layers\\rnn\\rnn.py:200: UserWarning: Do not pass an `input_shape`/`input_dim` argument to a layer. When using Sequential models, prefer using an `Input(shape)` object as the first layer in the model instead.\n",
      "  super().__init__(**kwargs)\n"
     ]
    },
    {
     "name": "stdout",
     "output_type": "stream",
     "text": [
      "Chat: Prediction completed for ^NSEI\n",
      "Chat: Starting processing for ^NSEI...\n"
     ]
    },
    {
     "name": "stderr",
     "output_type": "stream",
     "text": [
      "C:\\Users\\manoj\\AppData\\Local\\Temp\\ipykernel_26348\\4148341200.py:94: SettingWithCopyWarning: \n",
      "A value is trying to be set on a copy of a slice from a DataFrame.\n",
      "Try using .loc[row_indexer,col_indexer] = value instead\n",
      "\n",
      "See the caveats in the documentation: https://pandas.pydata.org/pandas-docs/stable/user_guide/indexing.html#returning-a-view-versus-a-copy\n",
      "  last_20_days['High'] = pd.to_numeric(last_20_days['High'], errors='coerce')\n",
      "C:\\Users\\manoj\\AppData\\Local\\Temp\\ipykernel_26348\\4148341200.py:95: SettingWithCopyWarning: \n",
      "A value is trying to be set on a copy of a slice from a DataFrame.\n",
      "Try using .loc[row_indexer,col_indexer] = value instead\n",
      "\n",
      "See the caveats in the documentation: https://pandas.pydata.org/pandas-docs/stable/user_guide/indexing.html#returning-a-view-versus-a-copy\n",
      "  last_20_days['Low'] = pd.to_numeric(last_20_days['Low'], errors='coerce')\n",
      "c:\\Users\\manoj\\AppData\\Local\\Programs\\Python\\Python310\\lib\\site-packages\\keras\\src\\layers\\rnn\\rnn.py:200: UserWarning: Do not pass an `input_shape`/`input_dim` argument to a layer. When using Sequential models, prefer using an `Input(shape)` object as the first layer in the model instead.\n",
      "  super().__init__(**kwargs)\n"
     ]
    },
    {
     "name": "stdout",
     "output_type": "stream",
     "text": [
      "Chat: Prediction completed for ^NSEI\n",
      "Chat: Starting processing for ^NSEI...\n"
     ]
    },
    {
     "name": "stderr",
     "output_type": "stream",
     "text": [
      "C:\\Users\\manoj\\AppData\\Local\\Temp\\ipykernel_26348\\4148341200.py:94: SettingWithCopyWarning: \n",
      "A value is trying to be set on a copy of a slice from a DataFrame.\n",
      "Try using .loc[row_indexer,col_indexer] = value instead\n",
      "\n",
      "See the caveats in the documentation: https://pandas.pydata.org/pandas-docs/stable/user_guide/indexing.html#returning-a-view-versus-a-copy\n",
      "  last_20_days['High'] = pd.to_numeric(last_20_days['High'], errors='coerce')\n",
      "C:\\Users\\manoj\\AppData\\Local\\Temp\\ipykernel_26348\\4148341200.py:95: SettingWithCopyWarning: \n",
      "A value is trying to be set on a copy of a slice from a DataFrame.\n",
      "Try using .loc[row_indexer,col_indexer] = value instead\n",
      "\n",
      "See the caveats in the documentation: https://pandas.pydata.org/pandas-docs/stable/user_guide/indexing.html#returning-a-view-versus-a-copy\n",
      "  last_20_days['Low'] = pd.to_numeric(last_20_days['Low'], errors='coerce')\n",
      "c:\\Users\\manoj\\AppData\\Local\\Programs\\Python\\Python310\\lib\\site-packages\\keras\\src\\layers\\rnn\\rnn.py:200: UserWarning: Do not pass an `input_shape`/`input_dim` argument to a layer. When using Sequential models, prefer using an `Input(shape)` object as the first layer in the model instead.\n",
      "  super().__init__(**kwargs)\n"
     ]
    },
    {
     "name": "stdout",
     "output_type": "stream",
     "text": [
      "Chat: Prediction completed for ^NSEI\n",
      "Chat: Starting processing for ^NSEI...\n"
     ]
    },
    {
     "name": "stderr",
     "output_type": "stream",
     "text": [
      "C:\\Users\\manoj\\AppData\\Local\\Temp\\ipykernel_26348\\4148341200.py:94: SettingWithCopyWarning: \n",
      "A value is trying to be set on a copy of a slice from a DataFrame.\n",
      "Try using .loc[row_indexer,col_indexer] = value instead\n",
      "\n",
      "See the caveats in the documentation: https://pandas.pydata.org/pandas-docs/stable/user_guide/indexing.html#returning-a-view-versus-a-copy\n",
      "  last_20_days['High'] = pd.to_numeric(last_20_days['High'], errors='coerce')\n",
      "C:\\Users\\manoj\\AppData\\Local\\Temp\\ipykernel_26348\\4148341200.py:95: SettingWithCopyWarning: \n",
      "A value is trying to be set on a copy of a slice from a DataFrame.\n",
      "Try using .loc[row_indexer,col_indexer] = value instead\n",
      "\n",
      "See the caveats in the documentation: https://pandas.pydata.org/pandas-docs/stable/user_guide/indexing.html#returning-a-view-versus-a-copy\n",
      "  last_20_days['Low'] = pd.to_numeric(last_20_days['Low'], errors='coerce')\n",
      "c:\\Users\\manoj\\AppData\\Local\\Programs\\Python\\Python310\\lib\\site-packages\\keras\\src\\layers\\rnn\\rnn.py:200: UserWarning: Do not pass an `input_shape`/`input_dim` argument to a layer. When using Sequential models, prefer using an `Input(shape)` object as the first layer in the model instead.\n",
      "  super().__init__(**kwargs)\n"
     ]
    },
    {
     "name": "stdout",
     "output_type": "stream",
     "text": [
      "Chat: Prediction completed for ^NSEI\n",
      "Chat: Starting processing for ^NSEI...\n"
     ]
    },
    {
     "name": "stderr",
     "output_type": "stream",
     "text": [
      "C:\\Users\\manoj\\AppData\\Local\\Temp\\ipykernel_26348\\4148341200.py:94: SettingWithCopyWarning: \n",
      "A value is trying to be set on a copy of a slice from a DataFrame.\n",
      "Try using .loc[row_indexer,col_indexer] = value instead\n",
      "\n",
      "See the caveats in the documentation: https://pandas.pydata.org/pandas-docs/stable/user_guide/indexing.html#returning-a-view-versus-a-copy\n",
      "  last_20_days['High'] = pd.to_numeric(last_20_days['High'], errors='coerce')\n",
      "C:\\Users\\manoj\\AppData\\Local\\Temp\\ipykernel_26348\\4148341200.py:95: SettingWithCopyWarning: \n",
      "A value is trying to be set on a copy of a slice from a DataFrame.\n",
      "Try using .loc[row_indexer,col_indexer] = value instead\n",
      "\n",
      "See the caveats in the documentation: https://pandas.pydata.org/pandas-docs/stable/user_guide/indexing.html#returning-a-view-versus-a-copy\n",
      "  last_20_days['Low'] = pd.to_numeric(last_20_days['Low'], errors='coerce')\n",
      "c:\\Users\\manoj\\AppData\\Local\\Programs\\Python\\Python310\\lib\\site-packages\\keras\\src\\layers\\rnn\\rnn.py:200: UserWarning: Do not pass an `input_shape`/`input_dim` argument to a layer. When using Sequential models, prefer using an `Input(shape)` object as the first layer in the model instead.\n",
      "  super().__init__(**kwargs)\n"
     ]
    },
    {
     "name": "stdout",
     "output_type": "stream",
     "text": [
      "Chat: Prediction completed for ^NSEI\n",
      "Chat: Starting processing for ^NSEI...\n"
     ]
    },
    {
     "name": "stderr",
     "output_type": "stream",
     "text": [
      "C:\\Users\\manoj\\AppData\\Local\\Temp\\ipykernel_26348\\4148341200.py:94: SettingWithCopyWarning: \n",
      "A value is trying to be set on a copy of a slice from a DataFrame.\n",
      "Try using .loc[row_indexer,col_indexer] = value instead\n",
      "\n",
      "See the caveats in the documentation: https://pandas.pydata.org/pandas-docs/stable/user_guide/indexing.html#returning-a-view-versus-a-copy\n",
      "  last_20_days['High'] = pd.to_numeric(last_20_days['High'], errors='coerce')\n",
      "C:\\Users\\manoj\\AppData\\Local\\Temp\\ipykernel_26348\\4148341200.py:95: SettingWithCopyWarning: \n",
      "A value is trying to be set on a copy of a slice from a DataFrame.\n",
      "Try using .loc[row_indexer,col_indexer] = value instead\n",
      "\n",
      "See the caveats in the documentation: https://pandas.pydata.org/pandas-docs/stable/user_guide/indexing.html#returning-a-view-versus-a-copy\n",
      "  last_20_days['Low'] = pd.to_numeric(last_20_days['Low'], errors='coerce')\n",
      "c:\\Users\\manoj\\AppData\\Local\\Programs\\Python\\Python310\\lib\\site-packages\\keras\\src\\layers\\rnn\\rnn.py:200: UserWarning: Do not pass an `input_shape`/`input_dim` argument to a layer. When using Sequential models, prefer using an `Input(shape)` object as the first layer in the model instead.\n",
      "  super().__init__(**kwargs)\n"
     ]
    },
    {
     "name": "stdout",
     "output_type": "stream",
     "text": [
      "Chat: Prediction completed for ^NSEI\n",
      "Chat: Starting processing for ^NSEI...\n"
     ]
    },
    {
     "name": "stderr",
     "output_type": "stream",
     "text": [
      "C:\\Users\\manoj\\AppData\\Local\\Temp\\ipykernel_26348\\4148341200.py:94: SettingWithCopyWarning: \n",
      "A value is trying to be set on a copy of a slice from a DataFrame.\n",
      "Try using .loc[row_indexer,col_indexer] = value instead\n",
      "\n",
      "See the caveats in the documentation: https://pandas.pydata.org/pandas-docs/stable/user_guide/indexing.html#returning-a-view-versus-a-copy\n",
      "  last_20_days['High'] = pd.to_numeric(last_20_days['High'], errors='coerce')\n",
      "C:\\Users\\manoj\\AppData\\Local\\Temp\\ipykernel_26348\\4148341200.py:95: SettingWithCopyWarning: \n",
      "A value is trying to be set on a copy of a slice from a DataFrame.\n",
      "Try using .loc[row_indexer,col_indexer] = value instead\n",
      "\n",
      "See the caveats in the documentation: https://pandas.pydata.org/pandas-docs/stable/user_guide/indexing.html#returning-a-view-versus-a-copy\n",
      "  last_20_days['Low'] = pd.to_numeric(last_20_days['Low'], errors='coerce')\n",
      "c:\\Users\\manoj\\AppData\\Local\\Programs\\Python\\Python310\\lib\\site-packages\\keras\\src\\layers\\rnn\\rnn.py:200: UserWarning: Do not pass an `input_shape`/`input_dim` argument to a layer. When using Sequential models, prefer using an `Input(shape)` object as the first layer in the model instead.\n",
      "  super().__init__(**kwargs)\n"
     ]
    },
    {
     "name": "stdout",
     "output_type": "stream",
     "text": [
      "Chat: Prediction completed for ^NSEI\n",
      "Chat: Starting processing for ^NSEI...\n"
     ]
    },
    {
     "name": "stderr",
     "output_type": "stream",
     "text": [
      "C:\\Users\\manoj\\AppData\\Local\\Temp\\ipykernel_26348\\4148341200.py:94: SettingWithCopyWarning: \n",
      "A value is trying to be set on a copy of a slice from a DataFrame.\n",
      "Try using .loc[row_indexer,col_indexer] = value instead\n",
      "\n",
      "See the caveats in the documentation: https://pandas.pydata.org/pandas-docs/stable/user_guide/indexing.html#returning-a-view-versus-a-copy\n",
      "  last_20_days['High'] = pd.to_numeric(last_20_days['High'], errors='coerce')\n",
      "C:\\Users\\manoj\\AppData\\Local\\Temp\\ipykernel_26348\\4148341200.py:95: SettingWithCopyWarning: \n",
      "A value is trying to be set on a copy of a slice from a DataFrame.\n",
      "Try using .loc[row_indexer,col_indexer] = value instead\n",
      "\n",
      "See the caveats in the documentation: https://pandas.pydata.org/pandas-docs/stable/user_guide/indexing.html#returning-a-view-versus-a-copy\n",
      "  last_20_days['Low'] = pd.to_numeric(last_20_days['Low'], errors='coerce')\n",
      "c:\\Users\\manoj\\AppData\\Local\\Programs\\Python\\Python310\\lib\\site-packages\\keras\\src\\layers\\rnn\\rnn.py:200: UserWarning: Do not pass an `input_shape`/`input_dim` argument to a layer. When using Sequential models, prefer using an `Input(shape)` object as the first layer in the model instead.\n",
      "  super().__init__(**kwargs)\n"
     ]
    },
    {
     "name": "stdout",
     "output_type": "stream",
     "text": [
      "Chat: Prediction completed for ^NSEI\n",
      "Chat: Starting processing for ^NSEI...\n"
     ]
    },
    {
     "name": "stderr",
     "output_type": "stream",
     "text": [
      "C:\\Users\\manoj\\AppData\\Local\\Temp\\ipykernel_26348\\4148341200.py:94: SettingWithCopyWarning: \n",
      "A value is trying to be set on a copy of a slice from a DataFrame.\n",
      "Try using .loc[row_indexer,col_indexer] = value instead\n",
      "\n",
      "See the caveats in the documentation: https://pandas.pydata.org/pandas-docs/stable/user_guide/indexing.html#returning-a-view-versus-a-copy\n",
      "  last_20_days['High'] = pd.to_numeric(last_20_days['High'], errors='coerce')\n",
      "C:\\Users\\manoj\\AppData\\Local\\Temp\\ipykernel_26348\\4148341200.py:95: SettingWithCopyWarning: \n",
      "A value is trying to be set on a copy of a slice from a DataFrame.\n",
      "Try using .loc[row_indexer,col_indexer] = value instead\n",
      "\n",
      "See the caveats in the documentation: https://pandas.pydata.org/pandas-docs/stable/user_guide/indexing.html#returning-a-view-versus-a-copy\n",
      "  last_20_days['Low'] = pd.to_numeric(last_20_days['Low'], errors='coerce')\n",
      "c:\\Users\\manoj\\AppData\\Local\\Programs\\Python\\Python310\\lib\\site-packages\\keras\\src\\layers\\rnn\\rnn.py:200: UserWarning: Do not pass an `input_shape`/`input_dim` argument to a layer. When using Sequential models, prefer using an `Input(shape)` object as the first layer in the model instead.\n",
      "  super().__init__(**kwargs)\n"
     ]
    },
    {
     "name": "stdout",
     "output_type": "stream",
     "text": [
      "Chat: Prediction completed for ^NSEI\n",
      "Chat: Starting processing for ^NSEI...\n"
     ]
    },
    {
     "name": "stderr",
     "output_type": "stream",
     "text": [
      "C:\\Users\\manoj\\AppData\\Local\\Temp\\ipykernel_26348\\4148341200.py:94: SettingWithCopyWarning: \n",
      "A value is trying to be set on a copy of a slice from a DataFrame.\n",
      "Try using .loc[row_indexer,col_indexer] = value instead\n",
      "\n",
      "See the caveats in the documentation: https://pandas.pydata.org/pandas-docs/stable/user_guide/indexing.html#returning-a-view-versus-a-copy\n",
      "  last_20_days['High'] = pd.to_numeric(last_20_days['High'], errors='coerce')\n",
      "C:\\Users\\manoj\\AppData\\Local\\Temp\\ipykernel_26348\\4148341200.py:95: SettingWithCopyWarning: \n",
      "A value is trying to be set on a copy of a slice from a DataFrame.\n",
      "Try using .loc[row_indexer,col_indexer] = value instead\n",
      "\n",
      "See the caveats in the documentation: https://pandas.pydata.org/pandas-docs/stable/user_guide/indexing.html#returning-a-view-versus-a-copy\n",
      "  last_20_days['Low'] = pd.to_numeric(last_20_days['Low'], errors='coerce')\n",
      "c:\\Users\\manoj\\AppData\\Local\\Programs\\Python\\Python310\\lib\\site-packages\\keras\\src\\layers\\rnn\\rnn.py:200: UserWarning: Do not pass an `input_shape`/`input_dim` argument to a layer. When using Sequential models, prefer using an `Input(shape)` object as the first layer in the model instead.\n",
      "  super().__init__(**kwargs)\n"
     ]
    },
    {
     "name": "stdout",
     "output_type": "stream",
     "text": [
      "Chat: Prediction completed for ^NSEI\n",
      "Chat: Starting processing for ^NSEI...\n"
     ]
    },
    {
     "name": "stderr",
     "output_type": "stream",
     "text": [
      "C:\\Users\\manoj\\AppData\\Local\\Temp\\ipykernel_26348\\4148341200.py:94: SettingWithCopyWarning: \n",
      "A value is trying to be set on a copy of a slice from a DataFrame.\n",
      "Try using .loc[row_indexer,col_indexer] = value instead\n",
      "\n",
      "See the caveats in the documentation: https://pandas.pydata.org/pandas-docs/stable/user_guide/indexing.html#returning-a-view-versus-a-copy\n",
      "  last_20_days['High'] = pd.to_numeric(last_20_days['High'], errors='coerce')\n",
      "C:\\Users\\manoj\\AppData\\Local\\Temp\\ipykernel_26348\\4148341200.py:95: SettingWithCopyWarning: \n",
      "A value is trying to be set on a copy of a slice from a DataFrame.\n",
      "Try using .loc[row_indexer,col_indexer] = value instead\n",
      "\n",
      "See the caveats in the documentation: https://pandas.pydata.org/pandas-docs/stable/user_guide/indexing.html#returning-a-view-versus-a-copy\n",
      "  last_20_days['Low'] = pd.to_numeric(last_20_days['Low'], errors='coerce')\n",
      "c:\\Users\\manoj\\AppData\\Local\\Programs\\Python\\Python310\\lib\\site-packages\\keras\\src\\layers\\rnn\\rnn.py:200: UserWarning: Do not pass an `input_shape`/`input_dim` argument to a layer. When using Sequential models, prefer using an `Input(shape)` object as the first layer in the model instead.\n",
      "  super().__init__(**kwargs)\n"
     ]
    },
    {
     "name": "stdout",
     "output_type": "stream",
     "text": [
      "Chat: Prediction completed for ^NSEI\n",
      "Chat: Starting processing for ^NSEI...\n"
     ]
    },
    {
     "name": "stderr",
     "output_type": "stream",
     "text": [
      "C:\\Users\\manoj\\AppData\\Local\\Temp\\ipykernel_26348\\4148341200.py:94: SettingWithCopyWarning: \n",
      "A value is trying to be set on a copy of a slice from a DataFrame.\n",
      "Try using .loc[row_indexer,col_indexer] = value instead\n",
      "\n",
      "See the caveats in the documentation: https://pandas.pydata.org/pandas-docs/stable/user_guide/indexing.html#returning-a-view-versus-a-copy\n",
      "  last_20_days['High'] = pd.to_numeric(last_20_days['High'], errors='coerce')\n",
      "C:\\Users\\manoj\\AppData\\Local\\Temp\\ipykernel_26348\\4148341200.py:95: SettingWithCopyWarning: \n",
      "A value is trying to be set on a copy of a slice from a DataFrame.\n",
      "Try using .loc[row_indexer,col_indexer] = value instead\n",
      "\n",
      "See the caveats in the documentation: https://pandas.pydata.org/pandas-docs/stable/user_guide/indexing.html#returning-a-view-versus-a-copy\n",
      "  last_20_days['Low'] = pd.to_numeric(last_20_days['Low'], errors='coerce')\n",
      "c:\\Users\\manoj\\AppData\\Local\\Programs\\Python\\Python310\\lib\\site-packages\\keras\\src\\layers\\rnn\\rnn.py:200: UserWarning: Do not pass an `input_shape`/`input_dim` argument to a layer. When using Sequential models, prefer using an `Input(shape)` object as the first layer in the model instead.\n",
      "  super().__init__(**kwargs)\n"
     ]
    },
    {
     "name": "stdout",
     "output_type": "stream",
     "text": [
      "Chat: Prediction completed for ^NSEI\n",
      "Chat: Starting processing for ^NSEI...\n"
     ]
    },
    {
     "name": "stderr",
     "output_type": "stream",
     "text": [
      "C:\\Users\\manoj\\AppData\\Local\\Temp\\ipykernel_26348\\4148341200.py:94: SettingWithCopyWarning: \n",
      "A value is trying to be set on a copy of a slice from a DataFrame.\n",
      "Try using .loc[row_indexer,col_indexer] = value instead\n",
      "\n",
      "See the caveats in the documentation: https://pandas.pydata.org/pandas-docs/stable/user_guide/indexing.html#returning-a-view-versus-a-copy\n",
      "  last_20_days['High'] = pd.to_numeric(last_20_days['High'], errors='coerce')\n",
      "C:\\Users\\manoj\\AppData\\Local\\Temp\\ipykernel_26348\\4148341200.py:95: SettingWithCopyWarning: \n",
      "A value is trying to be set on a copy of a slice from a DataFrame.\n",
      "Try using .loc[row_indexer,col_indexer] = value instead\n",
      "\n",
      "See the caveats in the documentation: https://pandas.pydata.org/pandas-docs/stable/user_guide/indexing.html#returning-a-view-versus-a-copy\n",
      "  last_20_days['Low'] = pd.to_numeric(last_20_days['Low'], errors='coerce')\n",
      "c:\\Users\\manoj\\AppData\\Local\\Programs\\Python\\Python310\\lib\\site-packages\\keras\\src\\layers\\rnn\\rnn.py:200: UserWarning: Do not pass an `input_shape`/`input_dim` argument to a layer. When using Sequential models, prefer using an `Input(shape)` object as the first layer in the model instead.\n",
      "  super().__init__(**kwargs)\n"
     ]
    },
    {
     "name": "stdout",
     "output_type": "stream",
     "text": [
      "Chat: Prediction completed for ^NSEI\n",
      "Chat: Starting processing for ^NSEI...\n"
     ]
    },
    {
     "name": "stderr",
     "output_type": "stream",
     "text": [
      "C:\\Users\\manoj\\AppData\\Local\\Temp\\ipykernel_26348\\4148341200.py:94: SettingWithCopyWarning: \n",
      "A value is trying to be set on a copy of a slice from a DataFrame.\n",
      "Try using .loc[row_indexer,col_indexer] = value instead\n",
      "\n",
      "See the caveats in the documentation: https://pandas.pydata.org/pandas-docs/stable/user_guide/indexing.html#returning-a-view-versus-a-copy\n",
      "  last_20_days['High'] = pd.to_numeric(last_20_days['High'], errors='coerce')\n",
      "C:\\Users\\manoj\\AppData\\Local\\Temp\\ipykernel_26348\\4148341200.py:95: SettingWithCopyWarning: \n",
      "A value is trying to be set on a copy of a slice from a DataFrame.\n",
      "Try using .loc[row_indexer,col_indexer] = value instead\n",
      "\n",
      "See the caveats in the documentation: https://pandas.pydata.org/pandas-docs/stable/user_guide/indexing.html#returning-a-view-versus-a-copy\n",
      "  last_20_days['Low'] = pd.to_numeric(last_20_days['Low'], errors='coerce')\n",
      "c:\\Users\\manoj\\AppData\\Local\\Programs\\Python\\Python310\\lib\\site-packages\\keras\\src\\layers\\rnn\\rnn.py:200: UserWarning: Do not pass an `input_shape`/`input_dim` argument to a layer. When using Sequential models, prefer using an `Input(shape)` object as the first layer in the model instead.\n",
      "  super().__init__(**kwargs)\n"
     ]
    },
    {
     "name": "stdout",
     "output_type": "stream",
     "text": [
      "Chat: Prediction completed for ^NSEI\n",
      "Chat: Starting processing for ^NSEI...\n"
     ]
    },
    {
     "name": "stderr",
     "output_type": "stream",
     "text": [
      "C:\\Users\\manoj\\AppData\\Local\\Temp\\ipykernel_26348\\4148341200.py:94: SettingWithCopyWarning: \n",
      "A value is trying to be set on a copy of a slice from a DataFrame.\n",
      "Try using .loc[row_indexer,col_indexer] = value instead\n",
      "\n",
      "See the caveats in the documentation: https://pandas.pydata.org/pandas-docs/stable/user_guide/indexing.html#returning-a-view-versus-a-copy\n",
      "  last_20_days['High'] = pd.to_numeric(last_20_days['High'], errors='coerce')\n",
      "C:\\Users\\manoj\\AppData\\Local\\Temp\\ipykernel_26348\\4148341200.py:95: SettingWithCopyWarning: \n",
      "A value is trying to be set on a copy of a slice from a DataFrame.\n",
      "Try using .loc[row_indexer,col_indexer] = value instead\n",
      "\n",
      "See the caveats in the documentation: https://pandas.pydata.org/pandas-docs/stable/user_guide/indexing.html#returning-a-view-versus-a-copy\n",
      "  last_20_days['Low'] = pd.to_numeric(last_20_days['Low'], errors='coerce')\n",
      "c:\\Users\\manoj\\AppData\\Local\\Programs\\Python\\Python310\\lib\\site-packages\\keras\\src\\layers\\rnn\\rnn.py:200: UserWarning: Do not pass an `input_shape`/`input_dim` argument to a layer. When using Sequential models, prefer using an `Input(shape)` object as the first layer in the model instead.\n",
      "  super().__init__(**kwargs)\n"
     ]
    },
    {
     "name": "stdout",
     "output_type": "stream",
     "text": [
      "Chat: Prediction completed for ^NSEI\n",
      "Chat: Starting processing for ^NSEI...\n"
     ]
    },
    {
     "name": "stderr",
     "output_type": "stream",
     "text": [
      "C:\\Users\\manoj\\AppData\\Local\\Temp\\ipykernel_26348\\4148341200.py:94: SettingWithCopyWarning: \n",
      "A value is trying to be set on a copy of a slice from a DataFrame.\n",
      "Try using .loc[row_indexer,col_indexer] = value instead\n",
      "\n",
      "See the caveats in the documentation: https://pandas.pydata.org/pandas-docs/stable/user_guide/indexing.html#returning-a-view-versus-a-copy\n",
      "  last_20_days['High'] = pd.to_numeric(last_20_days['High'], errors='coerce')\n",
      "C:\\Users\\manoj\\AppData\\Local\\Temp\\ipykernel_26348\\4148341200.py:95: SettingWithCopyWarning: \n",
      "A value is trying to be set on a copy of a slice from a DataFrame.\n",
      "Try using .loc[row_indexer,col_indexer] = value instead\n",
      "\n",
      "See the caveats in the documentation: https://pandas.pydata.org/pandas-docs/stable/user_guide/indexing.html#returning-a-view-versus-a-copy\n",
      "  last_20_days['Low'] = pd.to_numeric(last_20_days['Low'], errors='coerce')\n",
      "c:\\Users\\manoj\\AppData\\Local\\Programs\\Python\\Python310\\lib\\site-packages\\keras\\src\\layers\\rnn\\rnn.py:200: UserWarning: Do not pass an `input_shape`/`input_dim` argument to a layer. When using Sequential models, prefer using an `Input(shape)` object as the first layer in the model instead.\n",
      "  super().__init__(**kwargs)\n"
     ]
    },
    {
     "name": "stdout",
     "output_type": "stream",
     "text": [
      "Chat: Prediction completed for ^NSEI\n",
      "Chat: Starting processing for ^NSEI...\n"
     ]
    },
    {
     "name": "stderr",
     "output_type": "stream",
     "text": [
      "C:\\Users\\manoj\\AppData\\Local\\Temp\\ipykernel_26348\\4148341200.py:94: SettingWithCopyWarning: \n",
      "A value is trying to be set on a copy of a slice from a DataFrame.\n",
      "Try using .loc[row_indexer,col_indexer] = value instead\n",
      "\n",
      "See the caveats in the documentation: https://pandas.pydata.org/pandas-docs/stable/user_guide/indexing.html#returning-a-view-versus-a-copy\n",
      "  last_20_days['High'] = pd.to_numeric(last_20_days['High'], errors='coerce')\n",
      "C:\\Users\\manoj\\AppData\\Local\\Temp\\ipykernel_26348\\4148341200.py:95: SettingWithCopyWarning: \n",
      "A value is trying to be set on a copy of a slice from a DataFrame.\n",
      "Try using .loc[row_indexer,col_indexer] = value instead\n",
      "\n",
      "See the caveats in the documentation: https://pandas.pydata.org/pandas-docs/stable/user_guide/indexing.html#returning-a-view-versus-a-copy\n",
      "  last_20_days['Low'] = pd.to_numeric(last_20_days['Low'], errors='coerce')\n",
      "c:\\Users\\manoj\\AppData\\Local\\Programs\\Python\\Python310\\lib\\site-packages\\keras\\src\\layers\\rnn\\rnn.py:200: UserWarning: Do not pass an `input_shape`/`input_dim` argument to a layer. When using Sequential models, prefer using an `Input(shape)` object as the first layer in the model instead.\n",
      "  super().__init__(**kwargs)\n"
     ]
    },
    {
     "name": "stdout",
     "output_type": "stream",
     "text": [
      "Chat: Prediction completed for ^NSEI\n",
      "Chat: Starting processing for ^NSEI...\n"
     ]
    },
    {
     "name": "stderr",
     "output_type": "stream",
     "text": [
      "C:\\Users\\manoj\\AppData\\Local\\Temp\\ipykernel_26348\\4148341200.py:94: SettingWithCopyWarning: \n",
      "A value is trying to be set on a copy of a slice from a DataFrame.\n",
      "Try using .loc[row_indexer,col_indexer] = value instead\n",
      "\n",
      "See the caveats in the documentation: https://pandas.pydata.org/pandas-docs/stable/user_guide/indexing.html#returning-a-view-versus-a-copy\n",
      "  last_20_days['High'] = pd.to_numeric(last_20_days['High'], errors='coerce')\n",
      "C:\\Users\\manoj\\AppData\\Local\\Temp\\ipykernel_26348\\4148341200.py:95: SettingWithCopyWarning: \n",
      "A value is trying to be set on a copy of a slice from a DataFrame.\n",
      "Try using .loc[row_indexer,col_indexer] = value instead\n",
      "\n",
      "See the caveats in the documentation: https://pandas.pydata.org/pandas-docs/stable/user_guide/indexing.html#returning-a-view-versus-a-copy\n",
      "  last_20_days['Low'] = pd.to_numeric(last_20_days['Low'], errors='coerce')\n",
      "c:\\Users\\manoj\\AppData\\Local\\Programs\\Python\\Python310\\lib\\site-packages\\keras\\src\\layers\\rnn\\rnn.py:200: UserWarning: Do not pass an `input_shape`/`input_dim` argument to a layer. When using Sequential models, prefer using an `Input(shape)` object as the first layer in the model instead.\n",
      "  super().__init__(**kwargs)\n"
     ]
    },
    {
     "name": "stdout",
     "output_type": "stream",
     "text": [
      "Chat: Prediction completed for ^NSEI\n",
      "Chat: Starting processing for ^NSEI...\n"
     ]
    },
    {
     "ename": "KeyboardInterrupt",
     "evalue": "",
     "output_type": "error",
     "traceback": [
      "\u001b[1;31m---------------------------------------------------------------------------\u001b[0m",
      "\u001b[1;31mKeyboardInterrupt\u001b[0m                         Traceback (most recent call last)",
      "Cell \u001b[1;32mIn[2], line 170\u001b[0m\n\u001b[0;32m    168\u001b[0m results \u001b[38;5;241m=\u001b[39m []\n\u001b[0;32m    169\u001b[0m \u001b[38;5;28;01mfor\u001b[39;00m indexcode \u001b[38;5;129;01min\u001b[39;00m indexcodes:\n\u001b[1;32m--> 170\u001b[0m   predicted_value, expected_high, expected_low, accuracy \u001b[38;5;241m=\u001b[39m \u001b[43mtrain_and_predict\u001b[49m\u001b[43m(\u001b[49m\u001b[43mindexcode\u001b[49m\u001b[43m,\u001b[49m\u001b[43m \u001b[49m\u001b[43mdaily_data_path\u001b[49m\u001b[43m,\u001b[49m\u001b[43m \u001b[49m\u001b[43mlookback_days\u001b[49m\u001b[43m)\u001b[49m\n\u001b[0;32m    171\u001b[0m   \u001b[38;5;28;01mif\u001b[39;00m predicted_value \u001b[38;5;129;01mis\u001b[39;00m \u001b[38;5;129;01mnot\u001b[39;00m \u001b[38;5;28;01mNone\u001b[39;00m:\n\u001b[0;32m    172\u001b[0m     results\u001b[38;5;241m.\u001b[39mappend({\n\u001b[0;32m    173\u001b[0m         \u001b[38;5;124m\"\u001b[39m\u001b[38;5;124mIndex Code\u001b[39m\u001b[38;5;124m\"\u001b[39m: indexcode,\n\u001b[0;32m    174\u001b[0m         \u001b[38;5;124m\"\u001b[39m\u001b[38;5;124mPredicted Close\u001b[39m\u001b[38;5;124m\"\u001b[39m: \u001b[38;5;124mf\u001b[39m\u001b[38;5;124m\"\u001b[39m\u001b[38;5;132;01m{\u001b[39;00mpredicted_value\u001b[38;5;132;01m:\u001b[39;00m\u001b[38;5;124m.2f\u001b[39m\u001b[38;5;132;01m}\u001b[39;00m\u001b[38;5;124m\"\u001b[39m,\n\u001b[1;32m   (...)\u001b[0m\n\u001b[0;32m    177\u001b[0m         \u001b[38;5;124m\"\u001b[39m\u001b[38;5;124mAccuracy\u001b[39m\u001b[38;5;124m\"\u001b[39m : \u001b[38;5;124mf\u001b[39m\u001b[38;5;124m\"\u001b[39m\u001b[38;5;132;01m{\u001b[39;00maccuracy\u001b[38;5;132;01m:\u001b[39;00m\u001b[38;5;124m.2f\u001b[39m\u001b[38;5;132;01m}\u001b[39;00m\u001b[38;5;124m%\u001b[39m\u001b[38;5;124m\"\u001b[39m \u001b[38;5;28;01mif\u001b[39;00m accuracy \u001b[38;5;129;01mis\u001b[39;00m \u001b[38;5;129;01mnot\u001b[39;00m \u001b[38;5;28;01mNone\u001b[39;00m \u001b[38;5;28;01melse\u001b[39;00m \u001b[38;5;124m\"\u001b[39m\u001b[38;5;124mN/A\u001b[39m\u001b[38;5;124m\"\u001b[39m\n\u001b[0;32m    178\u001b[0m         })\n",
      "Cell \u001b[1;32mIn[2], line 144\u001b[0m, in \u001b[0;36mtrain_and_predict\u001b[1;34m(indexcode, daily_data_path, lookback)\u001b[0m\n\u001b[0;32m    141\u001b[0m X \u001b[38;5;241m=\u001b[39m np\u001b[38;5;241m.\u001b[39mreshape(X, (X\u001b[38;5;241m.\u001b[39mshape[\u001b[38;5;241m0\u001b[39m], X\u001b[38;5;241m.\u001b[39mshape[\u001b[38;5;241m1\u001b[39m], \u001b[38;5;241m1\u001b[39m))\n\u001b[0;32m    143\u001b[0m model \u001b[38;5;241m=\u001b[39m create_lstm_model(input_shape\u001b[38;5;241m=\u001b[39m(X\u001b[38;5;241m.\u001b[39mshape[\u001b[38;5;241m1\u001b[39m], \u001b[38;5;241m1\u001b[39m))\n\u001b[1;32m--> 144\u001b[0m \u001b[43mmodel\u001b[49m\u001b[38;5;241;43m.\u001b[39;49m\u001b[43mfit\u001b[49m\u001b[43m(\u001b[49m\u001b[43mX\u001b[49m\u001b[43m,\u001b[49m\u001b[43m \u001b[49m\u001b[43my\u001b[49m\u001b[43m,\u001b[49m\u001b[43m \u001b[49m\u001b[43mepochs\u001b[49m\u001b[38;5;241;43m=\u001b[39;49m\u001b[38;5;241;43m10\u001b[39;49m\u001b[43m,\u001b[49m\u001b[43m \u001b[49m\u001b[43mbatch_size\u001b[49m\u001b[38;5;241;43m=\u001b[39;49m\u001b[38;5;241;43m32\u001b[39;49m\u001b[43m,\u001b[49m\u001b[43m \u001b[49m\u001b[43mverbose\u001b[49m\u001b[38;5;241;43m=\u001b[39;49m\u001b[38;5;241;43m0\u001b[39;49m\u001b[43m)\u001b[49m\n\u001b[0;32m    146\u001b[0m last_input \u001b[38;5;241m=\u001b[39m X[\u001b[38;5;241m-\u001b[39m\u001b[38;5;241m1\u001b[39m]\n\u001b[0;32m    147\u001b[0m last_input \u001b[38;5;241m=\u001b[39m np\u001b[38;5;241m.\u001b[39mreshape(last_input, (\u001b[38;5;241m1\u001b[39m, last_input\u001b[38;5;241m.\u001b[39mshape[\u001b[38;5;241m0\u001b[39m], \u001b[38;5;241m1\u001b[39m))\n",
      "File \u001b[1;32mc:\\Users\\manoj\\AppData\\Local\\Programs\\Python\\Python310\\lib\\site-packages\\keras\\src\\utils\\traceback_utils.py:117\u001b[0m, in \u001b[0;36mfilter_traceback.<locals>.error_handler\u001b[1;34m(*args, **kwargs)\u001b[0m\n\u001b[0;32m    115\u001b[0m filtered_tb \u001b[38;5;241m=\u001b[39m \u001b[38;5;28;01mNone\u001b[39;00m\n\u001b[0;32m    116\u001b[0m \u001b[38;5;28;01mtry\u001b[39;00m:\n\u001b[1;32m--> 117\u001b[0m     \u001b[38;5;28;01mreturn\u001b[39;00m fn(\u001b[38;5;241m*\u001b[39margs, \u001b[38;5;241m*\u001b[39m\u001b[38;5;241m*\u001b[39mkwargs)\n\u001b[0;32m    118\u001b[0m \u001b[38;5;28;01mexcept\u001b[39;00m \u001b[38;5;167;01mException\u001b[39;00m \u001b[38;5;28;01mas\u001b[39;00m e:\n\u001b[0;32m    119\u001b[0m     filtered_tb \u001b[38;5;241m=\u001b[39m _process_traceback_frames(e\u001b[38;5;241m.\u001b[39m__traceback__)\n",
      "File \u001b[1;32mc:\\Users\\manoj\\AppData\\Local\\Programs\\Python\\Python310\\lib\\site-packages\\keras\\src\\backend\\tensorflow\\trainer.py:371\u001b[0m, in \u001b[0;36mTensorFlowTrainer.fit\u001b[1;34m(self, x, y, batch_size, epochs, verbose, callbacks, validation_split, validation_data, shuffle, class_weight, sample_weight, initial_epoch, steps_per_epoch, validation_steps, validation_batch_size, validation_freq)\u001b[0m\n\u001b[0;32m    369\u001b[0m \u001b[38;5;28;01mfor\u001b[39;00m step, iterator \u001b[38;5;129;01min\u001b[39;00m epoch_iterator:\n\u001b[0;32m    370\u001b[0m     callbacks\u001b[38;5;241m.\u001b[39mon_train_batch_begin(step)\n\u001b[1;32m--> 371\u001b[0m     logs \u001b[38;5;241m=\u001b[39m \u001b[38;5;28;43mself\u001b[39;49m\u001b[38;5;241;43m.\u001b[39;49m\u001b[43mtrain_function\u001b[49m\u001b[43m(\u001b[49m\u001b[43miterator\u001b[49m\u001b[43m)\u001b[49m\n\u001b[0;32m    372\u001b[0m     callbacks\u001b[38;5;241m.\u001b[39mon_train_batch_end(step, logs)\n\u001b[0;32m    373\u001b[0m     \u001b[38;5;28;01mif\u001b[39;00m \u001b[38;5;28mself\u001b[39m\u001b[38;5;241m.\u001b[39mstop_training:\n",
      "File \u001b[1;32mc:\\Users\\manoj\\AppData\\Local\\Programs\\Python\\Python310\\lib\\site-packages\\keras\\src\\backend\\tensorflow\\trainer.py:219\u001b[0m, in \u001b[0;36mTensorFlowTrainer._make_function.<locals>.function\u001b[1;34m(iterator)\u001b[0m\n\u001b[0;32m    215\u001b[0m \u001b[38;5;28;01mdef\u001b[39;00m \u001b[38;5;21mfunction\u001b[39m(iterator):\n\u001b[0;32m    216\u001b[0m     \u001b[38;5;28;01mif\u001b[39;00m \u001b[38;5;28misinstance\u001b[39m(\n\u001b[0;32m    217\u001b[0m         iterator, (tf\u001b[38;5;241m.\u001b[39mdata\u001b[38;5;241m.\u001b[39mIterator, tf\u001b[38;5;241m.\u001b[39mdistribute\u001b[38;5;241m.\u001b[39mDistributedIterator)\n\u001b[0;32m    218\u001b[0m     ):\n\u001b[1;32m--> 219\u001b[0m         opt_outputs \u001b[38;5;241m=\u001b[39m \u001b[43mmulti_step_on_iterator\u001b[49m\u001b[43m(\u001b[49m\u001b[43miterator\u001b[49m\u001b[43m)\u001b[49m\n\u001b[0;32m    220\u001b[0m         \u001b[38;5;28;01mif\u001b[39;00m \u001b[38;5;129;01mnot\u001b[39;00m opt_outputs\u001b[38;5;241m.\u001b[39mhas_value():\n\u001b[0;32m    221\u001b[0m             \u001b[38;5;28;01mraise\u001b[39;00m \u001b[38;5;167;01mStopIteration\u001b[39;00m\n",
      "File \u001b[1;32mc:\\Users\\manoj\\AppData\\Local\\Programs\\Python\\Python310\\lib\\site-packages\\tensorflow\\python\\util\\traceback_utils.py:150\u001b[0m, in \u001b[0;36mfilter_traceback.<locals>.error_handler\u001b[1;34m(*args, **kwargs)\u001b[0m\n\u001b[0;32m    148\u001b[0m filtered_tb \u001b[38;5;241m=\u001b[39m \u001b[38;5;28;01mNone\u001b[39;00m\n\u001b[0;32m    149\u001b[0m \u001b[38;5;28;01mtry\u001b[39;00m:\n\u001b[1;32m--> 150\u001b[0m   \u001b[38;5;28;01mreturn\u001b[39;00m fn(\u001b[38;5;241m*\u001b[39margs, \u001b[38;5;241m*\u001b[39m\u001b[38;5;241m*\u001b[39mkwargs)\n\u001b[0;32m    151\u001b[0m \u001b[38;5;28;01mexcept\u001b[39;00m \u001b[38;5;167;01mException\u001b[39;00m \u001b[38;5;28;01mas\u001b[39;00m e:\n\u001b[0;32m    152\u001b[0m   filtered_tb \u001b[38;5;241m=\u001b[39m _process_traceback_frames(e\u001b[38;5;241m.\u001b[39m__traceback__)\n",
      "File \u001b[1;32mc:\\Users\\manoj\\AppData\\Local\\Programs\\Python\\Python310\\lib\\site-packages\\tensorflow\\python\\eager\\polymorphic_function\\polymorphic_function.py:833\u001b[0m, in \u001b[0;36mFunction.__call__\u001b[1;34m(self, *args, **kwds)\u001b[0m\n\u001b[0;32m    830\u001b[0m compiler \u001b[38;5;241m=\u001b[39m \u001b[38;5;124m\"\u001b[39m\u001b[38;5;124mxla\u001b[39m\u001b[38;5;124m\"\u001b[39m \u001b[38;5;28;01mif\u001b[39;00m \u001b[38;5;28mself\u001b[39m\u001b[38;5;241m.\u001b[39m_jit_compile \u001b[38;5;28;01melse\u001b[39;00m \u001b[38;5;124m\"\u001b[39m\u001b[38;5;124mnonXla\u001b[39m\u001b[38;5;124m\"\u001b[39m\n\u001b[0;32m    832\u001b[0m \u001b[38;5;28;01mwith\u001b[39;00m OptionalXlaContext(\u001b[38;5;28mself\u001b[39m\u001b[38;5;241m.\u001b[39m_jit_compile):\n\u001b[1;32m--> 833\u001b[0m   result \u001b[38;5;241m=\u001b[39m \u001b[38;5;28mself\u001b[39m\u001b[38;5;241m.\u001b[39m_call(\u001b[38;5;241m*\u001b[39margs, \u001b[38;5;241m*\u001b[39m\u001b[38;5;241m*\u001b[39mkwds)\n\u001b[0;32m    835\u001b[0m new_tracing_count \u001b[38;5;241m=\u001b[39m \u001b[38;5;28mself\u001b[39m\u001b[38;5;241m.\u001b[39mexperimental_get_tracing_count()\n\u001b[0;32m    836\u001b[0m without_tracing \u001b[38;5;241m=\u001b[39m (tracing_count \u001b[38;5;241m==\u001b[39m new_tracing_count)\n",
      "File \u001b[1;32mc:\\Users\\manoj\\AppData\\Local\\Programs\\Python\\Python310\\lib\\site-packages\\tensorflow\\python\\eager\\polymorphic_function\\polymorphic_function.py:878\u001b[0m, in \u001b[0;36mFunction._call\u001b[1;34m(self, *args, **kwds)\u001b[0m\n\u001b[0;32m    875\u001b[0m \u001b[38;5;28mself\u001b[39m\u001b[38;5;241m.\u001b[39m_lock\u001b[38;5;241m.\u001b[39mrelease()\n\u001b[0;32m    876\u001b[0m \u001b[38;5;66;03m# In this case we have not created variables on the first call. So we can\u001b[39;00m\n\u001b[0;32m    877\u001b[0m \u001b[38;5;66;03m# run the first trace but we should fail if variables are created.\u001b[39;00m\n\u001b[1;32m--> 878\u001b[0m results \u001b[38;5;241m=\u001b[39m \u001b[43mtracing_compilation\u001b[49m\u001b[38;5;241;43m.\u001b[39;49m\u001b[43mcall_function\u001b[49m\u001b[43m(\u001b[49m\n\u001b[0;32m    879\u001b[0m \u001b[43m    \u001b[49m\u001b[43margs\u001b[49m\u001b[43m,\u001b[49m\u001b[43m \u001b[49m\u001b[43mkwds\u001b[49m\u001b[43m,\u001b[49m\u001b[43m \u001b[49m\u001b[38;5;28;43mself\u001b[39;49m\u001b[38;5;241;43m.\u001b[39;49m\u001b[43m_variable_creation_config\u001b[49m\n\u001b[0;32m    880\u001b[0m \u001b[43m\u001b[49m\u001b[43m)\u001b[49m\n\u001b[0;32m    881\u001b[0m \u001b[38;5;28;01mif\u001b[39;00m \u001b[38;5;28mself\u001b[39m\u001b[38;5;241m.\u001b[39m_created_variables:\n\u001b[0;32m    882\u001b[0m   \u001b[38;5;28;01mraise\u001b[39;00m \u001b[38;5;167;01mValueError\u001b[39;00m(\u001b[38;5;124m\"\u001b[39m\u001b[38;5;124mCreating variables on a non-first call to a function\u001b[39m\u001b[38;5;124m\"\u001b[39m\n\u001b[0;32m    883\u001b[0m                    \u001b[38;5;124m\"\u001b[39m\u001b[38;5;124m decorated with tf.function.\u001b[39m\u001b[38;5;124m\"\u001b[39m)\n",
      "File \u001b[1;32mc:\\Users\\manoj\\AppData\\Local\\Programs\\Python\\Python310\\lib\\site-packages\\tensorflow\\python\\eager\\polymorphic_function\\tracing_compilation.py:139\u001b[0m, in \u001b[0;36mcall_function\u001b[1;34m(args, kwargs, tracing_options)\u001b[0m\n\u001b[0;32m    137\u001b[0m bound_args \u001b[38;5;241m=\u001b[39m function\u001b[38;5;241m.\u001b[39mfunction_type\u001b[38;5;241m.\u001b[39mbind(\u001b[38;5;241m*\u001b[39margs, \u001b[38;5;241m*\u001b[39m\u001b[38;5;241m*\u001b[39mkwargs)\n\u001b[0;32m    138\u001b[0m flat_inputs \u001b[38;5;241m=\u001b[39m function\u001b[38;5;241m.\u001b[39mfunction_type\u001b[38;5;241m.\u001b[39munpack_inputs(bound_args)\n\u001b[1;32m--> 139\u001b[0m \u001b[38;5;28;01mreturn\u001b[39;00m \u001b[43mfunction\u001b[49m\u001b[38;5;241;43m.\u001b[39;49m\u001b[43m_call_flat\u001b[49m\u001b[43m(\u001b[49m\u001b[43m  \u001b[49m\u001b[38;5;66;43;03m# pylint: disable=protected-access\u001b[39;49;00m\n\u001b[0;32m    140\u001b[0m \u001b[43m    \u001b[49m\u001b[43mflat_inputs\u001b[49m\u001b[43m,\u001b[49m\u001b[43m \u001b[49m\u001b[43mcaptured_inputs\u001b[49m\u001b[38;5;241;43m=\u001b[39;49m\u001b[43mfunction\u001b[49m\u001b[38;5;241;43m.\u001b[39;49m\u001b[43mcaptured_inputs\u001b[49m\n\u001b[0;32m    141\u001b[0m \u001b[43m\u001b[49m\u001b[43m)\u001b[49m\n",
      "File \u001b[1;32mc:\\Users\\manoj\\AppData\\Local\\Programs\\Python\\Python310\\lib\\site-packages\\tensorflow\\python\\eager\\polymorphic_function\\concrete_function.py:1322\u001b[0m, in \u001b[0;36mConcreteFunction._call_flat\u001b[1;34m(self, tensor_inputs, captured_inputs)\u001b[0m\n\u001b[0;32m   1318\u001b[0m possible_gradient_type \u001b[38;5;241m=\u001b[39m gradients_util\u001b[38;5;241m.\u001b[39mPossibleTapeGradientTypes(args)\n\u001b[0;32m   1319\u001b[0m \u001b[38;5;28;01mif\u001b[39;00m (possible_gradient_type \u001b[38;5;241m==\u001b[39m gradients_util\u001b[38;5;241m.\u001b[39mPOSSIBLE_GRADIENT_TYPES_NONE\n\u001b[0;32m   1320\u001b[0m     \u001b[38;5;129;01mand\u001b[39;00m executing_eagerly):\n\u001b[0;32m   1321\u001b[0m   \u001b[38;5;66;03m# No tape is watching; skip to running the function.\u001b[39;00m\n\u001b[1;32m-> 1322\u001b[0m   \u001b[38;5;28;01mreturn\u001b[39;00m \u001b[38;5;28;43mself\u001b[39;49m\u001b[38;5;241;43m.\u001b[39;49m\u001b[43m_inference_function\u001b[49m\u001b[38;5;241;43m.\u001b[39;49m\u001b[43mcall_preflattened\u001b[49m\u001b[43m(\u001b[49m\u001b[43margs\u001b[49m\u001b[43m)\u001b[49m\n\u001b[0;32m   1323\u001b[0m forward_backward \u001b[38;5;241m=\u001b[39m \u001b[38;5;28mself\u001b[39m\u001b[38;5;241m.\u001b[39m_select_forward_and_backward_functions(\n\u001b[0;32m   1324\u001b[0m     args,\n\u001b[0;32m   1325\u001b[0m     possible_gradient_type,\n\u001b[0;32m   1326\u001b[0m     executing_eagerly)\n\u001b[0;32m   1327\u001b[0m forward_function, args_with_tangents \u001b[38;5;241m=\u001b[39m forward_backward\u001b[38;5;241m.\u001b[39mforward()\n",
      "File \u001b[1;32mc:\\Users\\manoj\\AppData\\Local\\Programs\\Python\\Python310\\lib\\site-packages\\tensorflow\\python\\eager\\polymorphic_function\\atomic_function.py:216\u001b[0m, in \u001b[0;36mAtomicFunction.call_preflattened\u001b[1;34m(self, args)\u001b[0m\n\u001b[0;32m    214\u001b[0m \u001b[38;5;28;01mdef\u001b[39;00m \u001b[38;5;21mcall_preflattened\u001b[39m(\u001b[38;5;28mself\u001b[39m, args: Sequence[core\u001b[38;5;241m.\u001b[39mTensor]) \u001b[38;5;241m-\u001b[39m\u001b[38;5;241m>\u001b[39m Any:\n\u001b[0;32m    215\u001b[0m \u001b[38;5;250m  \u001b[39m\u001b[38;5;124;03m\"\"\"Calls with flattened tensor inputs and returns the structured output.\"\"\"\u001b[39;00m\n\u001b[1;32m--> 216\u001b[0m   flat_outputs \u001b[38;5;241m=\u001b[39m \u001b[38;5;28;43mself\u001b[39;49m\u001b[38;5;241;43m.\u001b[39;49m\u001b[43mcall_flat\u001b[49m\u001b[43m(\u001b[49m\u001b[38;5;241;43m*\u001b[39;49m\u001b[43margs\u001b[49m\u001b[43m)\u001b[49m\n\u001b[0;32m    217\u001b[0m   \u001b[38;5;28;01mreturn\u001b[39;00m \u001b[38;5;28mself\u001b[39m\u001b[38;5;241m.\u001b[39mfunction_type\u001b[38;5;241m.\u001b[39mpack_output(flat_outputs)\n",
      "File \u001b[1;32mc:\\Users\\manoj\\AppData\\Local\\Programs\\Python\\Python310\\lib\\site-packages\\tensorflow\\python\\eager\\polymorphic_function\\atomic_function.py:251\u001b[0m, in \u001b[0;36mAtomicFunction.call_flat\u001b[1;34m(self, *args)\u001b[0m\n\u001b[0;32m    249\u001b[0m \u001b[38;5;28;01mwith\u001b[39;00m record\u001b[38;5;241m.\u001b[39mstop_recording():\n\u001b[0;32m    250\u001b[0m   \u001b[38;5;28;01mif\u001b[39;00m \u001b[38;5;28mself\u001b[39m\u001b[38;5;241m.\u001b[39m_bound_context\u001b[38;5;241m.\u001b[39mexecuting_eagerly():\n\u001b[1;32m--> 251\u001b[0m     outputs \u001b[38;5;241m=\u001b[39m \u001b[38;5;28;43mself\u001b[39;49m\u001b[38;5;241;43m.\u001b[39;49m\u001b[43m_bound_context\u001b[49m\u001b[38;5;241;43m.\u001b[39;49m\u001b[43mcall_function\u001b[49m\u001b[43m(\u001b[49m\n\u001b[0;32m    252\u001b[0m \u001b[43m        \u001b[49m\u001b[38;5;28;43mself\u001b[39;49m\u001b[38;5;241;43m.\u001b[39;49m\u001b[43mname\u001b[49m\u001b[43m,\u001b[49m\n\u001b[0;32m    253\u001b[0m \u001b[43m        \u001b[49m\u001b[38;5;28;43mlist\u001b[39;49m\u001b[43m(\u001b[49m\u001b[43margs\u001b[49m\u001b[43m)\u001b[49m\u001b[43m,\u001b[49m\n\u001b[0;32m    254\u001b[0m \u001b[43m        \u001b[49m\u001b[38;5;28;43mlen\u001b[39;49m\u001b[43m(\u001b[49m\u001b[38;5;28;43mself\u001b[39;49m\u001b[38;5;241;43m.\u001b[39;49m\u001b[43mfunction_type\u001b[49m\u001b[38;5;241;43m.\u001b[39;49m\u001b[43mflat_outputs\u001b[49m\u001b[43m)\u001b[49m\u001b[43m,\u001b[49m\n\u001b[0;32m    255\u001b[0m \u001b[43m    \u001b[49m\u001b[43m)\u001b[49m\n\u001b[0;32m    256\u001b[0m   \u001b[38;5;28;01melse\u001b[39;00m:\n\u001b[0;32m    257\u001b[0m     outputs \u001b[38;5;241m=\u001b[39m make_call_op_in_graph(\n\u001b[0;32m    258\u001b[0m         \u001b[38;5;28mself\u001b[39m,\n\u001b[0;32m    259\u001b[0m         \u001b[38;5;28mlist\u001b[39m(args),\n\u001b[0;32m    260\u001b[0m         \u001b[38;5;28mself\u001b[39m\u001b[38;5;241m.\u001b[39m_bound_context\u001b[38;5;241m.\u001b[39mfunction_call_options\u001b[38;5;241m.\u001b[39mas_attrs(),\n\u001b[0;32m    261\u001b[0m     )\n",
      "File \u001b[1;32mc:\\Users\\manoj\\AppData\\Local\\Programs\\Python\\Python310\\lib\\site-packages\\tensorflow\\python\\eager\\context.py:1683\u001b[0m, in \u001b[0;36mContext.call_function\u001b[1;34m(self, name, tensor_inputs, num_outputs)\u001b[0m\n\u001b[0;32m   1681\u001b[0m cancellation_context \u001b[38;5;241m=\u001b[39m cancellation\u001b[38;5;241m.\u001b[39mcontext()\n\u001b[0;32m   1682\u001b[0m \u001b[38;5;28;01mif\u001b[39;00m cancellation_context \u001b[38;5;129;01mis\u001b[39;00m \u001b[38;5;28;01mNone\u001b[39;00m:\n\u001b[1;32m-> 1683\u001b[0m   outputs \u001b[38;5;241m=\u001b[39m \u001b[43mexecute\u001b[49m\u001b[38;5;241;43m.\u001b[39;49m\u001b[43mexecute\u001b[49m\u001b[43m(\u001b[49m\n\u001b[0;32m   1684\u001b[0m \u001b[43m      \u001b[49m\u001b[43mname\u001b[49m\u001b[38;5;241;43m.\u001b[39;49m\u001b[43mdecode\u001b[49m\u001b[43m(\u001b[49m\u001b[38;5;124;43m\"\u001b[39;49m\u001b[38;5;124;43mutf-8\u001b[39;49m\u001b[38;5;124;43m\"\u001b[39;49m\u001b[43m)\u001b[49m\u001b[43m,\u001b[49m\n\u001b[0;32m   1685\u001b[0m \u001b[43m      \u001b[49m\u001b[43mnum_outputs\u001b[49m\u001b[38;5;241;43m=\u001b[39;49m\u001b[43mnum_outputs\u001b[49m\u001b[43m,\u001b[49m\n\u001b[0;32m   1686\u001b[0m \u001b[43m      \u001b[49m\u001b[43minputs\u001b[49m\u001b[38;5;241;43m=\u001b[39;49m\u001b[43mtensor_inputs\u001b[49m\u001b[43m,\u001b[49m\n\u001b[0;32m   1687\u001b[0m \u001b[43m      \u001b[49m\u001b[43mattrs\u001b[49m\u001b[38;5;241;43m=\u001b[39;49m\u001b[43mattrs\u001b[49m\u001b[43m,\u001b[49m\n\u001b[0;32m   1688\u001b[0m \u001b[43m      \u001b[49m\u001b[43mctx\u001b[49m\u001b[38;5;241;43m=\u001b[39;49m\u001b[38;5;28;43mself\u001b[39;49m\u001b[43m,\u001b[49m\n\u001b[0;32m   1689\u001b[0m \u001b[43m  \u001b[49m\u001b[43m)\u001b[49m\n\u001b[0;32m   1690\u001b[0m \u001b[38;5;28;01melse\u001b[39;00m:\n\u001b[0;32m   1691\u001b[0m   outputs \u001b[38;5;241m=\u001b[39m execute\u001b[38;5;241m.\u001b[39mexecute_with_cancellation(\n\u001b[0;32m   1692\u001b[0m       name\u001b[38;5;241m.\u001b[39mdecode(\u001b[38;5;124m\"\u001b[39m\u001b[38;5;124mutf-8\u001b[39m\u001b[38;5;124m\"\u001b[39m),\n\u001b[0;32m   1693\u001b[0m       num_outputs\u001b[38;5;241m=\u001b[39mnum_outputs,\n\u001b[1;32m   (...)\u001b[0m\n\u001b[0;32m   1697\u001b[0m       cancellation_manager\u001b[38;5;241m=\u001b[39mcancellation_context,\n\u001b[0;32m   1698\u001b[0m   )\n",
      "File \u001b[1;32mc:\\Users\\manoj\\AppData\\Local\\Programs\\Python\\Python310\\lib\\site-packages\\tensorflow\\python\\eager\\execute.py:53\u001b[0m, in \u001b[0;36mquick_execute\u001b[1;34m(op_name, num_outputs, inputs, attrs, ctx, name)\u001b[0m\n\u001b[0;32m     51\u001b[0m \u001b[38;5;28;01mtry\u001b[39;00m:\n\u001b[0;32m     52\u001b[0m   ctx\u001b[38;5;241m.\u001b[39mensure_initialized()\n\u001b[1;32m---> 53\u001b[0m   tensors \u001b[38;5;241m=\u001b[39m \u001b[43mpywrap_tfe\u001b[49m\u001b[38;5;241;43m.\u001b[39;49m\u001b[43mTFE_Py_Execute\u001b[49m\u001b[43m(\u001b[49m\u001b[43mctx\u001b[49m\u001b[38;5;241;43m.\u001b[39;49m\u001b[43m_handle\u001b[49m\u001b[43m,\u001b[49m\u001b[43m \u001b[49m\u001b[43mdevice_name\u001b[49m\u001b[43m,\u001b[49m\u001b[43m \u001b[49m\u001b[43mop_name\u001b[49m\u001b[43m,\u001b[49m\n\u001b[0;32m     54\u001b[0m \u001b[43m                                      \u001b[49m\u001b[43minputs\u001b[49m\u001b[43m,\u001b[49m\u001b[43m \u001b[49m\u001b[43mattrs\u001b[49m\u001b[43m,\u001b[49m\u001b[43m \u001b[49m\u001b[43mnum_outputs\u001b[49m\u001b[43m)\u001b[49m\n\u001b[0;32m     55\u001b[0m \u001b[38;5;28;01mexcept\u001b[39;00m core\u001b[38;5;241m.\u001b[39m_NotOkStatusException \u001b[38;5;28;01mas\u001b[39;00m e:\n\u001b[0;32m     56\u001b[0m   \u001b[38;5;28;01mif\u001b[39;00m name \u001b[38;5;129;01mis\u001b[39;00m \u001b[38;5;129;01mnot\u001b[39;00m \u001b[38;5;28;01mNone\u001b[39;00m:\n",
      "\u001b[1;31mKeyboardInterrupt\u001b[0m: "
     ]
    }
   ],
   "source": [
    "import yfinance as yf\n",
    "import pandas as pd\n",
    "import numpy as np\n",
    "from sklearn.preprocessing import MinMaxScaler\n",
    "from tensorflow.keras.models import Sequential\n",
    "from tensorflow.keras.layers import LSTM, Dense\n",
    "import os\n",
    "from tabulate import tabulate\n",
    "import datetime\n",
    "\n",
    "def load_filtered_indices(file_path):\n",
    "    \"\"\"Loads index codes from the filtered indices output file.\"\"\"\n",
    "    try:\n",
    "        df = pd.read_csv(file_path)\n",
    "        return df['indexcode'].tolist()\n",
    "    except Exception as e:\n",
    "        print(f\"Chat: Error loading filtered indices: {e}\")\n",
    "        return None\n",
    "\n",
    "def get_stock_data_from_csv(indexcode, daily_data_path):\n",
    "    \"\"\"Reads stock data from a CSV file based on indexcode.\"\"\"\n",
    "    filename = f\"{indexcode.replace('.','_')}.csv\"\n",
    "    file_path = os.path.join(daily_data_path, filename)\n",
    "    if not os.path.exists(file_path):\n",
    "      print(f\"Chat: File not found: {file_path}\")\n",
    "      return None\n",
    "    try:\n",
    "        df = pd.read_csv(file_path)\n",
    "        if df.empty:\n",
    "            print(f\"Chat: No data in file: {file_path}\")\n",
    "            return None\n",
    "\n",
    "        # Ensure 'Close' column is numeric, coerce errors to NaN\n",
    "        df['Close'] = pd.to_numeric(df['Close'], errors='coerce')\n",
    "\n",
    "        # Remove rows where 'Close' is NaN\n",
    "        df = df.dropna(subset=['Close'])\n",
    "        \n",
    "        if df.empty:\n",
    "            print(f\"Chat: No valid numeric data in file after cleaning: {file_path}\")\n",
    "            return None\n",
    "            \n",
    "        return df\n",
    "    except Exception as e:\n",
    "        print(f\"Chat: Error reading data from {file_path}: {e}\")\n",
    "        return None\n",
    "\n",
    "def prepare_data_for_lstm(df, lookback=7):\n",
    "    \"\"\"Prepares data for LSTM training, scaling and creating sequences.\"\"\"\n",
    "    if df is None or 'Close' not in df.columns:\n",
    "        return None, None, None\n",
    "        \n",
    "    # Check if 'Close' column contains numeric data\n",
    "    if not pd.api.types.is_numeric_dtype(df['Close']):\n",
    "        print(f\"Chat: Non-numeric data found in 'Close' column. Skipping scaling for this index.\")\n",
    "        return None, None, None\n",
    "    \n",
    "    data = df['Close'].values.reshape(-1, 1)\n",
    "    scaler = MinMaxScaler(feature_range=(0, 1))\n",
    "    \n",
    "    try:\n",
    "       scaled_data = scaler.fit_transform(data)\n",
    "    except Exception as e:\n",
    "        print(f\"Chat: Error during scaling: {e}. Skipping this index.\")\n",
    "        return None, None, None\n",
    "\n",
    "\n",
    "    X, y = [], []\n",
    "    for i in range(lookback, len(scaled_data)):\n",
    "        X.append(scaled_data[i-lookback:i, 0])\n",
    "        y.append(scaled_data[i, 0])\n",
    "\n",
    "    return np.array(X), np.array(y), scaler\n",
    "\n",
    "\n",
    "def create_lstm_model(input_shape):\n",
    "    \"\"\"Creates a basic LSTM model.\"\"\"\n",
    "    model = Sequential()\n",
    "    model.add(LSTM(units=50, return_sequences=True, input_shape=input_shape))\n",
    "    model.add(LSTM(units=50))\n",
    "    model.add(Dense(units=1))\n",
    "    model.compile(optimizer='adam', loss='mean_squared_error')\n",
    "    return model\n",
    "\n",
    "def calculate_expected_high_low(df, predicted_close):\n",
    "    \"\"\"Calculates expected high and low based on historical data.\"\"\"\n",
    "    if df is None:\n",
    "        return None, None\n",
    "    last_20_days = df.tail(20)  #Taking the last 20 day data for calculating expected High and Low\n",
    "    if last_20_days.empty:\n",
    "         return None, None\n",
    "    \n",
    "    # Ensure 'High' and 'Low' columns are numeric, coerce errors to NaN\n",
    "    last_20_days['High'] = pd.to_numeric(last_20_days['High'], errors='coerce')\n",
    "    last_20_days['Low'] = pd.to_numeric(last_20_days['Low'], errors='coerce')\n",
    "    \n",
    "    # Remove rows where 'High' or 'Low' is NaN\n",
    "    last_20_days = last_20_days.dropna(subset=['High', 'Low'])\n",
    "\n",
    "    high_values = last_20_days['High'].values\n",
    "    low_values = last_20_days['Low'].values\n",
    "    \n",
    "    if len(high_values) == 0 or len(low_values) == 0:\n",
    "        return None, None\n",
    "    \n",
    "    average_high = np.mean(high_values)\n",
    "    average_low = np.mean(low_values)\n",
    "\n",
    "    expected_high = predicted_close + (average_high - np.mean(last_20_days['Close'].values))\n",
    "    expected_low = predicted_close - (np.mean(last_20_days['Close'].values) - average_low)\n",
    "    \n",
    "    return expected_high, expected_low\n",
    "\n",
    "\n",
    "def calculate_accuracy(df, predicted_close, lookback=7):\n",
    "    \"\"\"Calculates accuracy of the prediction based on last lookback days data\"\"\"\n",
    "    if df is None or len(df) <= lookback:\n",
    "        return None  # Not enough data for comparison\n",
    "    actual_close_price = df['Close'].iloc[-1]\n",
    "    accuracy = 100 - (abs(predicted_close- actual_close_price)/ actual_close_price *100)\n",
    "    return accuracy\n",
    "\n",
    "\n",
    "def train_and_predict(indexcode, daily_data_path, lookback=7):\n",
    "    \"\"\"\n",
    "    Fetches stock data, prepares it, trains an LSTM model, and returns the last prediction,\n",
    "    expected high and low, and accuracy\n",
    "    \"\"\"\n",
    "    print(f\"Chat: Starting processing for {indexcode}...\")\n",
    "    df = get_stock_data_from_csv(indexcode, daily_data_path)\n",
    "    if df is None:\n",
    "        print(f\"Chat: No data for {indexcode}, skipping...\")\n",
    "        return None, None, None ,None\n",
    "\n",
    "    X, y, scaler = prepare_data_for_lstm(df,lookback)\n",
    "\n",
    "    if X is None or y is None:\n",
    "        print(f\"Chat: Unable to prepare data for {indexcode}, skipping...\")\n",
    "        return None, None,None, None\n",
    "\n",
    "    X = np.reshape(X, (X.shape[0], X.shape[1], 1))\n",
    "\n",
    "    model = create_lstm_model(input_shape=(X.shape[1], 1))\n",
    "    model.fit(X, y, epochs=10, batch_size=32, verbose=0)\n",
    "\n",
    "    last_input = X[-1]\n",
    "    last_input = np.reshape(last_input, (1, last_input.shape[0], 1))\n",
    "    predicted_scaled_value = model.predict(last_input, verbose = 0)[0][0]\n",
    "    predicted_close = scaler.inverse_transform([[predicted_scaled_value]])[0][0]\n",
    "\n",
    "    expected_high, expected_low = calculate_expected_high_low(df, predicted_close)\n",
    "    accuracy = calculate_accuracy(df, predicted_close)\n",
    "    print(f\"Chat: Prediction completed for {indexcode}\")\n",
    "    return predicted_close, expected_high, expected_low, accuracy\n",
    "\n",
    "\n",
    "if __name__ == '__main__':\n",
    "    filtered_indices_file = 'C://Users//manoj//Downloads//Major project data//Major pro source codes//DATASETS//filtered_indices_output.csv'\n",
    "    daily_data_path = 'C://Users//manoj//Downloads//Major project data//Major pro source codes//DATASETS//Daily_data'\n",
    "    output_file = 'C://Users//manoj//Downloads//Major project data//Major pro source codes//DATASETS//lstm_outputs.csv' # Output file path\n",
    "    lookback_days=7\n",
    "    indexcodes = load_filtered_indices(filtered_indices_file)\n",
    "\n",
    "    if indexcodes is None:\n",
    "        print(\"Chat: No indices loaded. Exiting.\")\n",
    "        exit()\n",
    "\n",
    "    results = []\n",
    "    for indexcode in indexcodes:\n",
    "      predicted_value, expected_high, expected_low, accuracy = train_and_predict(indexcode, daily_data_path, lookback_days)\n",
    "      if predicted_value is not None:\n",
    "        results.append({\n",
    "            \"Index Code\": indexcode,\n",
    "            \"Predicted Close\": f\"{predicted_value:.2f}\",\n",
    "            \"Expected High\": f\"{expected_high:.2f}\" if expected_high is not None else \"N/A\",\n",
    "            \"Expected Low\": f\"{expected_low:.2f}\" if expected_low is not None else \"N/A\",\n",
    "            \"Accuracy\" : f\"{accuracy:.2f}%\" if accuracy is not None else \"N/A\"\n",
    "            })\n",
    "\n",
    "    if results:\n",
    "        df_results = pd.DataFrame(results)\n",
    "        df_results.to_csv(output_file, index=False)  # Save to CSV\n",
    "        print(f\"Chat: Results saved to: {output_file}\")\n",
    "        print(tabulate(results, headers=\"keys\", tablefmt=\"fancy_grid\"))\n",
    "    else:\n",
    "        print(\"Chat: No results to display.\")\n"
   ]
  }
 ],
 "metadata": {
  "kernelspec": {
   "display_name": "Python 3",
   "language": "python",
   "name": "python3"
  },
  "language_info": {
   "codemirror_mode": {
    "name": "ipython",
    "version": 3
   },
   "file_extension": ".py",
   "mimetype": "text/x-python",
   "name": "python",
   "nbconvert_exporter": "python",
   "pygments_lexer": "ipython3",
   "version": "3.10.5"
  }
 },
 "nbformat": 4,
 "nbformat_minor": 2
}
