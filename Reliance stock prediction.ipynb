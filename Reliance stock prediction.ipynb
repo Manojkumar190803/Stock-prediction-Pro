{
 "cells": [
  {
   "cell_type": "markdown",
   "id": "894b986e",
   "metadata": {},
   "source": [
    "# Reliance Industries\n",
    "### Stock Analysis and Forecasting"
   ]
  },
  {
   "cell_type": "markdown",
   "id": "85a3e716",
   "metadata": {},
   "source": [
    "## Business Objective\n",
    "\n",
    "Predict the Reliance Industries Stock Price for the next 30 days.\n",
    "\n",
    "There are Open, High, Low and Close prices that you need to obtain from the web for each day starting from 2015 to 2022 for Reliance Industries stock.\n",
    "\n",
    "- Split the last year into a test set- to build a model to predict stock price.\n",
    "\n",
    "- Find short term, & long term trends.\n",
    "\n",
    "- Understand how it is impacted from external factors or any big external events.\n",
    "\n",
    "- Forecast for next 30 days."
   ]
  },
  {
   "attachments": {},
   "cell_type": "markdown",
   "id": "ece27e1b",
   "metadata": {},
   "source": [
    "## Collection of Dataset\n",
    "\n",
    "- For this project, we will be using the Yfinance library to get the data, which makes it easy to process.\n",
    "\n",
    "- We collected data from 1-Jan-2015 to 28-Feb-2023.\n",
    "\n",
    "- But also you can download data from ‘Yahoo! Finance’ website. You can use Below link. \n",
    "\n",
    "- https://finance.yahoo.com/quote/RELIANCE.NS/history?p=RELIANCE.NS"
   ]
  },
  {
   "cell_type": "code",
   "execution_count": 2,
   "id": "592d36b0",
   "metadata": {},
   "outputs": [],
   "source": [
    "import pandas as pd\n",
    "import numpy as np\n",
    "import matplotlib.pyplot as plt\n",
    "import seaborn as sns\n",
    "import yfinance as yf\n",
    "\n",
    "import warnings\n",
    "warnings.filterwarnings(\"ignore\")"
   ]
  },
  {
   "cell_type": "markdown",
   "id": "6a518605",
   "metadata": {},
   "source": [
    "## About the data\n",
    "\n",
    "- Date: Date of trade\n",
    "\n",
    "- Open: Opening Price of Stock\n",
    "\n",
    "- High: Highest price of stock on that day\n",
    "\n",
    "- Low: Lowest price of stock on that day\n",
    "\n",
    "- Close: Close price adjusted for splits.\n",
    "\n",
    "- Adj  Close: Adjusted close price adjusted for splits and dividend and/or capital gain distributions.\n",
    "\n",
    "- Volume: Volume of stock on that day"
   ]
  },
  {
   "cell_type": "code",
   "execution_count": 4,
   "id": "43846665",
   "metadata": {},
   "outputs": [
    {
     "ename": "NameError",
     "evalue": "name 'data' is not defined",
     "output_type": "error",
     "traceback": [
      "\u001b[1;31m---------------------------------------------------------------------------\u001b[0m",
      "\u001b[1;31mNameError\u001b[0m                                 Traceback (most recent call last)",
      "Cell \u001b[1;32mIn[4], line 5\u001b[0m\n\u001b[0;32m      1\u001b[0m \u001b[38;5;66;03m# Downloading the data\u001b[39;00m\n\u001b[0;32m      2\u001b[0m \u001b[38;5;66;03m#data = yf.download('RELIANCE.NS', start='2000-01-01', end='2024-12-31').reset_index(drop=False)\u001b[39;00m\n\u001b[0;32m      3\u001b[0m \n\u001b[0;32m      4\u001b[0m \u001b[38;5;66;03m# Creating a DataFrame\u001b[39;00m\n\u001b[1;32m----> 5\u001b[0m reliance_0 \u001b[38;5;241m=\u001b[39m pd\u001b[38;5;241m.\u001b[39mDataFrame(\u001b[43mdata\u001b[49m)\n\u001b[0;32m      7\u001b[0m \u001b[38;5;66;03m# Saving the DataFrame to a CSV file\u001b[39;00m\n\u001b[0;32m      8\u001b[0m reliance_0\u001b[38;5;241m.\u001b[39mto_csv(\u001b[38;5;124m'\u001b[39m\u001b[38;5;124mreliance_data.csv\u001b[39m\u001b[38;5;124m'\u001b[39m, index\u001b[38;5;241m=\u001b[39m\u001b[38;5;28;01mFalse\u001b[39;00m)\n",
      "\u001b[1;31mNameError\u001b[0m: name 'data' is not defined"
     ]
    }
   ],
   "source": [
    "# Downloading the data\n",
    "#data = yf.download('RELIANCE.NS', start='2000-01-01', end='2024-12-31').reset_index(drop=False)\n",
    "\n",
    "# Creating a DataFrame\n",
    "reliance_0 = pd.DataFrame(data)\n",
    "\n",
    "# Saving the DataFrame to a CSV file\n",
    "reliance_0.to_csv('reliance_data.csv', index=False)\n",
    "reliance_0 = pd.read_csv('reliance_data.csv')\n"
   ]
  },
  {
   "cell_type": "code",
   "execution_count": null,
   "id": "f01d5782",
   "metadata": {},
   "outputs": [],
   "source": [
    "reliance_0.head(10)"
   ]
  },
  {
   "cell_type": "code",
   "execution_count": null,
   "id": "d1aebc80",
   "metadata": {},
   "outputs": [],
   "source": [
    "reliance_0.tail()"
   ]
  },
  {
   "cell_type": "code",
   "execution_count": null,
   "id": "1e2f6061",
   "metadata": {},
   "outputs": [],
   "source": [
    "reliance_0.tail(10)"
   ]
  },
  {
   "cell_type": "markdown",
   "id": "c5ec9760",
   "metadata": {},
   "source": [
    "# EDA"
   ]
  },
  {
   "cell_type": "markdown",
   "id": "8ebe3f31",
   "metadata": {},
   "source": [
    "Analysis is only based on Open, High, Low, close price and volume\n",
    "\n",
    "There is no need of Adj Close"
   ]
  },
  {
   "cell_type": "code",
   "execution_count": null,
   "id": "e97df675",
   "metadata": {},
   "outputs": [],
   "source": [
    "# Removing \"Adj Close\" columnfrom dataset\n",
    "reliance_1=reliance_0.drop([\"Adj Close\"],axis=1).reset_index(drop=True)\n",
    "reliance_1"
   ]
  },
  {
   "cell_type": "code",
   "execution_count": null,
   "id": "b304ee87",
   "metadata": {},
   "outputs": [],
   "source": [
    "# Finding duplicate columns, if any\n",
    "reliance_1[reliance_1.duplicated()]"
   ]
  },
  {
   "cell_type": "code",
   "execution_count": null,
   "id": "553280ef",
   "metadata": {},
   "outputs": [],
   "source": [
    "# Finding null values, if any\n",
    "reliance_1.isnull().sum()"
   ]
  },
  {
   "cell_type": "code",
   "execution_count": null,
   "id": "eb924e42",
   "metadata": {},
   "outputs": [],
   "source": [
    "#To check which rows have any missing value under any column\n",
    "reliance_1[reliance_1.isnull().any(axis=1)]"
   ]
  },
  {
   "cell_type": "code",
   "execution_count": null,
   "id": "f7fabd94",
   "metadata": {},
   "outputs": [],
   "source": [
    "# Removing the row which have null value\n",
    "reliance_2=reliance_1.dropna().reset_index(drop=True)\n",
    "reliance_2"
   ]
  },
  {
   "cell_type": "code",
   "execution_count": null,
   "id": "cb34dba9",
   "metadata": {},
   "outputs": [],
   "source": [
    "# Checking wether if there exist any null values\n",
    "reliance_2[reliance_2.isnull().any(axis=1)]"
   ]
  },
  {
   "cell_type": "code",
   "execution_count": null,
   "id": "c5ce5636",
   "metadata": {},
   "outputs": [],
   "source": [
    "# Making a copy of dataset as reliance\n",
    "reliance=reliance_2.copy()\n",
    "reliance"
   ]
  },
  {
   "cell_type": "markdown",
   "id": "e30dc842",
   "metadata": {},
   "source": [
    "#### Discriptive Statistics"
   ]
  },
  {
   "cell_type": "code",
   "execution_count": null,
   "id": "1ae84056",
   "metadata": {
    "scrolled": true
   },
   "outputs": [],
   "source": [
    "reliance.info()"
   ]
  },
  {
   "cell_type": "code",
   "execution_count": null,
   "id": "65545b29",
   "metadata": {},
   "outputs": [],
   "source": [
    "reliance.describe()"
   ]
  },
  {
   "cell_type": "code",
   "execution_count": null,
   "id": "9e9e10c1",
   "metadata": {},
   "outputs": [],
   "source": [
    "#reliance.corr()"
   ]
  },
  {
   "cell_type": "markdown",
   "id": "b2b758a3",
   "metadata": {},
   "source": [
    "- Every attributes are highly corelated except volume"
   ]
  },
  {
   "cell_type": "code",
   "execution_count": null,
   "id": "f920c8dc",
   "metadata": {},
   "outputs": [],
   "source": [
    "# converting the date column in to datetime \n",
    "reliance['Date']=pd.to_datetime(reliance['Date'],format='%Y-%m-%d')\n",
    "reliance"
   ]
  },
  {
   "cell_type": "code",
   "execution_count": null,
   "id": "e6009e90",
   "metadata": {},
   "outputs": [],
   "source": [
    "# Setting the date column as index\n",
    "reliance=reliance.set_index('Date')\n",
    "reliance"
   ]
  },
  {
   "cell_type": "markdown",
   "id": "19aa8eb6",
   "metadata": {},
   "source": [
    "### Visualizations"
   ]
  },
  {
   "cell_type": "code",
   "execution_count": null,
   "id": "a8861450",
   "metadata": {},
   "outputs": [],
   "source": [
    "plt.figure(figsize=(20,10))\n",
    "#Plot 1\n",
    "plt.subplot(2,2,1)\n",
    "plt.plot(reliance['Open'],color='green')\n",
    "plt.xlabel('Date')\n",
    "plt.ylabel('Open Price')\n",
    "plt.title('Open')\n",
    "#Plot 2\n",
    "plt.subplot(2,2,2)\n",
    "plt.plot(reliance['Close'],color='red')\n",
    "plt.xlabel('Date')\n",
    "plt.ylabel('Close Price')\n",
    "plt.title('Close')\n",
    "#Plot 3\n",
    "plt.subplot(2,2,3)\n",
    "plt.plot(reliance['High'],color='green')\n",
    "plt.xlabel('Date')\n",
    "plt.ylabel('High Price')\n",
    "plt.title('High')\n",
    "#Plot 4\n",
    "plt.subplot(2,2,4)\n",
    "plt.plot(reliance['Low'],color='red')\n",
    "plt.xlabel('Date')\n",
    "plt.ylabel('Low Price')\n",
    "plt.title('Low')"
   ]
  },
  {
   "cell_type": "code",
   "execution_count": null,
   "id": "f7bd23f1",
   "metadata": {},
   "outputs": [],
   "source": [
    "# Creating box-plots\n",
    "plt.figure(figsize=(20,10))\n",
    "#Plot 1\n",
    "plt.subplot(2,2,1)\n",
    "plt.boxplot(reliance['Open'])\n",
    "plt.xlabel('Date')\n",
    "plt.ylabel('Open Price')\n",
    "plt.title('Open')\n",
    "#Plot 2\n",
    "plt.subplot(2,2,2)\n",
    "plt.boxplot(reliance['Close'])\n",
    "plt.xlabel('Date')\n",
    "plt.ylabel('Cloes Price')\n",
    "plt.title('Close')\n",
    "#Plot 3\n",
    "plt.subplot(2,2,3)\n",
    "plt.boxplot(reliance['High'])\n",
    "plt.xlabel('Date')\n",
    "plt.ylabel('High Price')\n",
    "plt.title('High')\n",
    "#Plot 4\n",
    "plt.subplot(2,2,4)\n",
    "plt.boxplot(reliance['Low'])\n",
    "plt.xlabel('Date')\n",
    "plt.ylabel('Low Price')\n",
    "plt.title('Low')"
   ]
  },
  {
   "cell_type": "markdown",
   "id": "7e44557b",
   "metadata": {},
   "source": [
    "From the box plot it is clear that there are no outliers inthe dataset"
   ]
  },
  {
   "cell_type": "code",
   "execution_count": null,
   "id": "b83a4dbd",
   "metadata": {},
   "outputs": [],
   "source": [
    "# Ploting Histogram\n",
    "plt.figure(figsize=(20,18))\n",
    "#Plot 1\n",
    "plt.subplot(2,2,1)\n",
    "plt.hist(reliance['Open'],bins=50, color='green')\n",
    "plt.xlabel(\"Open Price\")\n",
    "plt.ylabel(\"Frequency\")\n",
    "plt.title('Open')\n",
    "#Plot 2\n",
    "plt.subplot(2,2,2)\n",
    "plt.hist(reliance['Close'],bins=50, color='red')\n",
    "plt.xlabel(\"Close Price\")\n",
    "plt.ylabel(\"Frequency\")\n",
    "plt.title('Close')\n",
    "#Plot 3\n",
    "plt.subplot(2,2,3)\n",
    "plt.hist(reliance['High'],bins=50, color='green')\n",
    "plt.xlabel(\"High Price\")\n",
    "plt.ylabel(\"Frequency\")\n",
    "plt.title('High')\n",
    "#Plot 4\n",
    "plt.subplot(2,2,4)\n",
    "plt.hist(reliance['Low'],bins=50, color='red')\n",
    "plt.xlabel(\"Low Price\")\n",
    "plt.ylabel(\"Frequency\")\n",
    "plt.title('Low')"
   ]
  },
  {
   "cell_type": "code",
   "execution_count": null,
   "id": "236ba325",
   "metadata": {},
   "outputs": [],
   "source": [
    "# KDE-Plots\n",
    "plt.figure(figsize=(20,10))\n",
    "#Plot 1\n",
    "plt.subplot(2,2,1)\n",
    "sns.kdeplot(reliance['Open'], color='green')\n",
    "plt.title('Open')\n",
    "#Plot 2\n",
    "plt.subplot(2,2,2)\n",
    "sns.kdeplot(reliance['Close'], color='red')\n",
    "plt.title('Close')\n",
    "#Plot 3\n",
    "plt.subplot(2,2,3)\n",
    "sns.kdeplot(reliance['High'], color='green')\n",
    "plt.title('High')\n",
    "#Plot 4\n",
    "plt.subplot(2,2,4)\n",
    "sns.kdeplot(reliance['Low'], color='red')\n",
    "plt.title('Low')"
   ]
  },
  {
   "cell_type": "code",
   "execution_count": null,
   "id": "9adacc7d",
   "metadata": {},
   "outputs": [],
   "source": [
    "sns.heatmap(reliance.corr(),annot=True)\n",
    "plt.show()"
   ]
  },
  {
   "cell_type": "code",
   "execution_count": null,
   "id": "7d1717ba",
   "metadata": {},
   "outputs": [],
   "source": [
    "figure=plt.figure(figsize=(30,10))\n",
    "plt.plot(reliance['Volume'])\n",
    "plt.xlabel('Date')\n",
    "plt.ylabel('Volume')\n",
    "plt.title('Date vs Volume')\n",
    "plt.show()"
   ]
  },
  {
   "cell_type": "markdown",
   "id": "abfd3acd",
   "metadata": {},
   "source": [
    "## Finding long-term and short-term trends"
   ]
  },
  {
   "cell_type": "markdown",
   "id": "f5a6c9b2",
   "metadata": {},
   "source": [
    "### Moving Average"
   ]
  },
  {
   "cell_type": "code",
   "execution_count": 373,
   "id": "87c46ab8",
   "metadata": {},
   "outputs": [],
   "source": [
    "reliance_ma=reliance.copy()\n",
    "reliance_ma['30-day MA']=reliance['Close'].rolling(window=30).mean()\n",
    "reliance_ma['200-day MA']=reliance['Close'].rolling(window=200).mean()"
   ]
  },
  {
   "cell_type": "code",
   "execution_count": null,
   "id": "9d58bc3c",
   "metadata": {},
   "outputs": [],
   "source": [
    "reliance_ma"
   ]
  },
  {
   "cell_type": "code",
   "execution_count": null,
   "id": "3f34bba7",
   "metadata": {},
   "outputs": [],
   "source": [
    "plt.figure(figsize=(20,10))\n",
    "plt.plot(reliance_ma['Close'],label='Original data')\n",
    "plt.plot(reliance_ma['30-day MA'],label='30-MA')\n",
    "plt.legend\n",
    "plt.title('Stock Price vs 30-day Moving Average')\n",
    "plt.xlabel('Date')\n",
    "plt.ylabel('Price')\n",
    "plt.show()"
   ]
  },
  {
   "cell_type": "code",
   "execution_count": null,
   "id": "b1513167",
   "metadata": {},
   "outputs": [],
   "source": [
    "plt.figure(figsize=(20,10))\n",
    "plt.plot(reliance_ma['Close'],label='Original data')\n",
    "plt.plot(reliance_ma['200-day MA'],label='200-MA')\n",
    "plt.legend\n",
    "plt.title('Stock Price vs 200-day Moving Average')\n",
    "plt.xlabel('Date')\n",
    "plt.ylabel('Price')\n",
    "plt.show()"
   ]
  },
  {
   "cell_type": "markdown",
   "id": "44df662a",
   "metadata": {},
   "source": [
    "Long term and short term trends can be identified using the Moving Average graphs\n",
    "- In long term, Stock price is in upward trend\n",
    "- Short term trends can be identified from MA-30 chart\n",
    "- Stock had a major short term downtrend during the year 2020\n",
    "- It may be due to the bearish market during the Covid-19 outbraek"
   ]
  },
  {
   "cell_type": "markdown",
   "id": "d33921f8",
   "metadata": {},
   "source": [
    "## Model Building"
   ]
  },
  {
   "cell_type": "code",
   "execution_count": 377,
   "id": "9be9a5d8",
   "metadata": {},
   "outputs": [],
   "source": [
    "from sklearn.metrics import mean_squared_error, mean_absolute_error, explained_variance_score, r2_score \n",
    "from sklearn.preprocessing import MinMaxScaler\n",
    "\n",
    "import tensorflow as tf\n",
    "from tensorflow.keras.models import Sequential\n",
    "from tensorflow.keras.layers import Dense\n",
    "from tensorflow.keras.layers import LSTM, GRU\n",
    "\n",
    "from itertools import cycle\n",
    "\n",
    "import plotly.graph_objects as go\n",
    "import plotly.express as px"
   ]
  },
  {
   "cell_type": "code",
   "execution_count": null,
   "id": "7d309a42",
   "metadata": {},
   "outputs": [],
   "source": [
    "reliance"
   ]
  },
  {
   "cell_type": "code",
   "execution_count": null,
   "id": "60ddc1dd",
   "metadata": {},
   "outputs": [],
   "source": [
    "# Creating dataframe which only includes date and close time\n",
    "\n",
    "close_df=pd.DataFrame(reliance['Close'])\n",
    "close_df"
   ]
  },
  {
   "cell_type": "code",
   "execution_count": null,
   "id": "8c313cc2",
   "metadata": {},
   "outputs": [],
   "source": [
    "print(close_df.shape)"
   ]
  },
  {
   "cell_type": "code",
   "execution_count": 381,
   "id": "3f5b028f",
   "metadata": {},
   "outputs": [],
   "source": [
    "close_df=close_df.reset_index()"
   ]
  },
  {
   "cell_type": "code",
   "execution_count": null,
   "id": "5522e1fc",
   "metadata": {},
   "outputs": [],
   "source": [
    "close_df['Date']"
   ]
  },
  {
   "cell_type": "markdown",
   "id": "e890b112",
   "metadata": {},
   "source": [
    "### Normalizing / scaling close value between 0 to 1"
   ]
  },
  {
   "cell_type": "code",
   "execution_count": null,
   "id": "f79fd1fb",
   "metadata": {},
   "outputs": [],
   "source": [
    "close_stock = close_df.copy()\n",
    "del close_df['Date']\n",
    "scaler=MinMaxScaler(feature_range=(0,1))\n",
    "closedf=scaler.fit_transform(np.array(close_df).reshape(-1,1))\n",
    "print(closedf.shape)"
   ]
  },
  {
   "attachments": {},
   "cell_type": "markdown",
   "id": "13ce55e8",
   "metadata": {},
   "source": [
    "### Split data for training and testing\n",
    "- Ratio for training and testing data is 86:14"
   ]
  },
  {
   "cell_type": "code",
   "execution_count": null,
   "id": "45c04695",
   "metadata": {},
   "outputs": [],
   "source": [
    "training_size=int(len(closedf)*0.86)\n",
    "test_size=len(closedf)-training_size\n",
    "train_data,test_data=closedf[0:training_size,:],closedf[training_size:len(closedf),:1]\n",
    "print(\"train_data: \", train_data.shape)\n",
    "print(\"test_data: \", test_data.shape)"
   ]
  },
  {
   "cell_type": "markdown",
   "id": "9ceb14e9",
   "metadata": {},
   "source": [
    "### Create new dataset according to requirement of time-series prediction"
   ]
  },
  {
   "cell_type": "code",
   "execution_count": 385,
   "id": "b60dd295",
   "metadata": {},
   "outputs": [],
   "source": [
    "# convert an array of values into a dataset matrix\n",
    "def create_dataset(dataset, time_step=1):\n",
    "    dataX, dataY = [], []\n",
    "    for i in range(len(dataset)-time_step-1):\n",
    "        a = dataset[i:(i+time_step), 0]   ###i=0, 0,1,2,3-----99   100 \n",
    "        dataX.append(a)\n",
    "        dataY.append(dataset[i + time_step, 0])\n",
    "    return np.array(dataX), np.array(dataY)"
   ]
  },
  {
   "cell_type": "code",
   "execution_count": null,
   "id": "a4042982",
   "metadata": {},
   "outputs": [],
   "source": [
    "# reshape into X=t,t+1,t+2,t+3 and Y=t+4\n",
    "time_step = 13\n",
    "X_train, y_train = create_dataset(train_data, time_step)\n",
    "X_test, y_test = create_dataset(test_data, time_step)\n",
    "\n",
    "print(\"X_train: \", X_train.shape)\n",
    "print(\"y_train: \", y_train.shape)\n",
    "print(\"X_test: \", X_test.shape)\n",
    "print(\"y_test\", y_test.shape)"
   ]
  },
  {
   "cell_type": "markdown",
   "id": "3ce139d0",
   "metadata": {},
   "source": [
    "## Algorithms"
   ]
  },
  {
   "cell_type": "markdown",
   "id": "ce1b9d25",
   "metadata": {},
   "source": [
    "## Support vector regression - SVR"
   ]
  },
  {
   "cell_type": "code",
   "execution_count": null,
   "id": "1a1b3495",
   "metadata": {},
   "outputs": [],
   "source": [
    "import math\n",
    "from sklearn.svm import SVR\n",
    "\n",
    "svr_rbf = SVR(kernel= 'rbf', C= 1e3, gamma= 0.01)\n",
    "svr_rbf.fit(X_train, y_train)"
   ]
  },
  {
   "cell_type": "code",
   "execution_count": null,
   "id": "b193eb53",
   "metadata": {},
   "outputs": [],
   "source": [
    "# Lets Do the prediction \n",
    "\n",
    "train_predict=svr_rbf.predict(X_train)\n",
    "test_predict=svr_rbf.predict(X_test)\n",
    "\n",
    "train_predict = train_predict.reshape(-1,1)\n",
    "test_predict = test_predict.reshape(-1,1)\n",
    "\n",
    "print(\"Train data prediction:\", train_predict.shape)\n",
    "print(\"Test data prediction:\", test_predict.shape)"
   ]
  },
  {
   "cell_type": "code",
   "execution_count": 389,
   "id": "cf32c602",
   "metadata": {},
   "outputs": [],
   "source": [
    "# Transform back to original form\n",
    "\n",
    "train_predict = scaler.inverse_transform(train_predict)\n",
    "test_predict = scaler.inverse_transform(test_predict)\n",
    "original_ytrain = scaler.inverse_transform(y_train.reshape(-1,1)) \n",
    "original_ytest = scaler.inverse_transform(y_test.reshape(-1,1)) "
   ]
  },
  {
   "cell_type": "markdown",
   "id": "90da2386",
   "metadata": {},
   "source": [
    "### Evaluation metrices RMSE, MSE and MAE\n",
    "\n",
    "Root Mean Square Error (RMSE), Mean Square Error (MSE) and Mean absolute Error (MAE) are a standard way to measure the error of a model in predicting quantitative data."
   ]
  },
  {
   "cell_type": "code",
   "execution_count": null,
   "id": "2cddf72b",
   "metadata": {},
   "outputs": [],
   "source": [
    "# Evaluation metrices RMSE and MAE\n",
    "print(\"Train data RMSE: \", math.sqrt(mean_squared_error(original_ytrain,train_predict)))\n",
    "print(\"Train data MSE: \", mean_squared_error(original_ytrain,train_predict))\n",
    "print(\"Test data MAE: \", mean_absolute_error(original_ytrain,train_predict))\n",
    "print(\"-------------------------------------------------------------------------------------\")\n",
    "print(\"Test data RMSE: \", math.sqrt(mean_squared_error(original_ytest,test_predict)))\n",
    "print(\"Test data MSE: \", mean_squared_error(original_ytest,test_predict))\n",
    "print(\"Test data MAE: \", mean_absolute_error(original_ytest,test_predict))\n"
   ]
  },
  {
   "cell_type": "markdown",
   "id": "ce1aa526",
   "metadata": {},
   "source": [
    "### Explained variance regression score\n",
    "\n",
    "The explained variance score explains the dispersion of errors of a given dataset, and the formula is written as follows: Here, and Var(y) is the variance of prediction errors and actual values respectively. Scores close to 1.0 are highly desired, indicating better squares of standard deviations of errors."
   ]
  },
  {
   "cell_type": "code",
   "execution_count": null,
   "id": "6805d76d",
   "metadata": {},
   "outputs": [],
   "source": [
    "print(\"Train data explained variance regression score:\", explained_variance_score(original_ytrain, train_predict))\n",
    "print(\"Test data explained variance regression score:\", explained_variance_score(original_ytest, test_predict))"
   ]
  },
  {
   "cell_type": "markdown",
   "id": "49b2ea6e",
   "metadata": {},
   "source": [
    "### R2 score for regression\n",
    "R-squared (R2) is a statistical measure that represents the proportion of the variance for a dependent variable that's explained by an independent variable or variables in a regression model.\n",
    "\n",
    "1 = Best\n",
    "\n",
    "0 or < 0 = worse"
   ]
  },
  {
   "cell_type": "code",
   "execution_count": null,
   "id": "10926b0d",
   "metadata": {},
   "outputs": [],
   "source": [
    "train_r2_svr=r2_score(original_ytrain, train_predict)\n",
    "test_r2_svr=r2_score(original_ytest, test_predict)\n",
    "print(\"Train data R2 score:\", train_r2_svr)\n",
    "print(\"Test data R2 score:\", test_r2_svr)"
   ]
  },
  {
   "cell_type": "markdown",
   "id": "d6786c92",
   "metadata": {},
   "source": [
    "### Comparision between original stock close price vs predicted close price"
   ]
  },
  {
   "cell_type": "code",
   "execution_count": null,
   "id": "d1f9f7c5",
   "metadata": {},
   "outputs": [],
   "source": [
    "# shift train predictions for plotting\n",
    "\n",
    "look_back=time_step\n",
    "trainPredictPlot = np.empty_like(closedf)\n",
    "trainPredictPlot[:, :] = np.nan\n",
    "trainPredictPlot[look_back:len(train_predict)+look_back, :] = train_predict\n",
    "print(\"Train predicted data: \", trainPredictPlot.shape)\n",
    "\n",
    "# shift test predictions for plotting\n",
    "testPredictPlot = np.empty_like(closedf)\n",
    "testPredictPlot[:, :] = np.nan\n",
    "testPredictPlot[len(train_predict)+(look_back*2)+1:len(closedf)-1, :] = test_predict\n",
    "print(\"Test predicted data: \", testPredictPlot.shape)\n",
    "\n",
    "names = cycle(['Original close price','Train predicted close price','Test predicted close price'])\n",
    "\n",
    "plotdf = pd.DataFrame({'Date': close_stock['Date'], 'original_close': close_stock['Close'],'train_predicted_close': trainPredictPlot.reshape(1,-1)[0].tolist(),\n",
    "                      'test_predicted_close': testPredictPlot.reshape(1,-1)[0].tolist()})\n",
    "\n",
    "fig = px.line(plotdf,x=plotdf['Date'], y=[plotdf['original_close'],plotdf['train_predicted_close'],plotdf['test_predicted_close']],labels={'value':'Stock price','Date': 'Date'})\n",
    "fig.update_layout(title_text='Comparision between original close price vs predicted close price',plot_bgcolor='white', font_size=15, font_color='black',legend_title_text='Close Price')\n",
    "fig.for_each_trace(lambda t:  t.update(name = next(names)))\n",
    "\n",
    "fig.update_xaxes(showgrid=False)\n",
    "fig.update_yaxes(showgrid=False)\n",
    "fig.show()"
   ]
  },
  {
   "cell_type": "markdown",
   "id": "626586ef",
   "metadata": {},
   "source": [
    "### Predicting next 30 days"
   ]
  },
  {
   "cell_type": "code",
   "execution_count": null,
   "id": "cd861a9b",
   "metadata": {},
   "outputs": [],
   "source": [
    "x_input=test_data[len(test_data)-time_step:].reshape(1,-1)\n",
    "temp_input=list(x_input)\n",
    "temp_input=temp_input[0].tolist()\n",
    "\n",
    "from numpy import array\n",
    "\n",
    "lst_output=[]\n",
    "n_steps=time_step\n",
    "i=0\n",
    "pred_days = 30\n",
    "while(i<pred_days):\n",
    "    \n",
    "    if(len(temp_input)>time_step):\n",
    "        \n",
    "        x_input=np.array(temp_input[1:])\n",
    "        #print(\"{} day input {}\".format(i,x_input))\n",
    "        x_input=x_input.reshape(1,-1)\n",
    "        \n",
    "        yhat = svr_rbf.predict(x_input)\n",
    "        #print(\"{} day output {}\".format(i,yhat))\n",
    "        temp_input.extend(yhat.tolist())\n",
    "        temp_input=temp_input[1:]\n",
    "       \n",
    "        lst_output.extend(yhat.tolist())\n",
    "        i=i+1\n",
    "        \n",
    "    else:\n",
    "        yhat = svr_rbf.predict(x_input)\n",
    "        \n",
    "        temp_input.extend(yhat.tolist())\n",
    "        lst_output.extend(yhat.tolist())\n",
    "        \n",
    "        i=i+1\n",
    "        \n",
    "print(\"Output of predicted next days: \", len(lst_output))"
   ]
  },
  {
   "cell_type": "markdown",
   "id": "44d5fa47",
   "metadata": {},
   "source": [
    "### Plotting last 15 days and next predicted 30 days"
   ]
  },
  {
   "cell_type": "code",
   "execution_count": null,
   "id": "e7135b18",
   "metadata": {},
   "outputs": [],
   "source": [
    "last_days=np.arange(1,time_step+1)\n",
    "day_pred=np.arange(time_step+1,time_step+pred_days+1)\n",
    "print(last_days)\n",
    "print(day_pred)"
   ]
  },
  {
   "cell_type": "code",
   "execution_count": 396,
   "id": "0c9fdd13",
   "metadata": {},
   "outputs": [],
   "source": [
    "temp_mat = np.empty((len(last_days)+pred_days+1,1))\n",
    "temp_mat[:] = np.nan\n",
    "temp_mat = temp_mat.reshape(1,-1).tolist()[0]\n",
    "\n",
    "last_original_days_value = temp_mat\n",
    "next_predicted_days_value = temp_mat\n",
    "\n",
    "last_original_days_value[0:time_step+1] = scaler.inverse_transform(closedf[len(closedf)-time_step:]).reshape(1,-1).tolist()[0]\n",
    "next_predicted_days_value[time_step+1:] = scaler.inverse_transform(np.array(lst_output).reshape(-1,1)).reshape(1,-1).tolist()[0]\n",
    "\n",
    "new_pred_plot = pd.DataFrame({\n",
    "    'last_original_days_value':last_original_days_value,\n",
    "    'next_predicted_days_value':next_predicted_days_value\n",
    "})\n",
    "\n",
    "names = cycle(['Last 15 days close price','Predicted next 30 days close price'])\n",
    "\n",
    "fig = px.line(new_pred_plot,x=new_pred_plot.index, y=[new_pred_plot['last_original_days_value'],\n",
    "                                                      new_pred_plot['next_predicted_days_value']],\n",
    "              labels={'value': 'Stock price','index': 'Timestamp'})\n",
    "fig.update_layout(title_text='Compare last 15 days vs next 30 days',\n",
    "                  plot_bgcolor='white', font_size=15, font_color='black',legend_title_text='Close Price')\n",
    "fig.for_each_trace(lambda t:  t.update(name = next(names)))\n",
    "fig.update_xaxes(showgrid=False)\n",
    "fig.update_yaxes(showgrid=False)\n",
    "fig.show()"
   ]
  },
  {
   "cell_type": "markdown",
   "id": "d23f2bd6",
   "metadata": {},
   "source": [
    "### Plotting whole closing stock price with prediction"
   ]
  },
  {
   "cell_type": "code",
   "execution_count": 397,
   "id": "eab4cecd",
   "metadata": {},
   "outputs": [],
   "source": [
    "svrdf=closedf.tolist()\n",
    "svrdf.extend((np.array(lst_output).reshape(-1,1)).tolist())\n",
    "svrdf=scaler.inverse_transform(svrdf).reshape(1,-1).tolist()[0]\n",
    "\n",
    "names = cycle(['Close Price'])\n",
    "\n",
    "fig = px.line(svrdf,labels={'value': 'Stock price','index': 'Timestamp'})\n",
    "fig.update_layout(title_text='Plotting whole closing stock price with prediction',\n",
    "                  plot_bgcolor='white', font_size=15, font_color='black',legend_title_text='Stock')\n",
    "fig.for_each_trace(lambda t:  t.update(name = next(names)))\n",
    "fig.update_xaxes(showgrid=False)\n",
    "fig.update_yaxes(showgrid=False)\n",
    "fig.show()"
   ]
  },
  {
   "cell_type": "markdown",
   "id": "db1debda",
   "metadata": {},
   "source": [
    "## Random Forest Regressor - RF"
   ]
  },
  {
   "cell_type": "code",
   "execution_count": null,
   "id": "4851ce3b",
   "metadata": {},
   "outputs": [],
   "source": [
    "from sklearn.ensemble import RandomForestRegressor\n",
    "\n",
    "regressor = RandomForestRegressor(n_estimators = 100, random_state = 0)\n",
    "regressor.fit(X_train, y_train)"
   ]
  },
  {
   "cell_type": "code",
   "execution_count": null,
   "id": "c5e72021",
   "metadata": {},
   "outputs": [],
   "source": [
    "# Lets Do the prediction \n",
    "\n",
    "train_predict=regressor.predict(X_train)\n",
    "test_predict=regressor.predict(X_test)\n",
    "\n",
    "train_predict = train_predict.reshape(-1,1)\n",
    "test_predict = test_predict.reshape(-1,1)\n",
    "\n",
    "print(\"Train data prediction:\", train_predict.shape)\n",
    "print(\"Test data prediction:\", test_predict.shape)"
   ]
  },
  {
   "cell_type": "code",
   "execution_count": 400,
   "id": "f30ecd72",
   "metadata": {},
   "outputs": [],
   "source": [
    "# Transform back to original form\n",
    "\n",
    "train_predict = scaler.inverse_transform(train_predict)\n",
    "test_predict = scaler.inverse_transform(test_predict)\n",
    "original_ytrain = scaler.inverse_transform(y_train.reshape(-1,1)) \n",
    "original_ytest = scaler.inverse_transform(y_test.reshape(-1,1)) "
   ]
  },
  {
   "cell_type": "markdown",
   "id": "fb0bd5c2",
   "metadata": {},
   "source": [
    "### Evaluation metrices RMSE, MSE and MAE\n",
    "Root Mean Square Error (RMSE), Mean Square Error (MSE) and Mean absolute Error (MAE) are a standard way to measure the error of a model in predicting quantitative data."
   ]
  },
  {
   "cell_type": "code",
   "execution_count": null,
   "id": "2201afe3",
   "metadata": {},
   "outputs": [],
   "source": [
    "# Evaluation metrices RMSE and MAE\n",
    "print(\"Train data RMSE: \", math.sqrt(mean_squared_error(original_ytrain,train_predict)))\n",
    "print(\"Train data MSE: \", mean_squared_error(original_ytrain,train_predict))\n",
    "print(\"Test data MAE: \", mean_absolute_error(original_ytrain,train_predict))\n",
    "print(\"-------------------------------------------------------------------------------------\")\n",
    "print(\"Test data RMSE: \", math.sqrt(mean_squared_error(original_ytest,test_predict)))\n",
    "print(\"Test data MSE: \", mean_squared_error(original_ytest,test_predict))\n",
    "print(\"Test data MAE: \", mean_absolute_error(original_ytest,test_predict))"
   ]
  },
  {
   "cell_type": "markdown",
   "id": "4867206d",
   "metadata": {},
   "source": [
    "### Explained variance regression score\n",
    "The explained variance score explains the dispersion of errors of a given dataset, and the formula is written as follows: Here, and Var(y) is the variance of prediction errors and actual values respectively. Scores close to 1.0 are highly desired, indicating better squares of standard deviations of errors."
   ]
  },
  {
   "cell_type": "code",
   "execution_count": null,
   "id": "4f3b366f",
   "metadata": {},
   "outputs": [],
   "source": [
    "print(\"Train data explained variance regression score:\", explained_variance_score(original_ytrain, train_predict))\n",
    "print(\"Test data explained variance regression score:\", explained_variance_score(original_ytest, test_predict))"
   ]
  },
  {
   "cell_type": "markdown",
   "id": "8e594be6",
   "metadata": {},
   "source": [
    "### R2 score for regression\n",
    "R-squared (R2) is a statistical measure that represents the proportion of the variance for a dependent variable that's explained by an independent variable or variables in a regression model.\n",
    "\n",
    "1 = Best\n",
    "0 or < 0 = worse"
   ]
  },
  {
   "cell_type": "code",
   "execution_count": null,
   "id": "320a8536",
   "metadata": {},
   "outputs": [],
   "source": [
    "train_r2_rf=r2_score(original_ytrain, train_predict)\n",
    "test_r2_rf=r2_score(original_ytest, test_predict)\n",
    "print(\"Train data R2 score:\", train_r2_rf)\n",
    "print(\"Test data R2 score:\", test_r2_rf)"
   ]
  },
  {
   "cell_type": "markdown",
   "id": "9e6c1a6e",
   "metadata": {},
   "source": [
    "### Comparision between original stock close price vs predicted close price"
   ]
  },
  {
   "cell_type": "code",
   "execution_count": null,
   "id": "ba131984",
   "metadata": {},
   "outputs": [],
   "source": [
    "# shift train predictions for plotting\n",
    "\n",
    "look_back=time_step\n",
    "trainPredictPlot = np.empty_like(closedf)\n",
    "trainPredictPlot[:, :] = np.nan\n",
    "trainPredictPlot[look_back:len(train_predict)+look_back, :] = train_predict\n",
    "print(\"Train predicted data: \", trainPredictPlot.shape)\n",
    "\n",
    "# shift test predictions for plotting\n",
    "testPredictPlot = np.empty_like(closedf)\n",
    "testPredictPlot[:, :] = np.nan\n",
    "testPredictPlot[len(train_predict)+(look_back*2)+1:len(closedf)-1, :] = test_predict\n",
    "print(\"Test predicted data: \", testPredictPlot.shape)\n",
    "\n",
    "names = cycle(['Original close price','Train predicted close price','Test predicted close price'])\n",
    "\n",
    "\n",
    "plotdf = pd.DataFrame({'Date': close_stock['Date'],\n",
    "                       'original_close': close_stock['Close'],\n",
    "                      'train_predicted_close': trainPredictPlot.reshape(1,-1)[0].tolist(),\n",
    "                      'test_predicted_close': testPredictPlot.reshape(1,-1)[0].tolist()})\n",
    "\n",
    "fig = px.line(plotdf,x=plotdf['Date'], y=[plotdf['original_close'],plotdf['train_predicted_close'],\n",
    "                                          plotdf['test_predicted_close']],\n",
    "              labels={'value':'Stock price','Date': 'Date'})\n",
    "fig.update_layout(title_text='Comparision between original close price vs predicted close price',\n",
    "                  plot_bgcolor='white', font_size=15, font_color='black', legend_title_text='Close Price')\n",
    "fig.for_each_trace(lambda t:  t.update(name = next(names)))\n",
    "\n",
    "fig.update_xaxes(showgrid=False)\n",
    "fig.update_yaxes(showgrid=False)\n",
    "fig.show()"
   ]
  },
  {
   "cell_type": "markdown",
   "id": "f4bdebbf",
   "metadata": {},
   "source": [
    "### Predicting next 30 days"
   ]
  },
  {
   "cell_type": "code",
   "execution_count": null,
   "id": "d331e19b",
   "metadata": {},
   "outputs": [],
   "source": [
    "x_input=test_data[len(test_data)-time_step:].reshape(1,-1)\n",
    "temp_input=list(x_input)\n",
    "temp_input=temp_input[0].tolist()\n",
    "\n",
    "from numpy import array\n",
    "\n",
    "lst_output=[]\n",
    "n_steps=time_step\n",
    "i=0\n",
    "pred_days = 30\n",
    "while(i<pred_days):\n",
    "    \n",
    "    if(len(temp_input)>time_step):\n",
    "        \n",
    "        x_input=np.array(temp_input[1:])\n",
    "        #print(\"{} day input {}\".format(i,x_input))\n",
    "        x_input=x_input.reshape(1,-1)\n",
    "        \n",
    "        yhat = regressor.predict(x_input)\n",
    "        #print(\"{} day output {}\".format(i,yhat))\n",
    "        temp_input.extend(yhat.tolist())\n",
    "        temp_input=temp_input[1:]\n",
    "       \n",
    "        lst_output.extend(yhat.tolist())\n",
    "        i=i+1\n",
    "        \n",
    "    else:\n",
    "        yhat = regressor.predict(x_input)\n",
    "        \n",
    "        temp_input.extend(yhat.tolist())\n",
    "        lst_output.extend(yhat.tolist())\n",
    "        \n",
    "        i=i+1\n",
    "        \n",
    "print(\"Output of predicted next days: \", len(lst_output))\n"
   ]
  },
  {
   "cell_type": "markdown",
   "id": "d3f1eead",
   "metadata": {},
   "source": [
    "### Plotting last 15 days and next predicted 30 days"
   ]
  },
  {
   "cell_type": "code",
   "execution_count": null,
   "id": "62f795f4",
   "metadata": {},
   "outputs": [],
   "source": [
    "last_days=np.arange(1,time_step+1)\n",
    "day_pred=np.arange(time_step+1,time_step+pred_days+1)\n",
    "print(last_days)\n",
    "print(day_pred)"
   ]
  },
  {
   "cell_type": "code",
   "execution_count": 407,
   "id": "f6a7957c",
   "metadata": {},
   "outputs": [],
   "source": [
    "temp_mat = np.empty((len(last_days)+pred_days+1,1))\n",
    "temp_mat[:] = np.nan\n",
    "temp_mat = temp_mat.reshape(1,-1).tolist()[0]\n",
    "\n",
    "last_original_days_value = temp_mat\n",
    "next_predicted_days_value = temp_mat\n",
    "\n",
    "last_original_days_value[0:time_step+1] = scaler.inverse_transform(closedf[len(closedf)-time_step:]).reshape(1,-1).tolist()[0]\n",
    "next_predicted_days_value[time_step+1:] = scaler.inverse_transform(np.array(lst_output).reshape(-1,1)).reshape(1,-1).tolist()[0]\n",
    "\n",
    "names = cycle(['Last 15 days close price','Predicted next 30 days close price'])\n",
    "\n",
    "new_pred_plot = pd.DataFrame({\n",
    "    'last_original_days_value':last_original_days_value,\n",
    "    'next_predicted_days_value':next_predicted_days_value\n",
    "})\n",
    "\n",
    "fig = px.line(new_pred_plot,x=new_pred_plot.index, y=[new_pred_plot['last_original_days_value'],\n",
    "                                                      new_pred_plot['next_predicted_days_value']],\n",
    "              labels={'value': 'Stock price','index': 'Timestamp'})\n",
    "fig.update_layout(title_text='Compare last 15 days vs next 30 days',\n",
    "                  plot_bgcolor='white', font_size=15, font_color='black',legend_title_text='Close Price')\n",
    "fig.for_each_trace(lambda t:  t.update(name = next(names)))\n",
    "\n",
    "fig.update_xaxes(showgrid=False)\n",
    "fig.update_yaxes(showgrid=False)\n",
    "fig.show()"
   ]
  },
  {
   "cell_type": "markdown",
   "id": "2efc4d47",
   "metadata": {},
   "source": [
    "### Plotting whole closing stock price with prediction"
   ]
  },
  {
   "cell_type": "code",
   "execution_count": 408,
   "id": "22b0486a",
   "metadata": {},
   "outputs": [],
   "source": [
    "rfdf=closedf.tolist()\n",
    "rfdf.extend((np.array(lst_output).reshape(-1,1)).tolist())\n",
    "rfdf=scaler.inverse_transform(rfdf).reshape(1,-1).tolist()[0]\n",
    "\n",
    "names = cycle(['Close price'])\n",
    "\n",
    "fig = px.line(rfdf,labels={'value': 'Stock price','index': 'Timestamp'})\n",
    "fig.update_layout(title_text='Plotting whole closing stock price with prediction',\n",
    "                  plot_bgcolor='white', font_size=15, font_color='black',legend_title_text='Stock')\n",
    "fig.for_each_trace(lambda t:  t.update(name = next(names)))\n",
    "\n",
    "fig.update_xaxes(showgrid=False)\n",
    "fig.update_yaxes(showgrid=False)\n",
    "fig.show()"
   ]
  },
  {
   "cell_type": "markdown",
   "id": "20fe1a6e",
   "metadata": {},
   "source": [
    "### K-nearest neighgbour - KNN"
   ]
  },
  {
   "cell_type": "code",
   "execution_count": null,
   "id": "ee80a8fa",
   "metadata": {},
   "outputs": [],
   "source": [
    "from sklearn import neighbors\n",
    "\n",
    "K = time_step\n",
    "neighbor = neighbors.KNeighborsRegressor(n_neighbors = K)\n",
    "neighbor.fit(X_train, y_train)"
   ]
  },
  {
   "cell_type": "code",
   "execution_count": null,
   "id": "0a98a347",
   "metadata": {},
   "outputs": [],
   "source": [
    "# Lets Do the prediction \n",
    "\n",
    "train_predict=neighbor.predict(X_train)\n",
    "test_predict=neighbor.predict(X_test)\n",
    "\n",
    "train_predict = train_predict.reshape(-1,1)\n",
    "test_predict = test_predict.reshape(-1,1)\n",
    "\n",
    "print(\"Train data prediction:\", train_predict.shape)\n",
    "print(\"Test data prediction:\", test_predict.shape)"
   ]
  },
  {
   "cell_type": "code",
   "execution_count": 411,
   "id": "80d72d63",
   "metadata": {},
   "outputs": [],
   "source": [
    "# Transform back to original form\n",
    "\n",
    "train_predict = scaler.inverse_transform(train_predict)\n",
    "test_predict = scaler.inverse_transform(test_predict)\n",
    "original_ytrain = scaler.inverse_transform(y_train.reshape(-1,1)) \n",
    "original_ytest = scaler.inverse_transform(y_test.reshape(-1,1)) "
   ]
  },
  {
   "cell_type": "markdown",
   "id": "563e1816",
   "metadata": {},
   "source": [
    "### Evaluation metrices RMSE, MSE and MAE\n",
    "Root Mean Square Error (RMSE), Mean Square Error (MSE) and Mean absolute Error (MAE) are a standard way to measure the error of a model in predicting quantitative data."
   ]
  },
  {
   "cell_type": "code",
   "execution_count": null,
   "id": "aae8c209",
   "metadata": {},
   "outputs": [],
   "source": [
    "# Evaluation metrices RMSE and MAE\n",
    "print(\"Train data RMSE: \", math.sqrt(mean_squared_error(original_ytrain,train_predict)))\n",
    "print(\"Train data MSE: \", mean_squared_error(original_ytrain,train_predict))\n",
    "print(\"Test data MAE: \", mean_absolute_error(original_ytrain,train_predict))\n",
    "print(\"-------------------------------------------------------------------------------------\")\n",
    "print(\"Test data RMSE: \", math.sqrt(mean_squared_error(original_ytest,test_predict)))\n",
    "print(\"Test data MSE: \", mean_squared_error(original_ytest,test_predict))\n",
    "print(\"Test data MAE: \", mean_absolute_error(original_ytest,test_predict))"
   ]
  },
  {
   "cell_type": "markdown",
   "id": "3d2bd7ba",
   "metadata": {},
   "source": [
    "### Explained variance regression score\n",
    "The explained variance score explains the dispersion of errors of a given dataset, and the formula is written as follows: Here, and Var(y) is the variance of prediction errors and actual values respectively. Scores close to 1.0 are highly desired, indicating better squares of standard deviations of errors."
   ]
  },
  {
   "cell_type": "code",
   "execution_count": null,
   "id": "bdea855a",
   "metadata": {},
   "outputs": [],
   "source": [
    "print(\"Train data explained variance regression score:\", explained_variance_score(original_ytrain, train_predict))\n",
    "print(\"Test data explained variance regression score:\", explained_variance_score(original_ytest, test_predict))"
   ]
  },
  {
   "cell_type": "markdown",
   "id": "56b7bcce",
   "metadata": {},
   "source": [
    "### R2 score for regression\n",
    "R-squared (R2) is a statistical measure that represents the proportion of the variance for a dependent variable that's explained by an independent variable or variables in a regression model.\n",
    "\n",
    "1 = Best\n",
    "0 or < 0 = worse"
   ]
  },
  {
   "cell_type": "code",
   "execution_count": null,
   "id": "ddc36b41",
   "metadata": {},
   "outputs": [],
   "source": [
    "train_r2_knn=r2_score(original_ytrain, train_predict)\n",
    "test_r2_knn=r2_score(original_ytest, test_predict)\n",
    "print(\"Train data R2 score:\", train_r2_knn)\n",
    "print(\"Test data R2 score:\", test_r2_knn)"
   ]
  },
  {
   "cell_type": "markdown",
   "id": "81111df1",
   "metadata": {},
   "source": [
    "### Comparision between original stock close price vs predicted close price"
   ]
  },
  {
   "cell_type": "code",
   "execution_count": null,
   "id": "ecd871ab",
   "metadata": {},
   "outputs": [],
   "source": [
    "# shift train predictions for plotting\n",
    "\n",
    "look_back=time_step\n",
    "trainPredictPlot = np.empty_like(closedf)\n",
    "trainPredictPlot[:, :] = np.nan\n",
    "trainPredictPlot[look_back:len(train_predict)+look_back, :] = train_predict\n",
    "print(\"Train predicted data: \", trainPredictPlot.shape)\n",
    "\n",
    "# shift test predictions for plotting\n",
    "testPredictPlot = np.empty_like(closedf)\n",
    "testPredictPlot[:, :] = np.nan\n",
    "testPredictPlot[len(train_predict)+(look_back*2)+1:len(closedf)-1, :] = test_predict\n",
    "print(\"Test predicted data: \", testPredictPlot.shape)\n",
    "\n",
    "names = cycle(['Original close price','Train predicted close price','Test predicted close price'])\n",
    "\n",
    "plotdf = pd.DataFrame({'Date': close_stock['Date'],\n",
    "                       'original_close': close_stock['Close'],\n",
    "                      'train_predicted_close': trainPredictPlot.reshape(1,-1)[0].tolist(),\n",
    "                      'test_predicted_close': testPredictPlot.reshape(1,-1)[0].tolist()})\n",
    "\n",
    "fig = px.line(plotdf,x=plotdf['Date'], y=[plotdf['original_close'],plotdf['train_predicted_close'],\n",
    "                                          plotdf['test_predicted_close']],\n",
    "              labels={'value':'Stock price','Date': 'Date'})\n",
    "fig.update_layout(title_text='Comparision between original close price vs predicted close price',\n",
    "                  plot_bgcolor='white', font_size=15, font_color='black',legend_title_text='Close Price')\n",
    "fig.for_each_trace(lambda t:  t.update(name = next(names)))\n",
    "\n",
    "fig.update_xaxes(showgrid=False)\n",
    "fig.update_yaxes(showgrid=False)\n",
    "fig.show()"
   ]
  },
  {
   "cell_type": "markdown",
   "id": "fe840b77",
   "metadata": {},
   "source": [
    "### Predicting next 30 days"
   ]
  },
  {
   "cell_type": "code",
   "execution_count": null,
   "id": "f45a262f",
   "metadata": {},
   "outputs": [],
   "source": [
    "x_input=test_data[len(test_data)-time_step:].reshape(1,-1)\n",
    "temp_input=list(x_input)\n",
    "temp_input=temp_input[0].tolist()\n",
    "\n",
    "from numpy import array\n",
    "\n",
    "lst_output=[]\n",
    "n_steps=time_step\n",
    "i=0\n",
    "pred_days = 30\n",
    "while(i<pred_days):\n",
    "    \n",
    "    if(len(temp_input)>time_step):\n",
    "        \n",
    "        x_input=np.array(temp_input[1:])\n",
    "        #print(\"{} day input {}\".format(i,x_input))\n",
    "        x_input=x_input.reshape(1,-1)\n",
    "        \n",
    "        yhat = neighbor.predict(x_input)\n",
    "        #print(\"{} day output {}\".format(i,yhat))\n",
    "        temp_input.extend(yhat.tolist())\n",
    "        temp_input=temp_input[1:]\n",
    "       \n",
    "        lst_output.extend(yhat.tolist())\n",
    "        i=i+1\n",
    "        \n",
    "    else:\n",
    "        yhat = neighbor.predict(x_input)\n",
    "        \n",
    "        temp_input.extend(yhat.tolist())\n",
    "        lst_output.extend(yhat.tolist())\n",
    "        \n",
    "        i=i+1\n",
    "        \n",
    "print(\"Output of predicted next days: \", len(lst_output))"
   ]
  },
  {
   "cell_type": "markdown",
   "id": "359d4de6",
   "metadata": {},
   "source": [
    "### Plotting last 15 days and next predicted 30 days"
   ]
  },
  {
   "cell_type": "code",
   "execution_count": null,
   "id": "a5c3cc7a",
   "metadata": {},
   "outputs": [],
   "source": [
    "last_days=np.arange(1,time_step+1)\n",
    "day_pred=np.arange(time_step+1,time_step+pred_days+1)\n",
    "print(last_days)\n",
    "print(day_pred)"
   ]
  },
  {
   "cell_type": "code",
   "execution_count": null,
   "id": "6bb56ea5",
   "metadata": {},
   "outputs": [],
   "source": [
    "temp_mat = np.empty((len(last_days)+pred_days+1,1))\n",
    "temp_mat[:] = np.nan\n",
    "temp_mat = temp_mat.reshape(1,-1).tolist()[0]\n",
    "\n",
    "last_original_days_value = temp_mat\n",
    "next_predicted_days_value = temp_mat\n",
    "\n",
    "last_original_days_value[0:time_step+1] = scaler.inverse_transform(closedf[len(closedf)-time_step:]).reshape(1,-1).tolist()[0]\n",
    "next_predicted_days_value[time_step+1:] = scaler.inverse_transform(np.array(lst_output).reshape(-1,1)).reshape(1,-1).tolist()[0]\n",
    "\n",
    "new_pred_plot = pd.DataFrame({\n",
    "    'last_original_days_value':last_original_days_value,\n",
    "    'next_predicted_days_value':next_predicted_days_value\n",
    "})\n",
    "\n",
    "# names = cycle(['Last 15 days close price','Predicted next 30 days close price'])\n",
    "\n",
    "# fig = px.line(new_pred_plot,x=new_pred_plot.index, y=[new_pred_plot['last_original_days_value'],\n",
    "#                                                       new_pred_plot['next_predicted_days_value']],\n",
    "#               labels={'value': 'Stock price','index': 'Timestamp'})\n",
    "# fig.update_layout(title_text='Compare last 15 days vs next 30 days',\n",
    "#                   plot_bgcolor='white', font_size=15, font_color='black',legend_title_text='Close Price')\n",
    "# fig.for_each_trace(lambda t:  t.update(name = next(names)))\n",
    "\n",
    "# fig.update_xaxes(showgrid=False)\n",
    "# fig.update_yaxes(showgrid=False)\n",
    "# fig.show()\n"
   ]
  },
  {
   "cell_type": "markdown",
   "id": "e864a968",
   "metadata": {},
   "source": [
    "### Plotting whole closing stock price with prediction"
   ]
  },
  {
   "cell_type": "code",
   "execution_count": 419,
   "id": "aa430a55",
   "metadata": {},
   "outputs": [],
   "source": [
    "knndf=closedf.tolist()\n",
    "knndf.extend((np.array(lst_output).reshape(-1,1)).tolist())\n",
    "knndf=scaler.inverse_transform(knndf).reshape(1,-1).tolist()[0]\n",
    "\n",
    "names = cycle(['Close price'])\n",
    "\n",
    "fig = px.line(knndf,labels={'value': 'Stock price','index': 'Timestamp'})\n",
    "fig.update_layout(title_text='Plotting whole closing stock price with prediction',\n",
    "                  plot_bgcolor='white', font_size=15, font_color='black',legend_title_text='Stock')\n",
    "fig.for_each_trace(lambda t:  t.update(name = next(names)))\n",
    "\n",
    "fig.update_xaxes(showgrid=False)\n",
    "fig.update_yaxes(showgrid=False)\n",
    "fig.show()\n"
   ]
  },
  {
   "cell_type": "markdown",
   "id": "d464bc00",
   "metadata": {},
   "source": [
    "### LSTM"
   ]
  },
  {
   "cell_type": "code",
   "execution_count": null,
   "id": "3406d380",
   "metadata": {},
   "outputs": [],
   "source": [
    "# reshape input to be [samples, time steps, features] which is required for LSTM\n",
    "X_train =X_train.reshape(X_train.shape[0],X_train.shape[1] , 1)\n",
    "X_test = X_test.reshape(X_test.shape[0],X_test.shape[1] , 1)\n",
    "\n",
    "print(\"X_train: \", X_train.shape)\n",
    "print(\"X_test: \", X_test.shape)"
   ]
  },
  {
   "cell_type": "markdown",
   "id": "cb4ff685",
   "metadata": {},
   "source": [
    "### LSTM model structure"
   ]
  },
  {
   "cell_type": "code",
   "execution_count": 421,
   "id": "0663eb02",
   "metadata": {},
   "outputs": [],
   "source": [
    "tf.keras.backend.clear_session()\n",
    "model=Sequential()\n",
    "model.add(LSTM(32,return_sequences=True,input_shape=(time_step,1)))\n",
    "model.add(LSTM(32,return_sequences=True))\n",
    "model.add(LSTM(32))\n",
    "model.add(Dense(1))\n",
    "model.compile(loss='mean_squared_error',optimizer='adam')"
   ]
  },
  {
   "cell_type": "code",
   "execution_count": null,
   "id": "c7534b81",
   "metadata": {
    "scrolled": true
   },
   "outputs": [],
   "source": [
    "model.summary()"
   ]
  },
  {
   "cell_type": "code",
   "execution_count": null,
   "id": "66ba8eab",
   "metadata": {
    "scrolled": true
   },
   "outputs": [],
   "source": [
    "model.fit(X_train,y_train,validation_data=(X_test,y_test),epochs=10,batch_size=32,verbose=1)"
   ]
  },
  {
   "cell_type": "code",
   "execution_count": null,
   "id": "25c41f6a",
   "metadata": {},
   "outputs": [],
   "source": [
    "### Lets Do the prediction and check performance metrics\n",
    "train_predict=model.predict(X_train)\n",
    "test_predict=model.predict(X_test)\n",
    "train_predict.shape, test_predict.shape"
   ]
  },
  {
   "cell_type": "code",
   "execution_count": 425,
   "id": "e72998de",
   "metadata": {},
   "outputs": [],
   "source": [
    "# Transform back to original form\n",
    "\n",
    "train_predict = scaler.inverse_transform(train_predict)\n",
    "test_predict = scaler.inverse_transform(test_predict)\n",
    "original_ytrain = scaler.inverse_transform(y_train.reshape(-1,1)) \n",
    "original_ytest = scaler.inverse_transform(y_test.reshape(-1,1)) "
   ]
  },
  {
   "cell_type": "markdown",
   "id": "7f302189",
   "metadata": {},
   "source": [
    "### Evaluation metrices RMSE, MSE and MAE\n",
    "Root Mean Square Error (RMSE), Mean Square Error (MSE) and Mean absolute Error (MAE) are a standard way to measure the error of a model in predicting quantitative data."
   ]
  },
  {
   "cell_type": "code",
   "execution_count": null,
   "id": "66448f41",
   "metadata": {},
   "outputs": [],
   "source": [
    "# Evaluation metrices RMSE and MAE\n",
    "print(\"Train data RMSE: \", math.sqrt(mean_squared_error(original_ytrain,train_predict)))\n",
    "print(\"Train data MSE: \", mean_squared_error(original_ytrain,train_predict))\n",
    "print(\"Test data MAE: \", mean_absolute_error(original_ytrain,train_predict))\n",
    "print(\"-------------------------------------------------------------------------------------\")\n",
    "print(\"Test data RMSE: \", math.sqrt(mean_squared_error(original_ytest,test_predict)))\n",
    "print(\"Test data MSE: \", mean_squared_error(original_ytest,test_predict))\n",
    "print(\"Test data MAE: \", mean_absolute_error(original_ytest,test_predict))"
   ]
  },
  {
   "cell_type": "markdown",
   "id": "81352213",
   "metadata": {},
   "source": [
    "### Explained variance regression score\n",
    "The explained variance score explains the dispersion of errors of a given dataset, and the formula is written as follows: Here, and Var(y) is the variance of prediction errors and actual values respectively. Scores close to 1.0 are highly desired, indicating better squares of standard deviations of errors."
   ]
  },
  {
   "cell_type": "code",
   "execution_count": null,
   "id": "47d83832",
   "metadata": {},
   "outputs": [],
   "source": [
    "print(\"Train data explained variance regression score:\", explained_variance_score(original_ytrain, train_predict))\n",
    "print(\"Test data explained variance regression score:\", explained_variance_score(original_ytest, test_predict))"
   ]
  },
  {
   "cell_type": "markdown",
   "id": "e097e64c",
   "metadata": {},
   "source": [
    "### R2 score for regression\n",
    "R-squared (R2) is a statistical measure that represents the proportion of the variance for a dependent variable that's explained by an independent variable or variables in a regression model.\n",
    "\n",
    "1 = Best\n",
    "0 or < 0 = worse"
   ]
  },
  {
   "cell_type": "code",
   "execution_count": null,
   "id": "a32398f6",
   "metadata": {},
   "outputs": [],
   "source": [
    "train_r2_lstm=r2_score(original_ytrain, train_predict)\n",
    "test_r2_lstm=r2_score(original_ytest, test_predict)\n",
    "print(\"Train data R2 score:\", train_r2_lstm)\n",
    "print(\"Test data R2 score:\", test_r2_lstm)"
   ]
  },
  {
   "cell_type": "markdown",
   "id": "fcf89b4b",
   "metadata": {},
   "source": [
    "### Comparision between original stock close price vs predicted close price"
   ]
  },
  {
   "cell_type": "code",
   "execution_count": null,
   "id": "7e3da9b1",
   "metadata": {},
   "outputs": [],
   "source": [
    "# shift train predictions for plotting\n",
    "\n",
    "look_back=time_step\n",
    "trainPredictPlot = np.empty_like(closedf)\n",
    "trainPredictPlot[:, :] = np.nan\n",
    "trainPredictPlot[look_back:len(train_predict)+look_back, :] = train_predict\n",
    "print(\"Train predicted data: \", trainPredictPlot.shape)\n",
    "\n",
    "# shift test predictions for plotting\n",
    "testPredictPlot = np.empty_like(closedf)\n",
    "testPredictPlot[:, :] = np.nan\n",
    "testPredictPlot[len(train_predict)+(look_back*2)+1:len(closedf)-1, :] = test_predict\n",
    "print(\"Test predicted data: \", testPredictPlot.shape)\n",
    "\n",
    "names = cycle(['Original close price','Train predicted close price','Test predicted close price'])\n",
    "\n",
    "\n",
    "plotdf = pd.DataFrame({'Date': close_stock['Date'],\n",
    "                       'original_close': close_stock['Close'],\n",
    "                      'train_predicted_close': trainPredictPlot.reshape(1,-1)[0].tolist(),\n",
    "                      'test_predicted_close': testPredictPlot.reshape(1,-1)[0].tolist()})\n",
    "\n",
    "fig = px.line(plotdf,x=plotdf['Date'], y=[plotdf['original_close'],plotdf['train_predicted_close'],\n",
    "                                          plotdf['test_predicted_close']],\n",
    "              labels={'value':'Stock price','Date': 'Date'})\n",
    "fig.update_layout(title_text='Comparision between original close price vs predicted close price',\n",
    "                  plot_bgcolor='white', font_size=15, font_color='black', legend_title_text='Close Price')\n",
    "fig.for_each_trace(lambda t:  t.update(name = next(names)))\n",
    "\n",
    "fig.update_xaxes(showgrid=False)\n",
    "fig.update_yaxes(showgrid=False)\n",
    "fig.show()"
   ]
  },
  {
   "cell_type": "markdown",
   "id": "d150e225",
   "metadata": {},
   "source": [
    "### Predicting next 30 days"
   ]
  },
  {
   "cell_type": "code",
   "execution_count": null,
   "id": "2476f240",
   "metadata": {},
   "outputs": [],
   "source": [
    "x_input=test_data[len(test_data)-time_step:].reshape(1,-1)\n",
    "temp_input=list(x_input)\n",
    "temp_input=temp_input[0].tolist()\n",
    "\n",
    "from numpy import array\n",
    "\n",
    "lst_output=[]\n",
    "n_steps=time_step\n",
    "i=0\n",
    "pred_days = 30\n",
    "while(i<pred_days):\n",
    "    \n",
    "    if(len(temp_input)>time_step):\n",
    "        \n",
    "        x_input=np.array(temp_input[1:])\n",
    "        #print(\"{} day input {}\".format(i,x_input))\n",
    "        x_input = x_input.reshape(1,-1)\n",
    "        x_input = x_input.reshape((1, n_steps, 1))\n",
    "        \n",
    "        yhat = model.predict(x_input, verbose=0)\n",
    "        #print(\"{} day output {}\".format(i,yhat))\n",
    "        temp_input.extend(yhat[0].tolist())\n",
    "        temp_input=temp_input[1:]\n",
    "        #print(temp_input)\n",
    "       \n",
    "        lst_output.extend(yhat.tolist())\n",
    "        i=i+1\n",
    "        \n",
    "    else:\n",
    "        \n",
    "        x_input = x_input.reshape((1, n_steps,1))\n",
    "        yhat = model.predict(x_input, verbose=0)\n",
    "        temp_input.extend(yhat[0].tolist())\n",
    "        \n",
    "        lst_output.extend(yhat.tolist())\n",
    "        i=i+1\n",
    "               \n",
    "print(\"Output of predicted next days: \", len(lst_output))"
   ]
  },
  {
   "cell_type": "markdown",
   "id": "033ba838",
   "metadata": {},
   "source": [
    "### Plotting last 15 days and next predicted 30 days"
   ]
  },
  {
   "cell_type": "code",
   "execution_count": null,
   "id": "d2c3ecbd",
   "metadata": {},
   "outputs": [],
   "source": [
    "last_days=np.arange(1,time_step+1)\n",
    "day_pred=np.arange(time_step+1,time_step+pred_days+1)\n",
    "print(last_days)\n",
    "print(day_pred)"
   ]
  },
  {
   "cell_type": "code",
   "execution_count": 432,
   "id": "6adab7d3",
   "metadata": {},
   "outputs": [],
   "source": [
    "temp_mat = np.empty((len(last_days)+pred_days+1,1))\n",
    "temp_mat[:] = np.nan\n",
    "temp_mat = temp_mat.reshape(1,-1).tolist()[0]\n",
    "\n",
    "last_original_days_value = temp_mat\n",
    "next_predicted_days_value = temp_mat\n",
    "\n",
    "last_original_days_value[0:time_step+1] = scaler.inverse_transform(closedf[len(closedf)-time_step:]).reshape(1,-1).tolist()[0]\n",
    "next_predicted_days_value[time_step+1:] = scaler.inverse_transform(np.array(lst_output).reshape(-1,1)).reshape(1,-1).tolist()[0]\n",
    "\n",
    "new_pred_plot = pd.DataFrame({\n",
    "    'last_original_days_value':last_original_days_value,\n",
    "    'next_predicted_days_value':next_predicted_days_value\n",
    "})\n",
    "\n",
    "names = cycle(['Last 15 days close price','Predicted next 30 days close price'])\n",
    "\n",
    "fig = px.line(new_pred_plot,x=new_pred_plot.index, y=[new_pred_plot['last_original_days_value'],\n",
    "                                                      new_pred_plot['next_predicted_days_value']],\n",
    "              labels={'value': 'Stock price','index': 'Timestamp'})\n",
    "fig.update_layout(title_text='Compare last 15 days vs next 30 days',\n",
    "                  plot_bgcolor='white', font_size=15, font_color='black',legend_title_text='Close Price')\n",
    "\n",
    "fig.for_each_trace(lambda t:  t.update(name = next(names)))\n",
    "fig.update_xaxes(showgrid=False)\n",
    "fig.update_yaxes(showgrid=False)\n",
    "fig.show()"
   ]
  },
  {
   "cell_type": "markdown",
   "id": "de90777a",
   "metadata": {},
   "source": [
    "### Plotting whole closing stock price with prediction"
   ]
  },
  {
   "cell_type": "code",
   "execution_count": 433,
   "id": "788a8bb6",
   "metadata": {},
   "outputs": [],
   "source": [
    "lstmdf=closedf.tolist()\n",
    "lstmdf.extend((np.array(lst_output).reshape(-1,1)).tolist())\n",
    "lstmdf=scaler.inverse_transform(lstmdf).reshape(1,-1).tolist()[0]\n",
    "\n",
    "names = cycle(['Close price'])\n",
    "\n",
    "fig = px.line(lstmdf,labels={'value': 'Stock price','index': 'Timestamp'})\n",
    "fig.update_layout(title_text='Plotting whole closing stock price with prediction',\n",
    "                  plot_bgcolor='white', font_size=15, font_color='black',legend_title_text='Stock')\n",
    "\n",
    "fig.for_each_trace(lambda t:  t.update(name = next(names)))\n",
    "\n",
    "fig.update_xaxes(showgrid=False)\n",
    "fig.update_yaxes(showgrid=False)\n",
    "fig.show()"
   ]
  },
  {
   "cell_type": "markdown",
   "id": "91e98110",
   "metadata": {},
   "source": [
    "### GRU (Gated Recurrent Unit)"
   ]
  },
  {
   "cell_type": "code",
   "execution_count": null,
   "id": "36ea65a0",
   "metadata": {},
   "outputs": [],
   "source": [
    "# reshape input to be [samples, time steps, features] which is required for LSTM\n",
    "X_train =X_train.reshape(X_train.shape[0],X_train.shape[1] , 1)\n",
    "X_test = X_test.reshape(X_test.shape[0],X_test.shape[1] , 1)\n",
    "\n",
    "print(\"X_train: \", X_train.shape)\n",
    "print(\"X_test: \", X_test.shape)"
   ]
  },
  {
   "cell_type": "code",
   "execution_count": 435,
   "id": "421d21c0",
   "metadata": {},
   "outputs": [],
   "source": [
    "tf.keras.backend.clear_session()\n",
    "model=Sequential()\n",
    "model.add(GRU(32,return_sequences=True,input_shape=(time_step,1)))\n",
    "model.add(GRU(32,return_sequences=True))\n",
    "model.add(GRU(32,return_sequences=True))\n",
    "model.add(GRU(32))\n",
    "model.add(Dense(1))\n",
    "model.compile(loss='mean_squared_error',optimizer='adam')"
   ]
  },
  {
   "cell_type": "code",
   "execution_count": null,
   "id": "847d8765",
   "metadata": {},
   "outputs": [],
   "source": [
    "model.summary()"
   ]
  },
  {
   "cell_type": "code",
   "execution_count": null,
   "id": "32bf2c06",
   "metadata": {},
   "outputs": [],
   "source": [
    "model.fit(X_train,y_train,validation_data=(X_test,y_test),epochs=10,batch_size=32,verbose=1)"
   ]
  },
  {
   "cell_type": "code",
   "execution_count": null,
   "id": "7161afa7",
   "metadata": {},
   "outputs": [],
   "source": [
    "### Lets Do the prediction and check performance metrics\n",
    "train_predict=model.predict(X_train)\n",
    "test_predict=model.predict(X_test)\n",
    "train_predict.shape, test_predict.shape"
   ]
  },
  {
   "cell_type": "code",
   "execution_count": 439,
   "id": "328a364f",
   "metadata": {},
   "outputs": [],
   "source": [
    "# Transform back to original form\n",
    "\n",
    "train_predict = scaler.inverse_transform(train_predict)\n",
    "test_predict = scaler.inverse_transform(test_predict)\n",
    "original_ytrain = scaler.inverse_transform(y_train.reshape(-1,1)) \n",
    "original_ytest = scaler.inverse_transform(y_test.reshape(-1,1))"
   ]
  },
  {
   "cell_type": "markdown",
   "id": "d7b3c45f",
   "metadata": {},
   "source": [
    "### Evaluation metrices RMSE, MSE and MAE\n",
    "Root Mean Square Error (RMSE), Mean Square Error (MSE) and Mean absolute Error (MAE) are a standard way to measure the error of a model in predicting quantitative data."
   ]
  },
  {
   "cell_type": "code",
   "execution_count": null,
   "id": "92b81921",
   "metadata": {},
   "outputs": [],
   "source": [
    "# Evaluation metrices RMSE and MAE\n",
    "print(\"Train data RMSE: \", math.sqrt(mean_squared_error(original_ytrain,train_predict)))\n",
    "print(\"Train data MSE: \", mean_squared_error(original_ytrain,train_predict))\n",
    "print(\"Test data MAE: \", mean_absolute_error(original_ytrain,train_predict))\n",
    "print(\"-------------------------------------------------------------------------------------\")\n",
    "print(\"Test data RMSE: \", math.sqrt(mean_squared_error(original_ytest,test_predict)))\n",
    "print(\"Test data MSE: \", mean_squared_error(original_ytest,test_predict))\n",
    "print(\"Test data MAE: \", mean_absolute_error(original_ytest,test_predict))"
   ]
  },
  {
   "cell_type": "markdown",
   "id": "b58c8036",
   "metadata": {},
   "source": [
    "### Explained variance regression score\n",
    "The explained variance score explains the dispersion of errors of a given dataset, and the formula is written as follows: Here, and Var(y) is the variance of prediction errors and actual values respectively. Scores close to 1.0 are highly desired, indicating better squares of standard deviations of errors."
   ]
  },
  {
   "cell_type": "code",
   "execution_count": null,
   "id": "355099cc",
   "metadata": {},
   "outputs": [],
   "source": [
    "print(\"Train data explained variance regression score:\", explained_variance_score(original_ytrain, train_predict))\n",
    "print(\"Test data explained variance regression score:\", explained_variance_score(original_ytest, test_predict))"
   ]
  },
  {
   "cell_type": "markdown",
   "id": "86c0cd3c",
   "metadata": {},
   "source": [
    "### R2 score for regression\n",
    "R-squared (R2) is a statistical measure that represents the proportion of the variance for a dependent variable that's explained by an independent variable or variables in a regression model.\n",
    "\n",
    "1 = Best\n",
    "0 or < 0 = worse"
   ]
  },
  {
   "cell_type": "code",
   "execution_count": null,
   "id": "ff5739c0",
   "metadata": {},
   "outputs": [],
   "source": [
    "train_r2_gru=r2_score(original_ytrain, train_predict)\n",
    "test_r2_gru=r2_score(original_ytest, test_predict)\n",
    "print(\"Train data R2 score:\", train_r2_gru)\n",
    "print(\"Test data R2 score:\", test_r2_gru)"
   ]
  },
  {
   "cell_type": "markdown",
   "id": "9e21ed23",
   "metadata": {},
   "source": [
    "### Comparision between original stock close price vs predicted close price"
   ]
  },
  {
   "cell_type": "code",
   "execution_count": null,
   "id": "8c09b384",
   "metadata": {},
   "outputs": [],
   "source": [
    "# shift train predictions for plotting\n",
    "\n",
    "look_back=time_step\n",
    "trainPredictPlot = np.empty_like(closedf)\n",
    "trainPredictPlot[:, :] = np.nan\n",
    "trainPredictPlot[look_back:len(train_predict)+look_back, :] = train_predict\n",
    "print(\"Train predicted data: \", trainPredictPlot.shape)\n",
    "\n",
    "# shift test predictions for plotting\n",
    "testPredictPlot = np.empty_like(closedf)\n",
    "testPredictPlot[:, :] = np.nan\n",
    "testPredictPlot[len(train_predict)+(look_back*2)+1:len(closedf)-1, :] = test_predict\n",
    "print(\"Test predicted data: \", testPredictPlot.shape)\n",
    "\n",
    "\n",
    "names = cycle(['Original close price','Train predicted close price','Test predicted close price'])\n",
    "\n",
    "plotdf = pd.DataFrame({'Date': close_stock['Date'],\n",
    "                       'original_close': close_stock['Close'],\n",
    "                      'train_predicted_close': trainPredictPlot.reshape(1,-1)[0].tolist(),\n",
    "                      'test_predicted_close': testPredictPlot.reshape(1,-1)[0].tolist()})\n",
    "\n",
    "fig = px.line(plotdf,x=plotdf['Date'], y=[plotdf['original_close'],plotdf['train_predicted_close'],\n",
    "                                          plotdf['test_predicted_close']],\n",
    "              labels={'value':'Stock price','Date': 'Date'})\n",
    "fig.update_layout(title_text='Comparision between original close price vs predicted close price',\n",
    "                  plot_bgcolor='white', font_size=15, font_color='black',legend_title_text='Close Price')\n",
    "fig.for_each_trace(lambda t:  t.update(name = next(names)))\n",
    "\n",
    "fig.update_xaxes(showgrid=False)\n",
    "fig.update_yaxes(showgrid=False)\n",
    "fig.show()"
   ]
  },
  {
   "cell_type": "code",
   "execution_count": null,
   "id": "d41e41bc",
   "metadata": {},
   "outputs": [],
   "source": [
    "plotdf.head()"
   ]
  },
  {
   "cell_type": "markdown",
   "id": "3de522c9",
   "metadata": {},
   "source": [
    "### Predicting next 30 days"
   ]
  },
  {
   "cell_type": "code",
   "execution_count": null,
   "id": "213f0cd5",
   "metadata": {},
   "outputs": [],
   "source": [
    "x_input=test_data[len(test_data)-time_step:].reshape(1,-1)\n",
    "temp_input=list(x_input)\n",
    "temp_input=temp_input[0].tolist()\n",
    "\n",
    "from numpy import array\n",
    "\n",
    "lst_output=[]\n",
    "n_steps=time_step\n",
    "i=0\n",
    "pred_days = 30\n",
    "while(i<pred_days):\n",
    "    \n",
    "    if(len(temp_input)>time_step):\n",
    "        \n",
    "        x_input=np.array(temp_input[1:])\n",
    "        #print(\"{} day input {}\".format(i,x_input))\n",
    "        x_input = x_input.reshape(1,-1)\n",
    "        x_input = x_input.reshape((1, n_steps, 1))\n",
    "        \n",
    "        yhat = model.predict(x_input, verbose=0)\n",
    "        #print(\"{} day output {}\".format(i,yhat))\n",
    "        temp_input.extend(yhat[0].tolist())\n",
    "        temp_input=temp_input[1:]\n",
    "        #print(temp_input)\n",
    "       \n",
    "        lst_output.extend(yhat.tolist())\n",
    "        i=i+1\n",
    "        \n",
    "    else:\n",
    "        \n",
    "        x_input = x_input.reshape((1, n_steps,1))\n",
    "        yhat = model.predict(x_input, verbose=0)\n",
    "        temp_input.extend(yhat[0].tolist())\n",
    "        \n",
    "        lst_output.extend(yhat.tolist())\n",
    "        i=i+1\n",
    "               \n",
    "print(\"Output of predicted next days: \", len(lst_output))"
   ]
  },
  {
   "cell_type": "markdown",
   "id": "04ed2c98",
   "metadata": {},
   "source": [
    "### Plotting last 15 days and next predicted 30 days"
   ]
  },
  {
   "cell_type": "code",
   "execution_count": null,
   "id": "157ec636",
   "metadata": {},
   "outputs": [],
   "source": [
    "last_days=np.arange(1,time_step+1)\n",
    "day_pred=np.arange(time_step+1,time_step+pred_days+1)\n",
    "print(last_days)\n",
    "print(day_pred)"
   ]
  },
  {
   "cell_type": "code",
   "execution_count": 448,
   "id": "495c09d8",
   "metadata": {},
   "outputs": [],
   "source": [
    "temp_mat = np.empty((len(last_days)+pred_days+1,1))\n",
    "temp_mat[:] = np.nan\n",
    "temp_mat = temp_mat.reshape(1,-1).tolist()[0]\n",
    "\n",
    "last_original_days_value = temp_mat\n",
    "next_predicted_days_value = temp_mat\n",
    "\n",
    "last_original_days_value[0:time_step+1] = scaler.inverse_transform(closedf[len(closedf)-time_step:]).reshape(1,-1).tolist()[0]\n",
    "next_predicted_days_value[time_step+1:] = scaler.inverse_transform(np.array(lst_output).reshape(-1,1)).reshape(1,-1).tolist()[0]\n",
    "\n",
    "new_pred_plot = pd.DataFrame({\n",
    "    'last_original_days_value':last_original_days_value,\n",
    "    'next_predicted_days_value':next_predicted_days_value\n",
    "})\n",
    "names = cycle(['Last 15 days close price','Predicted next 30 days close price'])\n",
    "\n",
    "fig = px.line(new_pred_plot,x=new_pred_plot.index, y=[new_pred_plot['last_original_days_value'],\n",
    "                                                      new_pred_plot['next_predicted_days_value']],\n",
    "              labels={'value': 'Stock price','index': 'Timestamp'})\n",
    "fig.update_layout(title_text='Compare last 15 days vs next 30 days',\n",
    "                  plot_bgcolor='white', font_size=15, font_color='black', legend_title_text='Close Price')\n",
    "fig.for_each_trace(lambda t:  t.update(name = next(names)))\n",
    "\n",
    "fig.update_xaxes(showgrid=False)\n",
    "fig.update_yaxes(showgrid=False)\n",
    "fig.show()"
   ]
  },
  {
   "cell_type": "markdown",
   "id": "de47a61f",
   "metadata": {},
   "source": [
    "### Plotting whole closing stock price with prediction"
   ]
  },
  {
   "cell_type": "code",
   "execution_count": 449,
   "id": "7e60b859",
   "metadata": {},
   "outputs": [],
   "source": [
    "grudf=closedf.tolist()\n",
    "grudf.extend((np.array(lst_output).reshape(-1,1)).tolist())\n",
    "grudf=scaler.inverse_transform(grudf).reshape(1,-1).tolist()[0]\n",
    "\n",
    "names = cycle(['Close price'])\n",
    "fig = px.line(grudf,labels={'value': 'Stock price','index': 'Timestamp'})\n",
    "fig.update_layout(title_text='Plotting whole closing stock price with prediction',\n",
    "                  plot_bgcolor='white', font_size=15, font_color='black',legend_title_text='Stock')\n",
    "fig.for_each_trace(lambda t:  t.update(name = next(names)))\n",
    "\n",
    "fig.update_xaxes(showgrid=False)\n",
    "fig.update_yaxes(showgrid=False)\n",
    "fig.show()"
   ]
  },
  {
   "cell_type": "code",
   "execution_count": null,
   "id": "efc198fe",
   "metadata": {},
   "outputs": [],
   "source": [
    "finaldf = pd.DataFrame({\n",
    "    'svr':svrdf,\n",
    "    'rf':rfdf,\n",
    "    'knn':knndf,\n",
    "    'lstm':lstmdf,\n",
    "    'gru':grudf,\n",
    "})\n",
    "finaldf"
   ]
  },
  {
   "cell_type": "markdown",
   "id": "5e5dbad4",
   "metadata": {},
   "source": [
    "### Conclusion Chart"
   ]
  },
  {
   "cell_type": "code",
   "execution_count": null,
   "id": "9505d9e9",
   "metadata": {},
   "outputs": [],
   "source": [
    "names = cycle(['SVR', 'RF','KNN','LSTM','GRU'])\n",
    "\n",
    "fig = px.line(finaldf[225:], x=finaldf.index[225:], y=[finaldf['svr'][225:],finaldf['rf'][225:], finaldf['knn'][225:], \n",
    "                                          finaldf['lstm'][225:], finaldf['gru'][225:],],\n",
    "             labels={'x': 'Timestamp','value':'Stock close price'})\n",
    "fig.update_layout(title_text='Final stock analysis chart', font_size=15, font_color='black',legend_title_text='Algorithms')\n",
    "fig.for_each_trace(lambda t:  t.update(name = next(names)))\n",
    "fig.update_xaxes(showgrid=False)\n",
    "fig.update_yaxes(showgrid=False)\n",
    "\n",
    "fig.show()"
   ]
  },
  {
   "cell_type": "code",
   "execution_count": null,
   "id": "c5476388",
   "metadata": {},
   "outputs": [],
   "source": [
    "data={\"Model\": [\"SVR\", \"Random Forest\", \"KNN\", \"LSTM\", \"GRU\"],\n",
    "    \"Train R2 Score\": [train_r2_svr, train_r2_rf,train_r2_knn, train_r2_lstm, train_r2_gru],\n",
    "    \"Test R2 Score\": [test_r2_svr, test_r2_rf, test_r2_knn, test_r2_lstm, test_r2_gru]}\n",
    "df=pd.DataFrame(data)\n",
    "df"
   ]
  },
  {
   "attachments": {},
   "cell_type": "markdown",
   "id": "2de78812",
   "metadata": {},
   "source": [
    "#### By Looking into this table we can say that our LSTM model have best R2 scores in Training and Testing. So we are going to use LSTM model for our deployment part."
   ]
  },
  {
   "cell_type": "markdown",
   "id": "48c2fd4b",
   "metadata": {},
   "source": [
    "## "
   ]
  }
 ],
 "metadata": {
  "kernelspec": {
   "display_name": "Python 3",
   "language": "python",
   "name": "python3"
  },
  "language_info": {
   "codemirror_mode": {
    "name": "ipython",
    "version": 3
   },
   "file_extension": ".py",
   "mimetype": "text/x-python",
   "name": "python",
   "nbconvert_exporter": "python",
   "pygments_lexer": "ipython3",
   "version": "3.10.5"
  },
  "vscode": {
   "interpreter": {
    "hash": "5238573367df39f7286bb46f9ff5f08f63a01a80960060ce41e3c79b190280fa"
   }
  }
 },
 "nbformat": 4,
 "nbformat_minor": 5
}
