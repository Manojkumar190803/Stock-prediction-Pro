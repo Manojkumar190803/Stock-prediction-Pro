{
 "cells": [
  {
   "cell_type": "code",
   "execution_count": 2,
   "id": "592d36b0",
   "metadata": {},
   "outputs": [],
   "source": [
    "import pandas as pd\n",
    "import numpy as np\n",
    "import matplotlib.pyplot as plt\n",
    "import seaborn as sns\n",
    "import yfinance as yf\n",
    "\n",
    "import warnings\n",
    "warnings.filterwarnings(\"ignore\")"
   ]
  },
  {
   "cell_type": "code",
   "execution_count": 3,
   "id": "43846665",
   "metadata": {},
   "outputs": [
    {
     "name": "stderr",
     "output_type": "stream",
     "text": [
      "[*********************100%***********************]  1 of 1 completed\n"
     ]
    }
   ],
   "source": [
    "# Importing dataset\n",
    "data=yf.download('RELIANCE.NS', start='2000-1-1', end='2024-8-03').reset_index(drop=False)\n",
    "# data=yf.download('TATAMOTORS.NS', start='2000-1-1', end='2024-8-03').reset_index(drop=False)\n",
    "reliance_0 = pd.DataFrame(data)"
   ]
  },
  {
   "cell_type": "code",
   "execution_count": null,
   "id": "74a5c0dd",
   "metadata": {},
   "outputs": [
    {
     "ename": "NameError",
     "evalue": "name 'reliance' is not defined",
     "output_type": "error",
     "traceback": [
      "\u001b[1;31m---------------------------------------------------------------------------\u001b[0m",
      "\u001b[1;31mNameError\u001b[0m                                 Traceback (most recent call last)",
      "Cell \u001b[1;32mIn[4], line 1\u001b[0m\n\u001b[1;32m----> 1\u001b[0m \u001b[43mreliance\u001b[49m\u001b[38;5;241m.\u001b[39minfo()\n",
      "\u001b[1;31mNameError\u001b[0m: name 'reliance' is not defined"
     ]
    }
   ],
   "source": [
    "#reliance.info()"
   ]
  },
  {
   "cell_type": "markdown",
   "id": "d33921f8",
   "metadata": {},
   "source": [
    "## Model Building"
   ]
  },
  {
   "cell_type": "code",
   "execution_count": 5,
   "id": "9be9a5d8",
   "metadata": {},
   "outputs": [],
   "source": [
    "from sklearn.metrics import mean_squared_error, mean_absolute_error, explained_variance_score, r2_score \n",
    "from sklearn.preprocessing import MinMaxScaler\n",
    "\n",
    "import tensorflow as tf\n",
    "from tensorflow.keras.models import Sequential\n",
    "from tensorflow.keras.layers import Dense\n",
    "from tensorflow.keras.layers import LSTM\n",
    "\n",
    "from itertools import cycle\n",
    "\n",
    "import plotly.graph_objects as go\n",
    "import plotly.express as px"
   ]
  },
  {
   "cell_type": "code",
   "execution_count": 7,
   "id": "7d309a42",
   "metadata": {},
   "outputs": [
    {
     "ename": "NameError",
     "evalue": "name 'reliance' is not defined",
     "output_type": "error",
     "traceback": [
      "\u001b[1;31m---------------------------------------------------------------------------\u001b[0m",
      "\u001b[1;31mNameError\u001b[0m                                 Traceback (most recent call last)",
      "Cell \u001b[1;32mIn[7], line 1\u001b[0m\n\u001b[1;32m----> 1\u001b[0m \u001b[43mreliance\u001b[49m\n",
      "\u001b[1;31mNameError\u001b[0m: name 'reliance' is not defined"
     ]
    }
   ],
   "source": [
    "#reliance"
   ]
  },
  {
   "cell_type": "code",
   "execution_count": 7,
   "id": "60ddc1dd",
   "metadata": {},
   "outputs": [
    {
     "ename": "NameError",
     "evalue": "name 'reliance_data' is not defined",
     "output_type": "error",
     "traceback": [
      "\u001b[1;31m---------------------------------------------------------------------------\u001b[0m",
      "\u001b[1;31mNameError\u001b[0m                                 Traceback (most recent call last)",
      "Cell \u001b[1;32mIn[7], line 3\u001b[0m\n\u001b[0;32m      1\u001b[0m \u001b[38;5;66;03m# Creating dataframe which only includes date and close time\u001b[39;00m\n\u001b[1;32m----> 3\u001b[0m close_df\u001b[38;5;241m=\u001b[39mpd\u001b[38;5;241m.\u001b[39mDataFrame(\u001b[43mreliance_data\u001b[49m[\u001b[38;5;124m'\u001b[39m\u001b[38;5;124mClose\u001b[39m\u001b[38;5;124m'\u001b[39m])\n\u001b[0;32m      4\u001b[0m close_df\n",
      "\u001b[1;31mNameError\u001b[0m: name 'reliance_data' is not defined"
     ]
    }
   ],
   "source": [
    "# Creating dataframe which only includes date and close time\n",
    "\n",
    "close_df=pd.DataFrame(reliance_data['Close'])\n",
    "close_df"
   ]
  },
  {
   "cell_type": "code",
   "execution_count": 63,
   "id": "8c313cc2",
   "metadata": {},
   "outputs": [
    {
     "name": "stdout",
     "output_type": "stream",
     "text": [
      "(6134, 1)\n"
     ]
    }
   ],
   "source": [
    "print(close_df.shape)"
   ]
  },
  {
   "cell_type": "code",
   "execution_count": 64,
   "id": "3f5b028f",
   "metadata": {},
   "outputs": [],
   "source": [
    "close_df=close_df.reset_index()"
   ]
  },
  {
   "cell_type": "code",
   "execution_count": 65,
   "id": "5522e1fc",
   "metadata": {},
   "outputs": [
    {
     "data": {
      "text/plain": [
       "0      2000-01-03\n",
       "1      2000-01-04\n",
       "2      2000-01-05\n",
       "3      2000-01-06\n",
       "4      2000-01-07\n",
       "          ...    \n",
       "6129   2024-07-29\n",
       "6130   2024-07-30\n",
       "6131   2024-07-31\n",
       "6132   2024-08-01\n",
       "6133   2024-08-02\n",
       "Name: Date, Length: 6134, dtype: datetime64[ns]"
      ]
     },
     "execution_count": 65,
     "metadata": {},
     "output_type": "execute_result"
    }
   ],
   "source": [
    "close_df['Date']"
   ]
  },
  {
   "cell_type": "markdown",
   "id": "e890b112",
   "metadata": {},
   "source": [
    "### Normalizing / scaling close value between 0 to 1"
   ]
  },
  {
   "cell_type": "code",
   "execution_count": 66,
   "id": "f79fd1fb",
   "metadata": {},
   "outputs": [
    {
     "name": "stdout",
     "output_type": "stream",
     "text": [
      "(6134, 1)\n"
     ]
    }
   ],
   "source": [
    "close_stock = close_df.copy()\n",
    "del close_df['Date']\n",
    "scaler=MinMaxScaler(feature_range=(0,1))\n",
    "closedf=scaler.fit_transform(np.array(close_df).reshape(-1,1))\n",
    "print(closedf.shape)"
   ]
  },
  {
   "attachments": {},
   "cell_type": "markdown",
   "id": "13ce55e8",
   "metadata": {},
   "source": [
    "### Split data for training and testing\n",
    "- Ratio for training and testing data is 86:14"
   ]
  },
  {
   "cell_type": "code",
   "execution_count": 67,
   "id": "45c04695",
   "metadata": {},
   "outputs": [
    {
     "ename": "NameError",
     "evalue": "name 'closedf' is not defined",
     "output_type": "error",
     "traceback": [
      "\u001b[1;31m---------------------------------------------------------------------------\u001b[0m",
      "\u001b[1;31mNameError\u001b[0m                                 Traceback (most recent call last)",
      "Cell \u001b[1;32mIn[9], line 1\u001b[0m\n\u001b[1;32m----> 1\u001b[0m training_size\u001b[38;5;241m=\u001b[39m\u001b[38;5;28mint\u001b[39m(\u001b[38;5;28mlen\u001b[39m(\u001b[43mclosedf\u001b[49m)\u001b[38;5;241m*\u001b[39m\u001b[38;5;241m0.86\u001b[39m)\n\u001b[0;32m      2\u001b[0m test_size\u001b[38;5;241m=\u001b[39m\u001b[38;5;28mlen\u001b[39m(closedf)\u001b[38;5;241m-\u001b[39mtraining_size\n\u001b[0;32m      3\u001b[0m train_data,test_data\u001b[38;5;241m=\u001b[39mclosedf[\u001b[38;5;241m0\u001b[39m:training_size,:],closedf[training_size:\u001b[38;5;28mlen\u001b[39m(closedf),:\u001b[38;5;241m1\u001b[39m]\n",
      "\u001b[1;31mNameError\u001b[0m: name 'closedf' is not defined"
     ]
    }
   ],
   "source": [
    "training_size=int(len(closedf)*0.86)\n",
    "test_size=len(closedf)-training_size\n",
    "train_data,test_data=closedf[0:training_size,:],closedf[training_size:len(closedf),:1]\n",
    "print(\"train_data: \", train_data.shape)\n",
    "print(\"test_data: \", test_data.shape)"
   ]
  },
  {
   "cell_type": "markdown",
   "id": "9ceb14e9",
   "metadata": {},
   "source": [
    "### Create new dataset according to requirement of time-series prediction"
   ]
  },
  {
   "cell_type": "code",
   "execution_count": 68,
   "id": "b60dd295",
   "metadata": {},
   "outputs": [],
   "source": [
    "# convert an array of values into a dataset matrix\n",
    "def create_dataset(dataset, time_step=1):\n",
    "    dataX, dataY = [], []\n",
    "    for i in range(len(dataset)-time_step-1):\n",
    "        a = dataset[i:(i+time_step), 0]   ###i=0, 0,1,2,3-----99   100 \n",
    "        dataX.append(a)\n",
    "        dataY.append(dataset[i + time_step, 0])\n",
    "    return np.array(dataX), np.array(dataY)"
   ]
  },
  {
   "cell_type": "code",
   "execution_count": 69,
   "id": "a4042982",
   "metadata": {},
   "outputs": [
    {
     "name": "stdout",
     "output_type": "stream",
     "text": [
      "X_train:  (5261, 13)\n",
      "y_train:  (5261,)\n",
      "X_test:  (845, 13)\n",
      "y_test (845,)\n"
     ]
    }
   ],
   "source": [
    "# reshape into X=t,t+1,t+2,t+3 and Y=t+4\n",
    "time_step = 13\n",
    "X_train, y_train = create_dataset(train_data, time_step)\n",
    "X_test, y_test = create_dataset(test_data, time_step)\n",
    "\n",
    "print(\"X_train: \", X_train.shape)\n",
    "print(\"y_train: \", y_train.shape)\n",
    "print(\"X_test: \", X_test.shape)\n",
    "print(\"y_test\", y_test.shape)"
   ]
  },
  {
   "cell_type": "markdown",
   "id": "d464bc00",
   "metadata": {},
   "source": [
    "### LSTM"
   ]
  },
  {
   "cell_type": "code",
   "execution_count": 102,
   "id": "3406d380",
   "metadata": {},
   "outputs": [
    {
     "name": "stdout",
     "output_type": "stream",
     "text": [
      "X_train:  (5261, 13, 1)\n",
      "X_test:  (845, 13, 1)\n"
     ]
    }
   ],
   "source": [
    "# reshape input to be [samples, time steps, features] which is required for LSTM\n",
    "X_train =X_train.reshape(X_train.shape[0],X_train.shape[1] , 1)\n",
    "X_test = X_test.reshape(X_test.shape[0],X_test.shape[1] , 1)\n",
    "\n",
    "print(\"X_train: \", X_train.shape)\n",
    "print(\"X_test: \", X_test.shape)"
   ]
  },
  {
   "cell_type": "markdown",
   "id": "cb4ff685",
   "metadata": {},
   "source": [
    "### LSTM model structure"
   ]
  },
  {
   "cell_type": "code",
   "execution_count": 103,
   "id": "0663eb02",
   "metadata": {},
   "outputs": [
    {
     "name": "stdout",
     "output_type": "stream",
     "text": [
      "WARNING:tensorflow:From c:\\Users\\manoj\\AppData\\Local\\Programs\\Python\\Python310\\lib\\site-packages\\keras\\src\\backend\\common\\global_state.py:82: The name tf.reset_default_graph is deprecated. Please use tf.compat.v1.reset_default_graph instead.\n",
      "\n"
     ]
    }
   ],
   "source": [
    "tf.keras.backend.clear_session()\n",
    "model=Sequential()\n",
    "model.add(LSTM(32,return_sequences=True,input_shape=(time_step,1)))\n",
    "model.add(LSTM(32,return_sequences=True))\n",
    "model.add(LSTM(32))\n",
    "model.add(Dense(1))\n",
    "model.compile(loss='mean_squared_error',optimizer='adam')"
   ]
  },
  {
   "cell_type": "code",
   "execution_count": 104,
   "id": "c7534b81",
   "metadata": {
    "scrolled": true
   },
   "outputs": [
    {
     "data": {
      "text/html": [
       "<pre style=\"white-space:pre;overflow-x:auto;line-height:normal;font-family:Menlo,'DejaVu Sans Mono',consolas,'Courier New',monospace\"><span style=\"font-weight: bold\">Model: \"sequential\"</span>\n",
       "</pre>\n"
      ],
      "text/plain": [
       "\u001b[1mModel: \"sequential\"\u001b[0m\n"
      ]
     },
     "metadata": {},
     "output_type": "display_data"
    },
    {
     "data": {
      "text/html": [
       "<pre style=\"white-space:pre;overflow-x:auto;line-height:normal;font-family:Menlo,'DejaVu Sans Mono',consolas,'Courier New',monospace\">┏━━━━━━━━━━━━━━━━━━━━━━━━━━━━━━━━━┳━━━━━━━━━━━━━━━━━━━━━━━━┳━━━━━━━━━━━━━━━┓\n",
       "┃<span style=\"font-weight: bold\"> Layer (type)                    </span>┃<span style=\"font-weight: bold\"> Output Shape           </span>┃<span style=\"font-weight: bold\">       Param # </span>┃\n",
       "┡━━━━━━━━━━━━━━━━━━━━━━━━━━━━━━━━━╇━━━━━━━━━━━━━━━━━━━━━━━━╇━━━━━━━━━━━━━━━┩\n",
       "│ lstm (<span style=\"color: #0087ff; text-decoration-color: #0087ff\">LSTM</span>)                     │ (<span style=\"color: #00d7ff; text-decoration-color: #00d7ff\">None</span>, <span style=\"color: #00af00; text-decoration-color: #00af00\">13</span>, <span style=\"color: #00af00; text-decoration-color: #00af00\">32</span>)         │         <span style=\"color: #00af00; text-decoration-color: #00af00\">4,352</span> │\n",
       "├─────────────────────────────────┼────────────────────────┼───────────────┤\n",
       "│ lstm_1 (<span style=\"color: #0087ff; text-decoration-color: #0087ff\">LSTM</span>)                   │ (<span style=\"color: #00d7ff; text-decoration-color: #00d7ff\">None</span>, <span style=\"color: #00af00; text-decoration-color: #00af00\">13</span>, <span style=\"color: #00af00; text-decoration-color: #00af00\">32</span>)         │         <span style=\"color: #00af00; text-decoration-color: #00af00\">8,320</span> │\n",
       "├─────────────────────────────────┼────────────────────────┼───────────────┤\n",
       "│ lstm_2 (<span style=\"color: #0087ff; text-decoration-color: #0087ff\">LSTM</span>)                   │ (<span style=\"color: #00d7ff; text-decoration-color: #00d7ff\">None</span>, <span style=\"color: #00af00; text-decoration-color: #00af00\">32</span>)             │         <span style=\"color: #00af00; text-decoration-color: #00af00\">8,320</span> │\n",
       "├─────────────────────────────────┼────────────────────────┼───────────────┤\n",
       "│ dense (<span style=\"color: #0087ff; text-decoration-color: #0087ff\">Dense</span>)                   │ (<span style=\"color: #00d7ff; text-decoration-color: #00d7ff\">None</span>, <span style=\"color: #00af00; text-decoration-color: #00af00\">1</span>)              │            <span style=\"color: #00af00; text-decoration-color: #00af00\">33</span> │\n",
       "└─────────────────────────────────┴────────────────────────┴───────────────┘\n",
       "</pre>\n"
      ],
      "text/plain": [
       "┏━━━━━━━━━━━━━━━━━━━━━━━━━━━━━━━━━┳━━━━━━━━━━━━━━━━━━━━━━━━┳━━━━━━━━━━━━━━━┓\n",
       "┃\u001b[1m \u001b[0m\u001b[1mLayer (type)                   \u001b[0m\u001b[1m \u001b[0m┃\u001b[1m \u001b[0m\u001b[1mOutput Shape          \u001b[0m\u001b[1m \u001b[0m┃\u001b[1m \u001b[0m\u001b[1m      Param #\u001b[0m\u001b[1m \u001b[0m┃\n",
       "┡━━━━━━━━━━━━━━━━━━━━━━━━━━━━━━━━━╇━━━━━━━━━━━━━━━━━━━━━━━━╇━━━━━━━━━━━━━━━┩\n",
       "│ lstm (\u001b[38;5;33mLSTM\u001b[0m)                     │ (\u001b[38;5;45mNone\u001b[0m, \u001b[38;5;34m13\u001b[0m, \u001b[38;5;34m32\u001b[0m)         │         \u001b[38;5;34m4,352\u001b[0m │\n",
       "├─────────────────────────────────┼────────────────────────┼───────────────┤\n",
       "│ lstm_1 (\u001b[38;5;33mLSTM\u001b[0m)                   │ (\u001b[38;5;45mNone\u001b[0m, \u001b[38;5;34m13\u001b[0m, \u001b[38;5;34m32\u001b[0m)         │         \u001b[38;5;34m8,320\u001b[0m │\n",
       "├─────────────────────────────────┼────────────────────────┼───────────────┤\n",
       "│ lstm_2 (\u001b[38;5;33mLSTM\u001b[0m)                   │ (\u001b[38;5;45mNone\u001b[0m, \u001b[38;5;34m32\u001b[0m)             │         \u001b[38;5;34m8,320\u001b[0m │\n",
       "├─────────────────────────────────┼────────────────────────┼───────────────┤\n",
       "│ dense (\u001b[38;5;33mDense\u001b[0m)                   │ (\u001b[38;5;45mNone\u001b[0m, \u001b[38;5;34m1\u001b[0m)              │            \u001b[38;5;34m33\u001b[0m │\n",
       "└─────────────────────────────────┴────────────────────────┴───────────────┘\n"
      ]
     },
     "metadata": {},
     "output_type": "display_data"
    },
    {
     "data": {
      "text/html": [
       "<pre style=\"white-space:pre;overflow-x:auto;line-height:normal;font-family:Menlo,'DejaVu Sans Mono',consolas,'Courier New',monospace\"><span style=\"font-weight: bold\"> Total params: </span><span style=\"color: #00af00; text-decoration-color: #00af00\">21,025</span> (82.13 KB)\n",
       "</pre>\n"
      ],
      "text/plain": [
       "\u001b[1m Total params: \u001b[0m\u001b[38;5;34m21,025\u001b[0m (82.13 KB)\n"
      ]
     },
     "metadata": {},
     "output_type": "display_data"
    },
    {
     "data": {
      "text/html": [
       "<pre style=\"white-space:pre;overflow-x:auto;line-height:normal;font-family:Menlo,'DejaVu Sans Mono',consolas,'Courier New',monospace\"><span style=\"font-weight: bold\"> Trainable params: </span><span style=\"color: #00af00; text-decoration-color: #00af00\">21,025</span> (82.13 KB)\n",
       "</pre>\n"
      ],
      "text/plain": [
       "\u001b[1m Trainable params: \u001b[0m\u001b[38;5;34m21,025\u001b[0m (82.13 KB)\n"
      ]
     },
     "metadata": {},
     "output_type": "display_data"
    },
    {
     "data": {
      "text/html": [
       "<pre style=\"white-space:pre;overflow-x:auto;line-height:normal;font-family:Menlo,'DejaVu Sans Mono',consolas,'Courier New',monospace\"><span style=\"font-weight: bold\"> Non-trainable params: </span><span style=\"color: #00af00; text-decoration-color: #00af00\">0</span> (0.00 B)\n",
       "</pre>\n"
      ],
      "text/plain": [
       "\u001b[1m Non-trainable params: \u001b[0m\u001b[38;5;34m0\u001b[0m (0.00 B)\n"
      ]
     },
     "metadata": {},
     "output_type": "display_data"
    }
   ],
   "source": [
    "model.summary()"
   ]
  },
  {
   "cell_type": "code",
   "execution_count": null,
   "id": "66ba8eab",
   "metadata": {
    "scrolled": true
   },
   "outputs": [
    {
     "name": "stdout",
     "output_type": "stream",
     "text": [
      "Epoch 1/100\n",
      "\u001b[1m165/165\u001b[0m \u001b[32m━━━━━━━━━━━━━━━━━━━━\u001b[0m\u001b[37m\u001b[0m \u001b[1m8s\u001b[0m 18ms/step - loss: 0.0064 - val_loss: 0.0026\n",
      "Epoch 2/100\n",
      "\u001b[1m165/165\u001b[0m \u001b[32m━━━━━━━━━━━━━━━━━━━━\u001b[0m\u001b[37m\u001b[0m \u001b[1m3s\u001b[0m 15ms/step - loss: 1.2159e-04 - val_loss: 0.0042\n",
      "Epoch 3/100\n",
      "\u001b[1m165/165\u001b[0m \u001b[32m━━━━━━━━━━━━━━━━━━━━\u001b[0m\u001b[37m\u001b[0m \u001b[1m2s\u001b[0m 15ms/step - loss: 1.2480e-04 - val_loss: 0.0025\n",
      "Epoch 4/100\n",
      "\u001b[1m165/165\u001b[0m \u001b[32m━━━━━━━━━━━━━━━━━━━━\u001b[0m\u001b[37m\u001b[0m \u001b[1m3s\u001b[0m 16ms/step - loss: 1.2532e-04 - val_loss: 0.0031\n",
      "Epoch 5/100\n",
      "\u001b[1m165/165\u001b[0m \u001b[32m━━━━━━━━━━━━━━━━━━━━\u001b[0m\u001b[37m\u001b[0m \u001b[1m3s\u001b[0m 16ms/step - loss: 1.1768e-04 - val_loss: 0.0028\n",
      "Epoch 6/100\n",
      "\u001b[1m165/165\u001b[0m \u001b[32m━━━━━━━━━━━━━━━━━━━━\u001b[0m\u001b[37m\u001b[0m \u001b[1m3s\u001b[0m 16ms/step - loss: 1.3078e-04 - val_loss: 0.0022\n",
      "Epoch 7/100\n",
      "\u001b[1m165/165\u001b[0m \u001b[32m━━━━━━━━━━━━━━━━━━━━\u001b[0m\u001b[37m\u001b[0m \u001b[1m3s\u001b[0m 15ms/step - loss: 1.3191e-04 - val_loss: 0.0016\n",
      "Epoch 8/100\n",
      "\u001b[1m165/165\u001b[0m \u001b[32m━━━━━━━━━━━━━━━━━━━━\u001b[0m\u001b[37m\u001b[0m \u001b[1m2s\u001b[0m 15ms/step - loss: 1.2101e-04 - val_loss: 0.0028\n",
      "Epoch 9/100\n",
      "\u001b[1m165/165\u001b[0m \u001b[32m━━━━━━━━━━━━━━━━━━━━\u001b[0m\u001b[37m\u001b[0m \u001b[1m3s\u001b[0m 17ms/step - loss: 9.9857e-05 - val_loss: 0.0010\n",
      "Epoch 10/100\n",
      "\u001b[1m165/165\u001b[0m \u001b[32m━━━━━━━━━━━━━━━━━━━━\u001b[0m\u001b[37m\u001b[0m \u001b[1m3s\u001b[0m 18ms/step - loss: 1.0361e-04 - val_loss: 0.0012\n",
      "Epoch 11/100\n",
      "\u001b[1m165/165\u001b[0m \u001b[32m━━━━━━━━━━━━━━━━━━━━\u001b[0m\u001b[37m\u001b[0m \u001b[1m3s\u001b[0m 17ms/step - loss: 9.8213e-05 - val_loss: 0.0037\n",
      "Epoch 12/100\n",
      "\u001b[1m165/165\u001b[0m \u001b[32m━━━━━━━━━━━━━━━━━━━━\u001b[0m\u001b[37m\u001b[0m \u001b[1m3s\u001b[0m 19ms/step - loss: 1.1942e-04 - val_loss: 0.0016\n",
      "Epoch 13/100\n",
      "\u001b[1m165/165\u001b[0m \u001b[32m━━━━━━━━━━━━━━━━━━━━\u001b[0m\u001b[37m\u001b[0m \u001b[1m3s\u001b[0m 19ms/step - loss: 1.1861e-04 - val_loss: 0.0012\n",
      "Epoch 14/100\n",
      "\u001b[1m165/165\u001b[0m \u001b[32m━━━━━━━━━━━━━━━━━━━━\u001b[0m\u001b[37m\u001b[0m \u001b[1m3s\u001b[0m 18ms/step - loss: 1.0007e-04 - val_loss: 6.4809e-04\n",
      "Epoch 15/100\n",
      "\u001b[1m165/165\u001b[0m \u001b[32m━━━━━━━━━━━━━━━━━━━━\u001b[0m\u001b[37m\u001b[0m \u001b[1m3s\u001b[0m 17ms/step - loss: 8.9616e-05 - val_loss: 9.9299e-04\n",
      "Epoch 16/100\n",
      "\u001b[1m165/165\u001b[0m \u001b[32m━━━━━━━━━━━━━━━━━━━━\u001b[0m\u001b[37m\u001b[0m \u001b[1m3s\u001b[0m 16ms/step - loss: 9.8444e-05 - val_loss: 5.3339e-04\n",
      "Epoch 17/100\n",
      "\u001b[1m165/165\u001b[0m \u001b[32m━━━━━━━━━━━━━━━━━━━━\u001b[0m\u001b[37m\u001b[0m \u001b[1m3s\u001b[0m 18ms/step - loss: 9.1034e-05 - val_loss: 5.7971e-04\n",
      "Epoch 18/100\n",
      "\u001b[1m165/165\u001b[0m \u001b[32m━━━━━━━━━━━━━━━━━━━━\u001b[0m\u001b[37m\u001b[0m \u001b[1m3s\u001b[0m 20ms/step - loss: 7.4387e-05 - val_loss: 7.9356e-04\n",
      "Epoch 19/100\n",
      "\u001b[1m165/165\u001b[0m \u001b[32m━━━━━━━━━━━━━━━━━━━━\u001b[0m\u001b[37m\u001b[0m \u001b[1m4s\u001b[0m 21ms/step - loss: 7.1527e-05 - val_loss: 4.3328e-04\n",
      "Epoch 20/100\n",
      "\u001b[1m165/165\u001b[0m \u001b[32m━━━━━━━━━━━━━━━━━━━━\u001b[0m\u001b[37m\u001b[0m \u001b[1m5s\u001b[0m 20ms/step - loss: 7.4798e-05 - val_loss: 3.0700e-04\n",
      "Epoch 21/100\n",
      "\u001b[1m165/165\u001b[0m \u001b[32m━━━━━━━━━━━━━━━━━━━━\u001b[0m\u001b[37m\u001b[0m \u001b[1m3s\u001b[0m 18ms/step - loss: 6.3926e-05 - val_loss: 2.8861e-04\n",
      "Epoch 22/100\n",
      "\u001b[1m165/165\u001b[0m \u001b[32m━━━━━━━━━━━━━━━━━━━━\u001b[0m\u001b[37m\u001b[0m \u001b[1m4s\u001b[0m 24ms/step - loss: 6.1090e-05 - val_loss: 0.0034\n",
      "Epoch 23/100\n",
      "\u001b[1m165/165\u001b[0m \u001b[32m━━━━━━━━━━━━━━━━━━━━\u001b[0m\u001b[37m\u001b[0m \u001b[1m4s\u001b[0m 22ms/step - loss: 7.7782e-05 - val_loss: 6.9511e-04\n",
      "Epoch 24/100\n",
      "\u001b[1m165/165\u001b[0m \u001b[32m━━━━━━━━━━━━━━━━━━━━\u001b[0m\u001b[37m\u001b[0m \u001b[1m3s\u001b[0m 19ms/step - loss: 5.6968e-05 - val_loss: 2.4008e-04\n",
      "Epoch 25/100\n",
      "\u001b[1m165/165\u001b[0m \u001b[32m━━━━━━━━━━━━━━━━━━━━\u001b[0m\u001b[37m\u001b[0m \u001b[1m3s\u001b[0m 18ms/step - loss: 4.8081e-05 - val_loss: 2.3551e-04\n",
      "Epoch 26/100\n",
      "\u001b[1m165/165\u001b[0m \u001b[32m━━━━━━━━━━━━━━━━━━━━\u001b[0m\u001b[37m\u001b[0m \u001b[1m3s\u001b[0m 18ms/step - loss: 5.0910e-05 - val_loss: 8.4859e-04\n",
      "Epoch 27/100\n",
      "\u001b[1m165/165\u001b[0m \u001b[32m━━━━━━━━━━━━━━━━━━━━\u001b[0m\u001b[37m\u001b[0m \u001b[1m3s\u001b[0m 20ms/step - loss: 4.7052e-05 - val_loss: 5.8221e-04\n",
      "Epoch 28/100\n",
      "\u001b[1m165/165\u001b[0m \u001b[32m━━━━━━━━━━━━━━━━━━━━\u001b[0m\u001b[37m\u001b[0m \u001b[1m6s\u001b[0m 22ms/step - loss: 4.8556e-05 - val_loss: 2.0802e-04\n",
      "Epoch 29/100\n",
      "\u001b[1m160/165\u001b[0m \u001b[32m━━━━━━━━━━━━━━━━━━━\u001b[0m\u001b[37m━\u001b[0m \u001b[1m0s\u001b[0m 18ms/step - loss: 3.3186e-05"
     ]
    }
   ],
   "source": [
    "model.fit(X_train,y_train,validation_data=(X_test,y_test),epochs=100,batch_size=32,verbose=1)"
   ]
  },
  {
   "cell_type": "code",
   "execution_count": null,
   "id": "25c41f6a",
   "metadata": {},
   "outputs": [],
   "source": [
    "### Lets Do the prediction and check performance metrics\n",
    "train_predict=model.predict(X_train)\n",
    "test_predict=model.predict(X_test)\n",
    "train_predict.shape, test_predict.shape"
   ]
  },
  {
   "cell_type": "code",
   "execution_count": 76,
   "id": "e72998de",
   "metadata": {},
   "outputs": [],
   "source": [
    "# Transform back to original form\n",
    "\n",
    "train_predict = scaler.inverse_transform(train_predict)\n",
    "test_predict = scaler.inverse_transform(test_predict)\n",
    "original_ytrain = scaler.inverse_transform(y_train.reshape(-1,1)) \n",
    "original_ytest = scaler.inverse_transform(y_test.reshape(-1,1)) "
   ]
  },
  {
   "cell_type": "markdown",
   "id": "7f302189",
   "metadata": {},
   "source": [
    "### Evaluation metrices RMSE, MSE and MAE\n",
    "Root Mean Square Error (RMSE), Mean Square Error (MSE) and Mean absolute Error (MAE) are a standard way to measure the error of a model in predicting quantitative data."
   ]
  },
  {
   "cell_type": "code",
   "execution_count": null,
   "id": "66448f41",
   "metadata": {},
   "outputs": [],
   "source": [
    "# Evaluation metrices RMSE and MAE\n",
    "print(\"Train data RMSE: \", math.sqrt(mean_squared_error(original_ytrain,train_predict)))\n",
    "print(\"Train data MSE: \", mean_squared_error(original_ytrain,train_predict))\n",
    "print(\"Test data MAE: \", mean_absolute_error(original_ytrain,train_predict))\n",
    "print(\"-------------------------------------------------------------------------------------\")\n",
    "print(\"Test data RMSE: \", math.sqrt(mean_squared_error(original_ytest,test_predict)))\n",
    "print(\"Test data MSE: \", mean_squared_error(original_ytest,test_predict))\n",
    "print(\"Test data MAE: \", mean_absolute_error(original_ytest,test_predict))"
   ]
  },
  {
   "cell_type": "markdown",
   "id": "81352213",
   "metadata": {},
   "source": [
    "### Explained variance regression score\n",
    "The explained variance score explains the dispersion of errors of a given dataset, and the formula is written as follows: Here, and Var(y) is the variance of prediction errors and actual values respectively. Scores close to 1.0 are highly desired, indicating better squares of standard deviations of errors."
   ]
  },
  {
   "cell_type": "code",
   "execution_count": null,
   "id": "47d83832",
   "metadata": {},
   "outputs": [],
   "source": [
    "print(\"Train data explained variance regression score:\", explained_variance_score(original_ytrain, train_predict))\n",
    "print(\"Test data explained variance regression score:\", explained_variance_score(original_ytest, test_predict))"
   ]
  },
  {
   "cell_type": "markdown",
   "id": "e097e64c",
   "metadata": {},
   "source": [
    "### R2 score for regression\n",
    "R-squared (R2) is a statistical measure that represents the proportion of the variance for a dependent variable that's explained by an independent variable or variables in a regression model.\n",
    "\n",
    "1 = Best\n",
    "0 or < 0 = worse"
   ]
  },
  {
   "cell_type": "code",
   "execution_count": null,
   "id": "a32398f6",
   "metadata": {},
   "outputs": [],
   "source": [
    "train_r2_lstm=r2_score(original_ytrain, train_predict)\n",
    "test_r2_lstm=r2_score(original_ytest, test_predict)\n",
    "print(\"Train data R2 score:\", train_r2_lstm)\n",
    "print(\"Test data R2 score:\", test_r2_lstm)"
   ]
  },
  {
   "cell_type": "markdown",
   "id": "fcf89b4b",
   "metadata": {},
   "source": [
    "### Comparision between original stock close price vs predicted close price"
   ]
  },
  {
   "cell_type": "code",
   "execution_count": null,
   "id": "7e3da9b1",
   "metadata": {},
   "outputs": [],
   "source": [
    "# shift train predictions for plotting\n",
    "\n",
    "look_back=time_step\n",
    "trainPredictPlot = np.empty_like(closedf)\n",
    "trainPredictPlot[:, :] = np.nan\n",
    "trainPredictPlot[look_back:len(train_predict)+look_back, :] = train_predict\n",
    "print(\"Train predicted data: \", trainPredictPlot.shape)\n",
    "\n",
    "# shift test predictions for plotting\n",
    "testPredictPlot = np.empty_like(closedf)\n",
    "testPredictPlot[:, :] = np.nan\n",
    "testPredictPlot[len(train_predict)+(look_back*2)+1:len(closedf)-1, :] = test_predict\n",
    "print(\"Test predicted data: \", testPredictPlot.shape)\n",
    "\n",
    "names = cycle(['Original close price','Train predicted close price','Test predicted close price'])\n",
    "\n",
    "\n",
    "plotdf = pd.DataFrame({'Date': close_stock['Date'],\n",
    "                       'original_close': close_stock['Close'],\n",
    "                      'train_predicted_close': trainPredictPlot.reshape(1,-1)[0].tolist(),\n",
    "                      'test_predicted_close': testPredictPlot.reshape(1,-1)[0].tolist()})\n",
    "\n",
    "fig = px.line(plotdf,x=plotdf['Date'], y=[plotdf['original_close'],plotdf['train_predicted_close'],\n",
    "                                          plotdf['test_predicted_close']],\n",
    "              labels={'value':'Stock price','Date': 'Date'})\n",
    "fig.update_layout(title_text='Comparision between original close price vs predicted close price',\n",
    "                  plot_bgcolor='white', font_size=15, font_color='black', legend_title_text='Close Price')\n",
    "fig.for_each_trace(lambda t:  t.update(name = next(names)))\n",
    "\n",
    "fig.update_xaxes(showgrid=False)\n",
    "fig.update_yaxes(showgrid=False)\n",
    "fig.show()"
   ]
  },
  {
   "cell_type": "markdown",
   "id": "d150e225",
   "metadata": {},
   "source": [
    "### Predicting next 30 days"
   ]
  },
  {
   "cell_type": "code",
   "execution_count": null,
   "id": "2476f240",
   "metadata": {},
   "outputs": [],
   "source": [
    "x_input=test_data[len(test_data)-time_step:].reshape(1,-1)\n",
    "temp_input=list(x_input)\n",
    "temp_input=temp_input[0].tolist()\n",
    "\n",
    "from numpy import array\n",
    "\n",
    "lst_output=[]\n",
    "n_steps=time_step\n",
    "i=0\n",
    "pred_days = 30\n",
    "while(i<pred_days):\n",
    "    \n",
    "    if(len(temp_input)>time_step):\n",
    "        \n",
    "        x_input=np.array(temp_input[1:])\n",
    "        #print(\"{} day input {}\".format(i,x_input))\n",
    "        x_input = x_input.reshape(1,-1)\n",
    "        x_input = x_input.reshape((1, n_steps, 1))\n",
    "        \n",
    "        yhat = model.predict(x_input, verbose=0)\n",
    "        #print(\"{} day output {}\".format(i,yhat))\n",
    "        temp_input.extend(yhat[0].tolist())\n",
    "        temp_input=temp_input[1:]\n",
    "        #print(temp_input)\n",
    "       \n",
    "        lst_output.extend(yhat.tolist())\n",
    "        i=i+1\n",
    "        \n",
    "    else:\n",
    "        \n",
    "        x_input = x_input.reshape((1, n_steps,1))\n",
    "        yhat = model.predict(x_input, verbose=0)\n",
    "        temp_input.extend(yhat[0].tolist())\n",
    "        \n",
    "        lst_output.extend(yhat.tolist())\n",
    "        i=i+1\n",
    "               \n",
    "print(\"Output of predicted next days: \", len(lst_output))"
   ]
  },
  {
   "cell_type": "markdown",
   "id": "033ba838",
   "metadata": {},
   "source": [
    "### Plotting last 15 days and next predicted 30 days"
   ]
  },
  {
   "cell_type": "code",
   "execution_count": null,
   "id": "d2c3ecbd",
   "metadata": {},
   "outputs": [],
   "source": [
    "last_days=np.arange(1,time_step+1)\n",
    "day_pred=np.arange(time_step+1,time_step+pred_days+1)\n",
    "print(last_days)\n",
    "print(day_pred)"
   ]
  },
  {
   "cell_type": "code",
   "execution_count": null,
   "id": "6adab7d3",
   "metadata": {},
   "outputs": [],
   "source": [
    "temp_mat = np.empty((len(last_days)+pred_days+1,1))\n",
    "temp_mat[:] = np.nan\n",
    "temp_mat = temp_mat.reshape(1,-1).tolist()[0]\n",
    "\n",
    "last_original_days_value = temp_mat\n",
    "next_predicted_days_value = temp_mat\n",
    "\n",
    "last_original_days_value[0:time_step+1] = scaler.inverse_transform(closedf[len(closedf)-time_step:]).reshape(1,-1).tolist()[0]\n",
    "next_predicted_days_value[time_step+1:] = scaler.inverse_transform(np.array(lst_output).reshape(-1,1)).reshape(1,-1).tolist()[0]\n",
    "\n",
    "new_pred_plot = pd.DataFrame({\n",
    "    'last_original_days_value':last_original_days_value,\n",
    "    'next_predicted_days_value':next_predicted_days_value\n",
    "})\n",
    "\n",
    "names = cycle(['Last 15 days close price','Predicted next 30 days close price'])\n",
    "\n",
    "fig = px.line(new_pred_plot,x=new_pred_plot.index, y=[new_pred_plot['last_original_days_value'],\n",
    "                                                      new_pred_plot['next_predicted_days_value']],\n",
    "              labels={'value': 'Stock price','index': 'Timestamp'})\n",
    "fig.update_layout(title_text='Compare last 15 days vs next 30 days',\n",
    "                  plot_bgcolor='white', font_size=15, font_color='black',legend_title_text='Close Price')\n",
    "\n",
    "fig.for_each_trace(lambda t:  t.update(name = next(names)))\n",
    "fig.update_xaxes(showgrid=False)\n",
    "fig.update_yaxes(showgrid=False)\n",
    "fig.show()"
   ]
  },
  {
   "cell_type": "markdown",
   "id": "de90777a",
   "metadata": {},
   "source": [
    "### Plotting whole closing stock price with prediction"
   ]
  },
  {
   "cell_type": "code",
   "execution_count": null,
   "id": "788a8bb6",
   "metadata": {},
   "outputs": [],
   "source": [
    "lstmdf=closedf.tolist()\n",
    "lstmdf.extend((np.array(lst_output).reshape(-1,1)).tolist())\n",
    "lstmdf=scaler.inverse_transform(lstmdf).reshape(1,-1).tolist()[0]\n",
    "\n",
    "names = cycle(['Close price'])\n",
    "\n",
    "fig = px.line(lstmdf,labels={'value': 'Stock price','index': 'Timestamp'})\n",
    "fig.update_layout(title_text='Plotting whole closing stock price with prediction',\n",
    "                  plot_bgcolor='white', font_size=15, font_color='black',legend_title_text='Stock')\n",
    "\n",
    "fig.for_each_trace(lambda t:  t.update(name = next(names)))\n",
    "\n",
    "fig.update_xaxes(showgrid=False)\n",
    "fig.update_yaxes(showgrid=False)\n",
    "fig.show()"
   ]
  },
  {
   "cell_type": "markdown",
   "id": "48c2fd4b",
   "metadata": {},
   "source": [
    "## "
   ]
  }
 ],
 "metadata": {
  "kernelspec": {
   "display_name": "Python 3",
   "language": "python",
   "name": "python3"
  },
  "language_info": {
   "codemirror_mode": {
    "name": "ipython",
    "version": 3
   },
   "file_extension": ".py",
   "mimetype": "text/x-python",
   "name": "python",
   "nbconvert_exporter": "python",
   "pygments_lexer": "ipython3",
   "version": "3.10.5"
  },
  "vscode": {
   "interpreter": {
    "hash": "5238573367df39f7286bb46f9ff5f08f63a01a80960060ce41e3c79b190280fa"
   }
  }
 },
 "nbformat": 4,
 "nbformat_minor": 5
}
