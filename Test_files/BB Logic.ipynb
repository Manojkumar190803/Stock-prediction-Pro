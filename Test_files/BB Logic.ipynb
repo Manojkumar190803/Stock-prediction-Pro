{
  "cells": [
    {
      "cell_type": "code",
      "execution_count": null,
      "metadata": {
        "colab": {
          "base_uri": "https://localhost:8080/"
        },
        "id": "hp-GzZPTHAmi",
        "outputId": "92f22bc6-9e36-4ea3-bfcf-09414faef1b7"
      },
      "outputs": [],
      "source": [
        "import pandas as pd\n",
        "import yfinance as yf\n",
        "\n",
        "def calculate_bollinger_bands(ticker_symbol, period='1y', window=20, num_std_dev=2):\n",
        "    try:\n",
        "        ticker_data = yf.Ticker(ticker_symbol)\n",
        "        df = ticker_data.history(period=period)\n",
        "\n",
        "        if len(df) < window:\n",
        "            print(f\"Error: Not enough data for Bollinger Bands calculation for {ticker_symbol}.\")\n",
        "            return None\n",
        "\n",
        "        df['SMA'] = df['Close'].rolling(window=window).mean()\n",
        "        df['SD'] = df['Close'].rolling(window=window).std()\n",
        "        df['Upper Band'] = df['SMA'] + num_std_dev * df['SD']\n",
        "        df['Lower Band'] = df['SMA'] - num_std_dev * df['SD']\n",
        "\n",
        "        return df[['Close', 'SMA', 'Upper Band', 'Lower Band']]\n",
        "    except Exception as e:\n",
        "        print(f\"Error calculating Bollinger Bands for {ticker_symbol}: {e}\")\n",
        "        return None\n"
      ]
    }
  ],
  "metadata": {
    "colab": {
      "authorship_tag": "ABX9TyPVGprKY3JEIJpZhpL3C1gj",
      "provenance": []
    },
    "kernelspec": {
      "display_name": "Python 3",
      "name": "python3"
    },
    "language_info": {
      "name": "python"
    }
  },
  "nbformat": 4,
  "nbformat_minor": 0
}
